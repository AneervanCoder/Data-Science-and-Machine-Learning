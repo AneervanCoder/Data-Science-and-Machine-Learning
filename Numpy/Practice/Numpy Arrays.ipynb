{
 "cells": [
  {
   "cell_type": "code",
   "execution_count": 1,
   "metadata": {},
   "outputs": [
    {
     "name": "stdout",
     "output_type": "stream",
     "text": [
      "array('f', [11.0, 22.0, 33.0, 44.5])\n",
      "<class 'array.array'>\n",
      "11.0\n"
     ]
    }
   ],
   "source": [
    "import array\n",
    "k = array.array('f',[11,22,33,44.5])\n",
    "print(k)\n",
    "print(type(k))\n",
    "print(k[0])"
   ]
  },
  {
   "cell_type": "code",
   "execution_count": 2,
   "metadata": {},
   "outputs": [],
   "source": [
    "import numpy as np"
   ]
  },
  {
   "cell_type": "code",
   "execution_count": 4,
   "metadata": {},
   "outputs": [
    {
     "name": "stdout",
     "output_type": "stream",
     "text": [
      "['11' '22.2' 'python']\n",
      "Data type of k1:  <class 'numpy.ndarray'>\n",
      "Values are:  ['11' '22.2' 'python']\n",
      "Data type of elements:  <U32\n"
     ]
    }
   ],
   "source": [
    "k = [11, 22.2, 'python']\n",
    "k1 = np.array(k)\n",
    "print(k1)\n",
    "print(\"Data type of k1: \", type(k1))\n",
    "print(\"Values are: \", k1)\n",
    "print(\"Data type of elements: \", k1.dtype)"
   ]
  },
  {
   "cell_type": "code",
   "execution_count": 10,
   "metadata": {},
   "outputs": [
    {
     "name": "stdout",
     "output_type": "stream",
     "text": [
      "Values:  [ 0  1  2  3  4  5  6  7  8  9 10 11]\n",
      "Data type of k:  <class 'numpy.ndarray'>\n",
      "Data type of each element:  int32\n",
      "datatype of any:  <class 'numpy.int32'>\n",
      "Dimension of k:  1\n",
      "Shape of k:  (12,)\n",
      "No.of elements:  12\n"
     ]
    }
   ],
   "source": [
    "k = np.arange(12)\n",
    "print(\"Values: \", k)\n",
    "print(\"Data type of k: \", type(k))\n",
    "print(\"Data type of each element: \", k.dtype)\n",
    "print(\"datatype of any: \", type(k[1]))\n",
    "print(\"Dimension of k: \", k.ndim)\n",
    "print(\"Shape of k: \", k.shape)\n",
    "print(\"No.of elements: \", len(k))"
   ]
  },
  {
   "cell_type": "code",
   "execution_count": 11,
   "metadata": {},
   "outputs": [
    {
     "name": "stdout",
     "output_type": "stream",
     "text": [
      "[[ 0  1  2  3]\n",
      " [ 4  5  6  7]\n",
      " [ 8  9 10 11]]\n"
     ]
    }
   ],
   "source": [
    "k1 = k.reshape(3,4)\n",
    "print(k1)"
   ]
  },
  {
   "cell_type": "code",
   "execution_count": 13,
   "metadata": {},
   "outputs": [
    {
     "name": "stdout",
     "output_type": "stream",
     "text": [
      "Dimension of k1:  2\n",
      "Shape of k1:  (3, 4)\n",
      "No.of rows:  3\n",
      "No.of rows:  3\n",
      "No.of columns:  4\n"
     ]
    }
   ],
   "source": [
    "print(\"Dimension of k1: \", k1.ndim)\n",
    "print(\"Shape of k1: \", k1.shape)\n",
    "print(\"No.of rows: \", len(k1))\n",
    "print(\"No.of rows: \", k1.shape[0])\n",
    "print(\"No.of columns: \", k1.shape[1])"
   ]
  },
  {
   "cell_type": "code",
   "execution_count": 14,
   "metadata": {},
   "outputs": [
    {
     "name": "stdout",
     "output_type": "stream",
     "text": [
      "[2 3 4 5 6 7 8 9]\n"
     ]
    }
   ],
   "source": [
    "m = np.arange(2, 10)\n",
    "print(m)"
   ]
  },
  {
   "cell_type": "code",
   "execution_count": 15,
   "metadata": {},
   "outputs": [
    {
     "name": "stdout",
     "output_type": "stream",
     "text": [
      "[ 2  5  8 11 14 17]\n"
     ]
    }
   ],
   "source": [
    "m1 = np.arange(2, 20, 3)\n",
    "print(m1)"
   ]
  },
  {
   "cell_type": "code",
   "execution_count": 16,
   "metadata": {},
   "outputs": [
    {
     "name": "stdout",
     "output_type": "stream",
     "text": [
      "[1.  1.3 1.6 1.9]\n"
     ]
    }
   ],
   "source": [
    "m2 = np.arange(1, 2, .3)\n",
    "print(m2)"
   ]
  },
  {
   "cell_type": "code",
   "execution_count": 17,
   "metadata": {},
   "outputs": [
    {
     "name": "stdout",
     "output_type": "stream",
     "text": [
      "[1.   1.01 1.02 1.03 1.04 1.05 1.06 1.07 1.08 1.09 1.1  1.11 1.12 1.13\n",
      " 1.14 1.15 1.16 1.17 1.18 1.19 1.2  1.21 1.22 1.23 1.24 1.25 1.26 1.27\n",
      " 1.28 1.29 1.3  1.31 1.32 1.33 1.34 1.35 1.36 1.37 1.38 1.39 1.4  1.41\n",
      " 1.42 1.43 1.44 1.45 1.46 1.47 1.48 1.49 1.5  1.51 1.52 1.53 1.54 1.55\n",
      " 1.56 1.57 1.58 1.59 1.6  1.61 1.62 1.63 1.64 1.65 1.66 1.67 1.68 1.69\n",
      " 1.7  1.71 1.72 1.73 1.74 1.75 1.76 1.77 1.78 1.79 1.8  1.81 1.82 1.83\n",
      " 1.84 1.85 1.86 1.87 1.88 1.89 1.9  1.91 1.92 1.93 1.94 1.95 1.96 1.97\n",
      " 1.98 1.99]\n"
     ]
    }
   ],
   "source": [
    "m2 = np.arange(1, 2, .01)\n",
    "print(m2)"
   ]
  },
  {
   "cell_type": "code",
   "execution_count": 18,
   "metadata": {},
   "outputs": [
    {
     "name": "stdout",
     "output_type": "stream",
     "text": [
      "[1.         1.11111111 1.22222222 1.33333333 1.44444444 1.55555556\n",
      " 1.66666667 1.77777778 1.88888889 2.        ]\n"
     ]
    }
   ],
   "source": [
    "k = np.linspace(1,2,10)\n",
    "print(k)"
   ]
  },
  {
   "cell_type": "code",
   "execution_count": 19,
   "metadata": {},
   "outputs": [
    {
     "name": "stdout",
     "output_type": "stream",
     "text": [
      "[1.         1.00010001 1.00020002 ... 1.99979998 1.99989999 2.        ]\n"
     ]
    }
   ],
   "source": [
    "k1 = np.linspace(1,2,10000)\n",
    "print(k1)"
   ]
  },
  {
   "cell_type": "code",
   "execution_count": 20,
   "metadata": {},
   "outputs": [
    {
     "name": "stdout",
     "output_type": "stream",
     "text": [
      "[[1.         1.00010001 1.00020002 ... 1.00970097 1.00980098 1.00990099]\n",
      " [1.010001   1.01010101 1.01020102 ... 1.01970197 1.01980198 1.01990199]\n",
      " [1.020002   1.02010201 1.02020202 ... 1.02970297 1.02980298 1.02990299]\n",
      " ...\n",
      " [1.97009701 1.97019702 1.97029703 ... 1.97979798 1.97989799 1.979998  ]\n",
      " [1.98009801 1.98019802 1.98029803 ... 1.98979898 1.98989899 1.989999  ]\n",
      " [1.99009901 1.99019902 1.99029903 ... 1.99979998 1.99989999 2.        ]]\n"
     ]
    }
   ],
   "source": [
    "k2 = k1.reshape(100, 100)\n",
    "print(k2)"
   ]
  },
  {
   "cell_type": "code",
   "execution_count": 21,
   "metadata": {},
   "outputs": [
    {
     "name": "stdout",
     "output_type": "stream",
     "text": [
      "[11 22]\n",
      "Dimension of k1:  1\n"
     ]
    }
   ],
   "source": [
    "k = [11,22]\n",
    "k1 = np.array(k)\n",
    "print(k1)\n",
    "print(\"Dimension of k1: \", k1.ndim)"
   ]
  },
  {
   "cell_type": "code",
   "execution_count": 22,
   "metadata": {},
   "outputs": [
    {
     "name": "stdout",
     "output_type": "stream",
     "text": [
      "[[11 22]\n",
      " [33 44]]\n",
      "Dimension of m1:  2\n"
     ]
    }
   ],
   "source": [
    "m = [[11,22], [33,44]]\n",
    "m1 = np.array(m)\n",
    "print(m1)\n",
    "print(\"Dimension of m1: \", m1.ndim)"
   ]
  },
  {
   "cell_type": "code",
   "execution_count": 23,
   "metadata": {},
   "outputs": [
    {
     "name": "stdout",
     "output_type": "stream",
     "text": [
      "[[[[ 0]]\n",
      "\n",
      "  [[ 1]]\n",
      "\n",
      "  [[ 2]]\n",
      "\n",
      "  [[ 3]]]\n",
      "\n",
      "\n",
      " [[[ 4]]\n",
      "\n",
      "  [[ 5]]\n",
      "\n",
      "  [[ 6]]\n",
      "\n",
      "  [[ 7]]]\n",
      "\n",
      "\n",
      " [[[ 8]]\n",
      "\n",
      "  [[ 9]]\n",
      "\n",
      "  [[10]]\n",
      "\n",
      "  [[11]]]]\n"
     ]
    }
   ],
   "source": [
    "n = np.arange(12).reshape(3,4,1,1)\n",
    "print(n)"
   ]
  },
  {
   "cell_type": "code",
   "execution_count": 24,
   "metadata": {},
   "outputs": [
    {
     "name": "stdout",
     "output_type": "stream",
     "text": [
      "[[1 2]\n",
      " [3 4]]\n"
     ]
    }
   ],
   "source": [
    "a = np.array([[1,2],[3,4]])\n",
    "print(a)"
   ]
  },
  {
   "cell_type": "code",
   "execution_count": 25,
   "metadata": {},
   "outputs": [
    {
     "name": "stdout",
     "output_type": "stream",
     "text": [
      "[[3 4]\n",
      " [5 6]]\n"
     ]
    }
   ],
   "source": [
    "k = a + 2\n",
    "print(k)"
   ]
  },
  {
   "cell_type": "code",
   "execution_count": 26,
   "metadata": {},
   "outputs": [
    {
     "name": "stdout",
     "output_type": "stream",
     "text": [
      "[[False False]\n",
      " [ True  True]]\n"
     ]
    }
   ],
   "source": [
    "k = a > 2\n",
    "print(k)"
   ]
  },
  {
   "cell_type": "code",
   "execution_count": 27,
   "metadata": {},
   "outputs": [
    {
     "name": "stdout",
     "output_type": "stream",
     "text": [
      "[[4 5]\n",
      " [6 7]]\n"
     ]
    }
   ],
   "source": [
    "a += 3\n",
    "print(a)"
   ]
  },
  {
   "cell_type": "code",
   "execution_count": 28,
   "metadata": {},
   "outputs": [
    {
     "name": "stdout",
     "output_type": "stream",
     "text": [
      "[[5 6]\n",
      " [7 8]]\n"
     ]
    }
   ],
   "source": [
    "b = np.array([[5,6],[7,8]])\n",
    "print(b)"
   ]
  },
  {
   "cell_type": "code",
   "execution_count": 29,
   "metadata": {},
   "outputs": [
    {
     "name": "stdout",
     "output_type": "stream",
     "text": [
      "[[ 9 11]\n",
      " [13 15]]\n"
     ]
    }
   ],
   "source": [
    "c = a + b\n",
    "print(c)"
   ]
  },
  {
   "cell_type": "code",
   "execution_count": 30,
   "metadata": {},
   "outputs": [
    {
     "name": "stdout",
     "output_type": "stream",
     "text": [
      "[[55 64]\n",
      " [79 92]]\n"
     ]
    }
   ],
   "source": [
    "d = a.dot(b)\n",
    "print(d)"
   ]
  },
  {
   "cell_type": "code",
   "execution_count": 32,
   "metadata": {},
   "outputs": [
    {
     "name": "stdout",
     "output_type": "stream",
     "text": [
      "[[0. 0. 0. 0.]\n",
      " [0. 0. 0. 0.]\n",
      " [0. 0. 0. 0.]]\n"
     ]
    }
   ],
   "source": [
    "k = np.zeros((3,4))\n",
    "print(k)"
   ]
  },
  {
   "cell_type": "code",
   "execution_count": 33,
   "metadata": {},
   "outputs": [
    {
     "name": "stdout",
     "output_type": "stream",
     "text": [
      "[[1. 1. 1. 1.]\n",
      " [1. 1. 1. 1.]\n",
      " [1. 1. 1. 1.]]\n"
     ]
    }
   ],
   "source": [
    "k = np.ones((3,4))\n",
    "print(k)"
   ]
  },
  {
   "cell_type": "code",
   "execution_count": 34,
   "metadata": {},
   "outputs": [
    {
     "name": "stdout",
     "output_type": "stream",
     "text": [
      "[[1 2]\n",
      " [3 4]]\n",
      "###############\n",
      "Sum of all: 10\n",
      "###############\n",
      "column wise sum: [4 6]\n",
      "###############\n",
      "row wise sum: [3 7]\n",
      "###############\n",
      "[4 6]\n",
      "##################\n",
      "[[1.+0.j 2.+0.j]\n",
      " [3.+0.j 4.+0.j]]\n",
      "######################\n",
      "[[1 2]\n",
      " [3 4]]\n",
      "Max element: 4\n",
      "column wise Max element: [3 4]\n",
      "row wise Max element: [2 4]\n"
     ]
    }
   ],
   "source": [
    "a=np.array([[1,2],[3,4]])\n",
    "print(a)\n",
    "print(\"###############\")\n",
    "print(\"Sum of all:\",a.sum())\n",
    "print(\"###############\")\n",
    "print(\"column wise sum:\",a.sum(axis=0))\n",
    "print(\"###############\")\n",
    "print(\"row wise sum:\",a.sum(axis=1))\n",
    "print(\"###############\")\n",
    "print(sum(a))\n",
    "print(\"##################\")\n",
    "b=[[1,2],[3,4]]\n",
    "k=np.array(b,dtype=complex)\n",
    "print(k)\n",
    "print(\"######################\")\n",
    "print(a)\n",
    "print(\"Max element:\",a.max())\n",
    "print(\"column wise Max element:\",a.max(axis=0))\n",
    "print(\"row wise Max element:\",a.max(axis=1))"
   ]
  }
 ],
 "metadata": {
  "kernelspec": {
   "display_name": "Python 3",
   "language": "python",
   "name": "python3"
  },
  "language_info": {
   "codemirror_mode": {
    "name": "ipython",
    "version": 3
   },
   "file_extension": ".py",
   "mimetype": "text/x-python",
   "name": "python",
   "nbconvert_exporter": "python",
   "pygments_lexer": "ipython3",
   "version": "3.7.7"
  }
 },
 "nbformat": 4,
 "nbformat_minor": 4
}
