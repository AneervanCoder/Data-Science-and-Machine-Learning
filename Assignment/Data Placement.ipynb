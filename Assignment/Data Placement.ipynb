{
 "cells": [
  {
   "cell_type": "markdown",
   "id": "048c547e",
   "metadata": {},
   "source": [
    "## Placement Data"
   ]
  },
  {
   "cell_type": "code",
   "execution_count": 1,
   "id": "d263d55c",
   "metadata": {},
   "outputs": [],
   "source": [
    "# Importing the libraries\n",
    "import pandas as pd\n",
    "import numpy as np\n",
    "import matplotlib.pyplot as plt"
   ]
  },
  {
   "cell_type": "code",
   "execution_count": 2,
   "id": "d66af25b",
   "metadata": {},
   "outputs": [
    {
     "data": {
      "text/html": [
       "<div>\n",
       "<style scoped>\n",
       "    .dataframe tbody tr th:only-of-type {\n",
       "        vertical-align: middle;\n",
       "    }\n",
       "\n",
       "    .dataframe tbody tr th {\n",
       "        vertical-align: top;\n",
       "    }\n",
       "\n",
       "    .dataframe thead th {\n",
       "        text-align: right;\n",
       "    }\n",
       "</style>\n",
       "<table border=\"1\" class=\"dataframe\">\n",
       "  <thead>\n",
       "    <tr style=\"text-align: right;\">\n",
       "      <th></th>\n",
       "      <th>Branch</th>\n",
       "      <th>Degree</th>\n",
       "      <th>Score/800</th>\n",
       "      <th>Aptitude</th>\n",
       "      <th>English</th>\n",
       "      <th>Quantitative</th>\n",
       "      <th>Analytical</th>\n",
       "      <th>Domain</th>\n",
       "      <th>Computer Fundamental</th>\n",
       "      <th>Coding</th>\n",
       "      <th>Placement Status</th>\n",
       "    </tr>\n",
       "  </thead>\n",
       "  <tbody>\n",
       "    <tr>\n",
       "      <th>0</th>\n",
       "      <td>Applied Electronics and Instrumentation</td>\n",
       "      <td>B. Tech.</td>\n",
       "      <td>584</td>\n",
       "      <td>69 %</td>\n",
       "      <td>87 %</td>\n",
       "      <td>53 %</td>\n",
       "      <td>67 %</td>\n",
       "      <td>30 %</td>\n",
       "      <td>20 %</td>\n",
       "      <td>60 %</td>\n",
       "      <td>Placed</td>\n",
       "    </tr>\n",
       "    <tr>\n",
       "      <th>1</th>\n",
       "      <td>Mechanical Engineering</td>\n",
       "      <td>B. Tech.</td>\n",
       "      <td>584</td>\n",
       "      <td>76 %</td>\n",
       "      <td>80 %</td>\n",
       "      <td>73 %</td>\n",
       "      <td>73 %</td>\n",
       "      <td>55 %</td>\n",
       "      <td>40 %</td>\n",
       "      <td>00 %</td>\n",
       "      <td>NaN</td>\n",
       "    </tr>\n",
       "    <tr>\n",
       "      <th>2</th>\n",
       "      <td>Electronics and Communications Engineering</td>\n",
       "      <td>B. Tech.</td>\n",
       "      <td>578</td>\n",
       "      <td>71 %</td>\n",
       "      <td>73 %</td>\n",
       "      <td>73 %</td>\n",
       "      <td>67 %</td>\n",
       "      <td>55 %</td>\n",
       "      <td>47 %</td>\n",
       "      <td>20 %</td>\n",
       "      <td>NaN</td>\n",
       "    </tr>\n",
       "    <tr>\n",
       "      <th>3</th>\n",
       "      <td>Applied Electronics and Instrumentation</td>\n",
       "      <td>B. Tech.</td>\n",
       "      <td>578</td>\n",
       "      <td>71 %</td>\n",
       "      <td>93 %</td>\n",
       "      <td>40 %</td>\n",
       "      <td>80 %</td>\n",
       "      <td>50 %</td>\n",
       "      <td>33 %</td>\n",
       "      <td>20 %</td>\n",
       "      <td>NaN</td>\n",
       "    </tr>\n",
       "    <tr>\n",
       "      <th>4</th>\n",
       "      <td>Electronics and Communications Engineering</td>\n",
       "      <td>B. Tech.</td>\n",
       "      <td>575</td>\n",
       "      <td>64 %</td>\n",
       "      <td>73 %</td>\n",
       "      <td>47 %</td>\n",
       "      <td>73 %</td>\n",
       "      <td>55 %</td>\n",
       "      <td>53 %</td>\n",
       "      <td>20 %</td>\n",
       "      <td>NaN</td>\n",
       "    </tr>\n",
       "  </tbody>\n",
       "</table>\n",
       "</div>"
      ],
      "text/plain": [
       "                                       Branch    Degree  Score/800 Aptitude  \\\n",
       "0     Applied Electronics and Instrumentation  B. Tech.        584     69 %   \n",
       "1                      Mechanical Engineering  B. Tech.        584     76 %   \n",
       "2  Electronics and Communications Engineering  B. Tech.        578     71 %   \n",
       "3     Applied Electronics and Instrumentation  B. Tech.        578     71 %   \n",
       "4  Electronics and Communications Engineering  B. Tech.        575     64 %   \n",
       "\n",
       "  English Quantitative Analytical Domain Computer Fundamental Coding  \\\n",
       "0    87 %         53 %       67 %   30 %                 20 %   60 %   \n",
       "1    80 %         73 %       73 %   55 %                 40 %   00 %   \n",
       "2    73 %         73 %       67 %   55 %                 47 %   20 %   \n",
       "3    93 %         40 %       80 %   50 %                 33 %   20 %   \n",
       "4    73 %         47 %       73 %   55 %                 53 %   20 %   \n",
       "\n",
       "  Placement Status  \n",
       "0           Placed  \n",
       "1              NaN  \n",
       "2              NaN  \n",
       "3              NaN  \n",
       "4              NaN  "
      ]
     },
     "execution_count": 2,
     "metadata": {},
     "output_type": "execute_result"
    }
   ],
   "source": [
    "# Importing the dataset\n",
    "dataset = pd.read_csv('DataPlacement.csv')\n",
    "df = dataset.copy()\n",
    "df.head()"
   ]
  },
  {
   "cell_type": "code",
   "execution_count": 3,
   "id": "3e5e5df4",
   "metadata": {},
   "outputs": [
    {
     "data": {
      "text/plain": [
       "Branch                  False\n",
       "Degree                  False\n",
       "Score/800               False\n",
       "Aptitude                False\n",
       "English                 False\n",
       "Quantitative            False\n",
       "Analytical              False\n",
       "Domain                  False\n",
       "Computer Fundamental    False\n",
       "Coding                  False\n",
       "Placement Status         True\n",
       "dtype: bool"
      ]
     },
     "execution_count": 3,
     "metadata": {},
     "output_type": "execute_result"
    }
   ],
   "source": [
    "# chacking for the NaN values in the dataframe\n",
    "df.isnull().any()"
   ]
  },
  {
   "cell_type": "code",
   "execution_count": 18,
   "id": "804cffdc",
   "metadata": {},
   "outputs": [
    {
     "data": {
      "text/html": [
       "<div>\n",
       "<style scoped>\n",
       "    .dataframe tbody tr th:only-of-type {\n",
       "        vertical-align: middle;\n",
       "    }\n",
       "\n",
       "    .dataframe tbody tr th {\n",
       "        vertical-align: top;\n",
       "    }\n",
       "\n",
       "    .dataframe thead th {\n",
       "        text-align: right;\n",
       "    }\n",
       "</style>\n",
       "<table border=\"1\" class=\"dataframe\">\n",
       "  <thead>\n",
       "    <tr style=\"text-align: right;\">\n",
       "      <th></th>\n",
       "      <th>Branch</th>\n",
       "      <th>Degree</th>\n",
       "      <th>Score/800</th>\n",
       "      <th>Aptitude</th>\n",
       "      <th>English</th>\n",
       "      <th>Quantitative</th>\n",
       "      <th>Analytical</th>\n",
       "      <th>Domain</th>\n",
       "      <th>Computer Fundamental</th>\n",
       "      <th>Coding</th>\n",
       "      <th>Placement Status</th>\n",
       "    </tr>\n",
       "  </thead>\n",
       "  <tbody>\n",
       "    <tr>\n",
       "      <th>0</th>\n",
       "      <td>Applied Electronics and Instrumentation</td>\n",
       "      <td>B. Tech.</td>\n",
       "      <td>584</td>\n",
       "      <td>69 %</td>\n",
       "      <td>87 %</td>\n",
       "      <td>53 %</td>\n",
       "      <td>67 %</td>\n",
       "      <td>30 %</td>\n",
       "      <td>20 %</td>\n",
       "      <td>60 %</td>\n",
       "      <td>1</td>\n",
       "    </tr>\n",
       "    <tr>\n",
       "      <th>1</th>\n",
       "      <td>Mechanical Engineering</td>\n",
       "      <td>B. Tech.</td>\n",
       "      <td>584</td>\n",
       "      <td>76 %</td>\n",
       "      <td>80 %</td>\n",
       "      <td>73 %</td>\n",
       "      <td>73 %</td>\n",
       "      <td>55 %</td>\n",
       "      <td>40 %</td>\n",
       "      <td>00 %</td>\n",
       "      <td>0</td>\n",
       "    </tr>\n",
       "    <tr>\n",
       "      <th>2</th>\n",
       "      <td>Electronics and Communications Engineering</td>\n",
       "      <td>B. Tech.</td>\n",
       "      <td>578</td>\n",
       "      <td>71 %</td>\n",
       "      <td>73 %</td>\n",
       "      <td>73 %</td>\n",
       "      <td>67 %</td>\n",
       "      <td>55 %</td>\n",
       "      <td>47 %</td>\n",
       "      <td>20 %</td>\n",
       "      <td>0</td>\n",
       "    </tr>\n",
       "    <tr>\n",
       "      <th>3</th>\n",
       "      <td>Applied Electronics and Instrumentation</td>\n",
       "      <td>B. Tech.</td>\n",
       "      <td>578</td>\n",
       "      <td>71 %</td>\n",
       "      <td>93 %</td>\n",
       "      <td>40 %</td>\n",
       "      <td>80 %</td>\n",
       "      <td>50 %</td>\n",
       "      <td>33 %</td>\n",
       "      <td>20 %</td>\n",
       "      <td>0</td>\n",
       "    </tr>\n",
       "    <tr>\n",
       "      <th>4</th>\n",
       "      <td>Electronics and Communications Engineering</td>\n",
       "      <td>B. Tech.</td>\n",
       "      <td>575</td>\n",
       "      <td>64 %</td>\n",
       "      <td>73 %</td>\n",
       "      <td>47 %</td>\n",
       "      <td>73 %</td>\n",
       "      <td>55 %</td>\n",
       "      <td>53 %</td>\n",
       "      <td>20 %</td>\n",
       "      <td>0</td>\n",
       "    </tr>\n",
       "  </tbody>\n",
       "</table>\n",
       "</div>"
      ],
      "text/plain": [
       "                                       Branch    Degree  Score/800 Aptitude  \\\n",
       "0     Applied Electronics and Instrumentation  B. Tech.        584     69 %   \n",
       "1                      Mechanical Engineering  B. Tech.        584     76 %   \n",
       "2  Electronics and Communications Engineering  B. Tech.        578     71 %   \n",
       "3     Applied Electronics and Instrumentation  B. Tech.        578     71 %   \n",
       "4  Electronics and Communications Engineering  B. Tech.        575     64 %   \n",
       "\n",
       "  English Quantitative Analytical Domain Computer Fundamental Coding  \\\n",
       "0    87 %         53 %       67 %   30 %                 20 %   60 %   \n",
       "1    80 %         73 %       73 %   55 %                 40 %   00 %   \n",
       "2    73 %         73 %       67 %   55 %                 47 %   20 %   \n",
       "3    93 %         40 %       80 %   50 %                 33 %   20 %   \n",
       "4    73 %         47 %       73 %   55 %                 53 %   20 %   \n",
       "\n",
       "   Placement Status  \n",
       "0                 1  \n",
       "1                 0  \n",
       "2                 0  \n",
       "3                 0  \n",
       "4                 0  "
      ]
     },
     "execution_count": 18,
     "metadata": {},
     "output_type": "execute_result"
    }
   ],
   "source": [
    "# changing the 'Placement Status' column as a type category by taking care of the NaN values too\n",
    "df['Placement Status'] = df['Placement Status'].astype('category').cat.codes\n",
    "df.head()"
   ]
  },
  {
   "cell_type": "code",
   "execution_count": 19,
   "id": "84a2755d",
   "metadata": {},
   "outputs": [
    {
     "data": {
      "text/plain": [
       "Branch                  False\n",
       "Degree                  False\n",
       "Score/800               False\n",
       "Aptitude                False\n",
       "English                 False\n",
       "Quantitative            False\n",
       "Analytical              False\n",
       "Domain                  False\n",
       "Computer Fundamental    False\n",
       "Coding                  False\n",
       "Placement Status        False\n",
       "dtype: bool"
      ]
     },
     "execution_count": 19,
     "metadata": {},
     "output_type": "execute_result"
    }
   ],
   "source": [
    "df.isnull().any()"
   ]
  },
  {
   "cell_type": "code",
   "execution_count": 20,
   "id": "73074357",
   "metadata": {},
   "outputs": [
    {
     "data": {
      "text/html": [
       "<div>\n",
       "<style scoped>\n",
       "    .dataframe tbody tr th:only-of-type {\n",
       "        vertical-align: middle;\n",
       "    }\n",
       "\n",
       "    .dataframe tbody tr th {\n",
       "        vertical-align: top;\n",
       "    }\n",
       "\n",
       "    .dataframe thead th {\n",
       "        text-align: right;\n",
       "    }\n",
       "</style>\n",
       "<table border=\"1\" class=\"dataframe\">\n",
       "  <thead>\n",
       "    <tr style=\"text-align: right;\">\n",
       "      <th></th>\n",
       "      <th>Score/800</th>\n",
       "      <th>Aptitude</th>\n",
       "      <th>English</th>\n",
       "      <th>Quantitative</th>\n",
       "      <th>Analytical</th>\n",
       "      <th>Domain</th>\n",
       "      <th>Computer Fundamental</th>\n",
       "      <th>Coding</th>\n",
       "      <th>Placement Status</th>\n",
       "    </tr>\n",
       "  </thead>\n",
       "  <tbody>\n",
       "    <tr>\n",
       "      <th>0</th>\n",
       "      <td>584</td>\n",
       "      <td>69 %</td>\n",
       "      <td>87 %</td>\n",
       "      <td>53 %</td>\n",
       "      <td>67 %</td>\n",
       "      <td>30 %</td>\n",
       "      <td>20 %</td>\n",
       "      <td>60 %</td>\n",
       "      <td>1</td>\n",
       "    </tr>\n",
       "    <tr>\n",
       "      <th>1</th>\n",
       "      <td>584</td>\n",
       "      <td>76 %</td>\n",
       "      <td>80 %</td>\n",
       "      <td>73 %</td>\n",
       "      <td>73 %</td>\n",
       "      <td>55 %</td>\n",
       "      <td>40 %</td>\n",
       "      <td>00 %</td>\n",
       "      <td>0</td>\n",
       "    </tr>\n",
       "    <tr>\n",
       "      <th>2</th>\n",
       "      <td>578</td>\n",
       "      <td>71 %</td>\n",
       "      <td>73 %</td>\n",
       "      <td>73 %</td>\n",
       "      <td>67 %</td>\n",
       "      <td>55 %</td>\n",
       "      <td>47 %</td>\n",
       "      <td>20 %</td>\n",
       "      <td>0</td>\n",
       "    </tr>\n",
       "    <tr>\n",
       "      <th>3</th>\n",
       "      <td>578</td>\n",
       "      <td>71 %</td>\n",
       "      <td>93 %</td>\n",
       "      <td>40 %</td>\n",
       "      <td>80 %</td>\n",
       "      <td>50 %</td>\n",
       "      <td>33 %</td>\n",
       "      <td>20 %</td>\n",
       "      <td>0</td>\n",
       "    </tr>\n",
       "    <tr>\n",
       "      <th>4</th>\n",
       "      <td>575</td>\n",
       "      <td>64 %</td>\n",
       "      <td>73 %</td>\n",
       "      <td>47 %</td>\n",
       "      <td>73 %</td>\n",
       "      <td>55 %</td>\n",
       "      <td>53 %</td>\n",
       "      <td>20 %</td>\n",
       "      <td>0</td>\n",
       "    </tr>\n",
       "  </tbody>\n",
       "</table>\n",
       "</div>"
      ],
      "text/plain": [
       "   Score/800 Aptitude English Quantitative Analytical Domain  \\\n",
       "0        584     69 %    87 %         53 %       67 %   30 %   \n",
       "1        584     76 %    80 %         73 %       73 %   55 %   \n",
       "2        578     71 %    73 %         73 %       67 %   55 %   \n",
       "3        578     71 %    93 %         40 %       80 %   50 %   \n",
       "4        575     64 %    73 %         47 %       73 %   55 %   \n",
       "\n",
       "  Computer Fundamental Coding  Placement Status  \n",
       "0                 20 %   60 %                 1  \n",
       "1                 40 %   00 %                 0  \n",
       "2                 47 %   20 %                 0  \n",
       "3                 33 %   20 %                 0  \n",
       "4                 53 %   20 %                 0  "
      ]
     },
     "execution_count": 20,
     "metadata": {},
     "output_type": "execute_result"
    }
   ],
   "source": [
    "new_df = df[['Score/800','Aptitude', 'English', 'Quantitative', 'Analytical','Domain', 'Computer Fundamental', 'Coding', 'Placement Status']]\n",
    "new_df.head()"
   ]
  },
  {
   "cell_type": "code",
   "execution_count": 21,
   "id": "dc9d380f",
   "metadata": {},
   "outputs": [
    {
     "name": "stderr",
     "output_type": "stream",
     "text": [
      "C:\\Users\\AneervanRay\\Anaconda_3\\lib\\site-packages\\pandas\\core\\frame.py:3607: SettingWithCopyWarning: \n",
      "A value is trying to be set on a copy of a slice from a DataFrame.\n",
      "Try using .loc[row_indexer,col_indexer] = value instead\n",
      "\n",
      "See the caveats in the documentation: https://pandas.pydata.org/pandas-docs/stable/user_guide/indexing.html#returning-a-view-versus-a-copy\n",
      "  self._set_item(key, value)\n"
     ]
    }
   ],
   "source": [
    "# removing the percentage sign from the required columns and converting them to float\n",
    "new_df['Aptitude'] = (new_df['Aptitude'].str.strip('%').astype(float))\n",
    "new_df['English'] = (new_df['English'].str.strip('%').astype(float))\n",
    "new_df['Quantitative'] = (new_df['Quantitative'].str.strip('%').astype(float))\n",
    "new_df['Analytical'] = (new_df['Analytical'].str.strip('%').astype(float))\n",
    "new_df['Domain'] = (new_df['Domain'].str.strip('%').astype(float))\n",
    "new_df['Computer Fundamental'] = (new_df['Computer Fundamental'].str.strip('%').astype(float))\n",
    "new_df['Coding'] = (new_df['Coding'].str.strip('%').astype(float))"
   ]
  },
  {
   "cell_type": "code",
   "execution_count": 23,
   "id": "a1103b16",
   "metadata": {},
   "outputs": [
    {
     "name": "stderr",
     "output_type": "stream",
     "text": [
      "C:\\Users\\AneervanRay\\Anaconda_3\\lib\\site-packages\\pandas\\core\\frame.py:3607: SettingWithCopyWarning: \n",
      "A value is trying to be set on a copy of a slice from a DataFrame.\n",
      "Try using .loc[row_indexer,col_indexer] = value instead\n",
      "\n",
      "See the caveats in the documentation: https://pandas.pydata.org/pandas-docs/stable/user_guide/indexing.html#returning-a-view-versus-a-copy\n",
      "  self._set_item(key, value)\n"
     ]
    }
   ],
   "source": [
    "new_df['Score/800'] = new_df['Score/800'].astype(float)"
   ]
  },
  {
   "cell_type": "code",
   "execution_count": 24,
   "id": "cc234c88",
   "metadata": {},
   "outputs": [
    {
     "data": {
      "text/html": [
       "<div>\n",
       "<style scoped>\n",
       "    .dataframe tbody tr th:only-of-type {\n",
       "        vertical-align: middle;\n",
       "    }\n",
       "\n",
       "    .dataframe tbody tr th {\n",
       "        vertical-align: top;\n",
       "    }\n",
       "\n",
       "    .dataframe thead th {\n",
       "        text-align: right;\n",
       "    }\n",
       "</style>\n",
       "<table border=\"1\" class=\"dataframe\">\n",
       "  <thead>\n",
       "    <tr style=\"text-align: right;\">\n",
       "      <th></th>\n",
       "      <th>Score/800</th>\n",
       "      <th>Aptitude</th>\n",
       "      <th>English</th>\n",
       "      <th>Quantitative</th>\n",
       "      <th>Analytical</th>\n",
       "      <th>Domain</th>\n",
       "      <th>Computer Fundamental</th>\n",
       "      <th>Coding</th>\n",
       "      <th>Placement Status</th>\n",
       "    </tr>\n",
       "  </thead>\n",
       "  <tbody>\n",
       "    <tr>\n",
       "      <th>0</th>\n",
       "      <td>584.0</td>\n",
       "      <td>69.0</td>\n",
       "      <td>87.0</td>\n",
       "      <td>53.0</td>\n",
       "      <td>67.0</td>\n",
       "      <td>30.0</td>\n",
       "      <td>20.0</td>\n",
       "      <td>60.0</td>\n",
       "      <td>1</td>\n",
       "    </tr>\n",
       "    <tr>\n",
       "      <th>1</th>\n",
       "      <td>584.0</td>\n",
       "      <td>76.0</td>\n",
       "      <td>80.0</td>\n",
       "      <td>73.0</td>\n",
       "      <td>73.0</td>\n",
       "      <td>55.0</td>\n",
       "      <td>40.0</td>\n",
       "      <td>0.0</td>\n",
       "      <td>0</td>\n",
       "    </tr>\n",
       "    <tr>\n",
       "      <th>2</th>\n",
       "      <td>578.0</td>\n",
       "      <td>71.0</td>\n",
       "      <td>73.0</td>\n",
       "      <td>73.0</td>\n",
       "      <td>67.0</td>\n",
       "      <td>55.0</td>\n",
       "      <td>47.0</td>\n",
       "      <td>20.0</td>\n",
       "      <td>0</td>\n",
       "    </tr>\n",
       "    <tr>\n",
       "      <th>3</th>\n",
       "      <td>578.0</td>\n",
       "      <td>71.0</td>\n",
       "      <td>93.0</td>\n",
       "      <td>40.0</td>\n",
       "      <td>80.0</td>\n",
       "      <td>50.0</td>\n",
       "      <td>33.0</td>\n",
       "      <td>20.0</td>\n",
       "      <td>0</td>\n",
       "    </tr>\n",
       "    <tr>\n",
       "      <th>4</th>\n",
       "      <td>575.0</td>\n",
       "      <td>64.0</td>\n",
       "      <td>73.0</td>\n",
       "      <td>47.0</td>\n",
       "      <td>73.0</td>\n",
       "      <td>55.0</td>\n",
       "      <td>53.0</td>\n",
       "      <td>20.0</td>\n",
       "      <td>0</td>\n",
       "    </tr>\n",
       "  </tbody>\n",
       "</table>\n",
       "</div>"
      ],
      "text/plain": [
       "   Score/800  Aptitude  English  Quantitative  Analytical  Domain  \\\n",
       "0      584.0      69.0     87.0          53.0        67.0    30.0   \n",
       "1      584.0      76.0     80.0          73.0        73.0    55.0   \n",
       "2      578.0      71.0     73.0          73.0        67.0    55.0   \n",
       "3      578.0      71.0     93.0          40.0        80.0    50.0   \n",
       "4      575.0      64.0     73.0          47.0        73.0    55.0   \n",
       "\n",
       "   Computer Fundamental  Coding  Placement Status  \n",
       "0                  20.0    60.0                 1  \n",
       "1                  40.0     0.0                 0  \n",
       "2                  47.0    20.0                 0  \n",
       "3                  33.0    20.0                 0  \n",
       "4                  53.0    20.0                 0  "
      ]
     },
     "execution_count": 24,
     "metadata": {},
     "output_type": "execute_result"
    }
   ],
   "source": [
    "new_df.head()"
   ]
  },
  {
   "cell_type": "code",
   "execution_count": 30,
   "id": "45051846",
   "metadata": {},
   "outputs": [],
   "source": [
    "X = new_df.iloc[:,:-1].values\n",
    "y = new_df.iloc[:, -1].values"
   ]
  },
  {
   "cell_type": "code",
   "execution_count": 28,
   "id": "fe200664",
   "metadata": {},
   "outputs": [
    {
     "data": {
      "text/html": [
       "<div>\n",
       "<style scoped>\n",
       "    .dataframe tbody tr th:only-of-type {\n",
       "        vertical-align: middle;\n",
       "    }\n",
       "\n",
       "    .dataframe tbody tr th {\n",
       "        vertical-align: top;\n",
       "    }\n",
       "\n",
       "    .dataframe thead th {\n",
       "        text-align: right;\n",
       "    }\n",
       "</style>\n",
       "<table border=\"1\" class=\"dataframe\">\n",
       "  <thead>\n",
       "    <tr style=\"text-align: right;\">\n",
       "      <th></th>\n",
       "      <th>Score/800</th>\n",
       "      <th>Aptitude</th>\n",
       "      <th>English</th>\n",
       "      <th>Quantitative</th>\n",
       "      <th>Analytical</th>\n",
       "      <th>Domain</th>\n",
       "      <th>Computer Fundamental</th>\n",
       "      <th>Coding</th>\n",
       "    </tr>\n",
       "  </thead>\n",
       "  <tbody>\n",
       "    <tr>\n",
       "      <th>0</th>\n",
       "      <td>584.0</td>\n",
       "      <td>69.0</td>\n",
       "      <td>87.0</td>\n",
       "      <td>53.0</td>\n",
       "      <td>67.0</td>\n",
       "      <td>30.0</td>\n",
       "      <td>20.0</td>\n",
       "      <td>60.0</td>\n",
       "    </tr>\n",
       "    <tr>\n",
       "      <th>1</th>\n",
       "      <td>584.0</td>\n",
       "      <td>76.0</td>\n",
       "      <td>80.0</td>\n",
       "      <td>73.0</td>\n",
       "      <td>73.0</td>\n",
       "      <td>55.0</td>\n",
       "      <td>40.0</td>\n",
       "      <td>0.0</td>\n",
       "    </tr>\n",
       "    <tr>\n",
       "      <th>2</th>\n",
       "      <td>578.0</td>\n",
       "      <td>71.0</td>\n",
       "      <td>73.0</td>\n",
       "      <td>73.0</td>\n",
       "      <td>67.0</td>\n",
       "      <td>55.0</td>\n",
       "      <td>47.0</td>\n",
       "      <td>20.0</td>\n",
       "    </tr>\n",
       "    <tr>\n",
       "      <th>3</th>\n",
       "      <td>578.0</td>\n",
       "      <td>71.0</td>\n",
       "      <td>93.0</td>\n",
       "      <td>40.0</td>\n",
       "      <td>80.0</td>\n",
       "      <td>50.0</td>\n",
       "      <td>33.0</td>\n",
       "      <td>20.0</td>\n",
       "    </tr>\n",
       "    <tr>\n",
       "      <th>4</th>\n",
       "      <td>575.0</td>\n",
       "      <td>64.0</td>\n",
       "      <td>73.0</td>\n",
       "      <td>47.0</td>\n",
       "      <td>73.0</td>\n",
       "      <td>55.0</td>\n",
       "      <td>53.0</td>\n",
       "      <td>20.0</td>\n",
       "    </tr>\n",
       "    <tr>\n",
       "      <th>...</th>\n",
       "      <td>...</td>\n",
       "      <td>...</td>\n",
       "      <td>...</td>\n",
       "      <td>...</td>\n",
       "      <td>...</td>\n",
       "      <td>...</td>\n",
       "      <td>...</td>\n",
       "      <td>...</td>\n",
       "    </tr>\n",
       "    <tr>\n",
       "      <th>12859</th>\n",
       "      <td>401.0</td>\n",
       "      <td>31.0</td>\n",
       "      <td>47.0</td>\n",
       "      <td>20.0</td>\n",
       "      <td>27.0</td>\n",
       "      <td>35.0</td>\n",
       "      <td>40.0</td>\n",
       "      <td>0.0</td>\n",
       "    </tr>\n",
       "    <tr>\n",
       "      <th>12860</th>\n",
       "      <td>386.0</td>\n",
       "      <td>31.0</td>\n",
       "      <td>33.0</td>\n",
       "      <td>20.0</td>\n",
       "      <td>40.0</td>\n",
       "      <td>0.0</td>\n",
       "      <td>13.0</td>\n",
       "      <td>0.0</td>\n",
       "    </tr>\n",
       "    <tr>\n",
       "      <th>12861</th>\n",
       "      <td>374.0</td>\n",
       "      <td>29.0</td>\n",
       "      <td>13.0</td>\n",
       "      <td>47.0</td>\n",
       "      <td>27.0</td>\n",
       "      <td>10.0</td>\n",
       "      <td>53.0</td>\n",
       "      <td>0.0</td>\n",
       "    </tr>\n",
       "    <tr>\n",
       "      <th>12862</th>\n",
       "      <td>374.0</td>\n",
       "      <td>29.0</td>\n",
       "      <td>20.0</td>\n",
       "      <td>33.0</td>\n",
       "      <td>33.0</td>\n",
       "      <td>25.0</td>\n",
       "      <td>13.0</td>\n",
       "      <td>0.0</td>\n",
       "    </tr>\n",
       "    <tr>\n",
       "      <th>12863</th>\n",
       "      <td>371.0</td>\n",
       "      <td>27.0</td>\n",
       "      <td>27.0</td>\n",
       "      <td>13.0</td>\n",
       "      <td>40.0</td>\n",
       "      <td>40.0</td>\n",
       "      <td>33.0</td>\n",
       "      <td>0.0</td>\n",
       "    </tr>\n",
       "  </tbody>\n",
       "</table>\n",
       "<p>12864 rows × 8 columns</p>\n",
       "</div>"
      ],
      "text/plain": [
       "       Score/800  Aptitude  English  Quantitative  Analytical  Domain  \\\n",
       "0          584.0      69.0     87.0          53.0        67.0    30.0   \n",
       "1          584.0      76.0     80.0          73.0        73.0    55.0   \n",
       "2          578.0      71.0     73.0          73.0        67.0    55.0   \n",
       "3          578.0      71.0     93.0          40.0        80.0    50.0   \n",
       "4          575.0      64.0     73.0          47.0        73.0    55.0   \n",
       "...          ...       ...      ...           ...         ...     ...   \n",
       "12859      401.0      31.0     47.0          20.0        27.0    35.0   \n",
       "12860      386.0      31.0     33.0          20.0        40.0     0.0   \n",
       "12861      374.0      29.0     13.0          47.0        27.0    10.0   \n",
       "12862      374.0      29.0     20.0          33.0        33.0    25.0   \n",
       "12863      371.0      27.0     27.0          13.0        40.0    40.0   \n",
       "\n",
       "       Computer Fundamental  Coding  \n",
       "0                      20.0    60.0  \n",
       "1                      40.0     0.0  \n",
       "2                      47.0    20.0  \n",
       "3                      33.0    20.0  \n",
       "4                      53.0    20.0  \n",
       "...                     ...     ...  \n",
       "12859                  40.0     0.0  \n",
       "12860                  13.0     0.0  \n",
       "12861                  53.0     0.0  \n",
       "12862                  13.0     0.0  \n",
       "12863                  33.0     0.0  \n",
       "\n",
       "[12864 rows x 8 columns]"
      ]
     },
     "execution_count": 28,
     "metadata": {},
     "output_type": "execute_result"
    }
   ],
   "source": [
    "X"
   ]
  },
  {
   "cell_type": "code",
   "execution_count": 29,
   "id": "812e5d04",
   "metadata": {},
   "outputs": [
    {
     "data": {
      "text/plain": [
       "0        1\n",
       "1        0\n",
       "2        0\n",
       "3        0\n",
       "4        0\n",
       "        ..\n",
       "12859    0\n",
       "12860    0\n",
       "12861    0\n",
       "12862    0\n",
       "12863    0\n",
       "Name: Placement Status, Length: 12864, dtype: int8"
      ]
     },
     "execution_count": 29,
     "metadata": {},
     "output_type": "execute_result"
    }
   ],
   "source": [
    "y"
   ]
  },
  {
   "cell_type": "code",
   "execution_count": 31,
   "id": "fd6109f0",
   "metadata": {},
   "outputs": [],
   "source": [
    "# Splitting the dataset into training and testing set\n",
    "from sklearn.model_selection import train_test_split\n",
    "X_train, X_test, y_train, y_test = train_test_split(X, y, test_size=0.25, random_state=42)"
   ]
  },
  {
   "cell_type": "code",
   "execution_count": 43,
   "id": "5d02b235",
   "metadata": {},
   "outputs": [
    {
     "name": "stdout",
     "output_type": "stream",
     "text": [
      "-------------------Training Set of X------------------\n",
      "          0     1     2     3     4     5     6     7\n",
      "0     416.0  33.0  33.0  33.0  33.0  15.0  33.0   0.0\n",
      "1     494.0  51.0  40.0  47.0  67.0  55.0  20.0   0.0\n",
      "2     437.0  38.0  33.0  33.0  47.0  30.0  27.0   0.0\n",
      "3     446.0  38.0  47.0  27.0  40.0  40.0  60.0   0.0\n",
      "4     551.0  62.0  80.0  53.0  53.0  50.0  47.0  20.0\n",
      "...     ...   ...   ...   ...   ...   ...   ...   ...\n",
      "9643  383.0  27.0  40.0  13.0  27.0  40.0  40.0   0.0\n",
      "9644  440.0  38.0  47.0   7.0  60.0  40.0  20.0   0.0\n",
      "9645  503.0  51.0  73.0  27.0  53.0  40.0  33.0   0.0\n",
      "9646  437.0  38.0  33.0  33.0  47.0  20.0  20.0   0.0\n",
      "9647  485.0  47.0  27.0  47.0  67.0  25.0  40.0   0.0\n",
      "\n",
      "[9648 rows x 8 columns]\n",
      "-------------------Training Set of Y------------------\n",
      "      0\n",
      "0     0\n",
      "1     0\n",
      "2     0\n",
      "3     0\n",
      "4     0\n",
      "...  ..\n",
      "9643  0\n",
      "9644  0\n",
      "9645  1\n",
      "9646  0\n",
      "9647  0\n",
      "\n",
      "[9648 rows x 1 columns]\n"
     ]
    }
   ],
   "source": [
    "print('-------------------Training Set of X------------------')\n",
    "print(pd.DataFrame(X_train))\n",
    "print('-------------------Training Set of Y------------------')\n",
    "print(pd.DataFrame(y_train))"
   ]
  },
  {
   "cell_type": "code",
   "execution_count": 44,
   "id": "5b12234c",
   "metadata": {},
   "outputs": [
    {
     "name": "stdout",
     "output_type": "stream",
     "text": [
      "-------------------Test Set of X------------------\n",
      "          0     1     2     3     4     5     6     7\n",
      "0     458.0  38.0  27.0  20.0  67.0  40.0  33.0   0.0\n",
      "1     488.0  47.0  40.0  47.0  53.0  55.0  33.0   0.0\n",
      "2     560.0  69.0  80.0  47.0  80.0  25.0  27.0  20.0\n",
      "3     485.0  47.0  40.0  33.0  67.0  30.0  47.0  20.0\n",
      "4     419.0  33.0  33.0  20.0  47.0  35.0  53.0  32.0\n",
      "...     ...   ...   ...   ...   ...   ...   ...   ...\n",
      "3211  425.0  33.0  40.0  27.0  33.0  55.0  47.0   0.0\n",
      "3212  458.0  44.0  60.0  40.0  33.0  40.0  33.0   0.0\n",
      "3213  470.0  42.0  73.0   0.0  53.0  50.0  47.0   0.0\n",
      "3214  533.0  67.0  67.0  53.0  80.0  35.0  33.0   0.0\n",
      "3215  494.0  53.0  67.0  40.0  53.0  25.0  40.0   0.0\n",
      "\n",
      "[3216 rows x 8 columns]\n",
      "-------------------Test Set of Y------------------\n",
      "      0\n",
      "0     0\n",
      "1     0\n",
      "2     0\n",
      "3     0\n",
      "4     0\n",
      "...  ..\n",
      "3211  0\n",
      "3212  0\n",
      "3213  0\n",
      "3214  0\n",
      "3215  0\n",
      "\n",
      "[3216 rows x 1 columns]\n"
     ]
    }
   ],
   "source": [
    "print('-------------------Test Set of X------------------')\n",
    "print(pd.DataFrame(X_test))\n",
    "print('-------------------Test Set of Y------------------')\n",
    "print(pd.DataFrame(y_test))"
   ]
  },
  {
   "cell_type": "code",
   "execution_count": 45,
   "id": "5b42a6c1",
   "metadata": {},
   "outputs": [],
   "source": [
    "# Feature Scaling\n",
    "from sklearn.preprocessing import StandardScaler\n",
    "sc = StandardScaler()\n",
    "X_train = sc.fit_transform(X_train)\n",
    "X_test = sc.transform(X_test)"
   ]
  },
  {
   "cell_type": "markdown",
   "id": "aef0d74e",
   "metadata": {},
   "source": [
    "### K Nearest Neghbours Classification"
   ]
  },
  {
   "cell_type": "code",
   "execution_count": 66,
   "id": "c987ddfa",
   "metadata": {},
   "outputs": [
    {
     "data": {
      "text/plain": [
       "KNeighborsClassifier()"
      ]
     },
     "execution_count": 66,
     "metadata": {},
     "output_type": "execute_result"
    }
   ],
   "source": [
    "# Fitting K-NN to train the Training set\n",
    "from sklearn.neighbors import KNeighborsClassifier\n",
    "classifier = KNeighborsClassifier(n_neighbors=5)\n",
    "classifier.fit(X_train, y_train)"
   ]
  },
  {
   "cell_type": "code",
   "execution_count": 67,
   "id": "1d7e6d0a",
   "metadata": {},
   "outputs": [
    {
     "data": {
      "text/plain": [
       "array([0, 0, 0, ..., 0, 0, 0], dtype=int8)"
      ]
     },
     "execution_count": 67,
     "metadata": {},
     "output_type": "execute_result"
    }
   ],
   "source": [
    "y_pred = classifier.predict(X_test)\n",
    "y_pred"
   ]
  },
  {
   "cell_type": "code",
   "execution_count": 68,
   "id": "884fcb28",
   "metadata": {},
   "outputs": [
    {
     "name": "stdout",
     "output_type": "stream",
     "text": [
      "My Confusion Matrix: [[2989   36]\n",
      " [ 120   71]]\n"
     ]
    }
   ],
   "source": [
    "# Confusion Matrix\n",
    "from sklearn.metrics import confusion_matrix\n",
    "print(\"My Confusion Matrix:\", confusion_matrix(y_test, y_pred))"
   ]
  },
  {
   "cell_type": "code",
   "execution_count": 69,
   "id": "0a31333a",
   "metadata": {},
   "outputs": [
    {
     "data": {
      "text/plain": [
       "<sklearn.metrics._plot.confusion_matrix.ConfusionMatrixDisplay at 0x23523884e88>"
      ]
     },
     "execution_count": 69,
     "metadata": {},
     "output_type": "execute_result"
    },
    {
     "data": {
      "image/png": "[encoded data removed]",
      "text/plain": [
       "<Figure size 432x288 with 2 Axes>"
      ]
     },
     "metadata": {
      "needs_background": "light"
     },
     "output_type": "display_data"
    }
   ],
   "source": [
    "from sklearn.metrics import plot_confusion_matrix\n",
    "from sklearn.metrics import confusion_matrix, classification_report\n",
    "plot_confusion_matrix(classifier, X_test, y_test)"
   ]
  },
  {
   "cell_type": "code",
   "execution_count": 73,
   "id": "caad7ca8",
   "metadata": {},
   "outputs": [
    {
     "name": "stdout",
     "output_type": "stream",
     "text": [
      "Testing Accuracy:  0.9514925373134329\n"
     ]
    }
   ],
   "source": [
    "from sklearn.metrics import accuracy_score\n",
    "print(\"Testing Accuracy: \", accuracy_score(y_test, y_pred))"
   ]
  },
  {
   "cell_type": "markdown",
   "id": "92784cad",
   "metadata": {},
   "source": [
    "### Naive Bayes Classification"
   ]
  },
  {
   "cell_type": "code",
   "execution_count": 76,
   "id": "098b1bf8",
   "metadata": {},
   "outputs": [
    {
     "name": "stdout",
     "output_type": "stream",
     "text": [
      "Training Accuracy : 0.8793532338308457\n",
      "Testing Accuracy : 0.867226368159204\n"
     ]
    }
   ],
   "source": [
    "from sklearn.naive_bayes import GaussianNB\n",
    "\n",
    "# creating a model\n",
    "model = GaussianNB()\n",
    "\n",
    "# fitting the training data to the model\n",
    "model.fit(X_train, y_train)\n",
    "\n",
    "# predicting the test set results\n",
    "y_pred = model.predict(X_test)\n",
    "\n",
    "# calculating the classification accuracies\n",
    "print(\"Training Accuracy :\", model.score(X_train, y_train))\n",
    "print(\"Testing Accuracy :\", model.score(X_test, y_test))"
   ]
  },
  {
   "cell_type": "code",
   "execution_count": 77,
   "id": "a5937fc9",
   "metadata": {},
   "outputs": [
    {
     "name": "stdout",
     "output_type": "stream",
     "text": [
      "My Confusion Matrix: [[2698  327]\n",
      " [ 100   91]]\n"
     ]
    }
   ],
   "source": [
    "# Confusion Matrix\n",
    "from sklearn.metrics import confusion_matrix\n",
    "print(\"My Confusion Matrix:\", confusion_matrix(y_test, y_pred))"
   ]
  },
  {
   "cell_type": "code",
   "execution_count": 78,
   "id": "4340e7cf",
   "metadata": {},
   "outputs": [
    {
     "data": {
      "text/plain": [
       "<sklearn.metrics._plot.confusion_matrix.ConfusionMatrixDisplay at 0x23524b84288>"
      ]
     },
     "execution_count": 78,
     "metadata": {},
     "output_type": "execute_result"
    },
    {
     "data": {
      "image/png": "[encoded data removed]",
      "text/plain": [
       "<Figure size 432x288 with 2 Axes>"
      ]
     },
     "metadata": {
      "needs_background": "light"
     },
     "output_type": "display_data"
    }
   ],
   "source": [
    "from sklearn.metrics import plot_confusion_matrix\n",
    "from sklearn.metrics import confusion_matrix, classification_report\n",
    "plot_confusion_matrix(model, X_test, y_test)"
   ]
  },
  {
   "cell_type": "markdown",
   "id": "989368cd",
   "metadata": {},
   "source": [
    "### Decision Tree Classification"
   ]
  },
  {
   "cell_type": "code",
   "execution_count": 81,
   "id": "f11c08fb",
   "metadata": {},
   "outputs": [
    {
     "name": "stdout",
     "output_type": "stream",
     "text": [
      "Training Accuracy : 1.0\n",
      "Testing Accuracy : 0.9738805970149254\n"
     ]
    }
   ],
   "source": [
    "from sklearn.tree import DecisionTreeClassifier\n",
    "\n",
    "# creating a model\n",
    "classifier = DecisionTreeClassifier()\n",
    "\n",
    "# fitting the training data to the model\n",
    "classifier.fit(X_train, y_train)\n",
    "\n",
    "# predicting the x-test results\n",
    "y_pred = classifier.predict(X_test)\n",
    "\n",
    "# calculating the accuracies\n",
    "print(\"Training Accuracy :\", classifier.score(X_train, y_train))\n",
    "print(\"Testing Accuracy :\", classifier.score(X_test, y_test))"
   ]
  },
  {
   "cell_type": "code",
   "execution_count": 82,
   "id": "7b4209a0",
   "metadata": {},
   "outputs": [
    {
     "name": "stdout",
     "output_type": "stream",
     "text": [
      "My Confusion Matrix: [[2985   40]\n",
      " [  44  147]]\n"
     ]
    }
   ],
   "source": [
    "# Confusion Matrix\n",
    "from sklearn.metrics import confusion_matrix\n",
    "print(\"My Confusion Matrix:\", confusion_matrix(y_test, y_pred))"
   ]
  },
  {
   "cell_type": "code",
   "execution_count": 83,
   "id": "66b1a5fb",
   "metadata": {},
   "outputs": [
    {
     "data": {
      "text/plain": [
       "<sklearn.metrics._plot.confusion_matrix.ConfusionMatrixDisplay at 0x23524f2edc8>"
      ]
     },
     "execution_count": 83,
     "metadata": {},
     "output_type": "execute_result"
    },
    {
     "data": {
      "image/png": "[encoded data removed]",
      "text/plain": [
       "<Figure size 432x288 with 2 Axes>"
      ]
     },
     "metadata": {
      "needs_background": "light"
     },
     "output_type": "display_data"
    }
   ],
   "source": [
    "from sklearn.metrics import plot_confusion_matrix\n",
    "from sklearn.metrics import confusion_matrix, classification_report\n",
    "plot_confusion_matrix(classifier, X_test, y_test)"
   ]
  },
  {
   "cell_type": "code",
   "execution_count": 85,
   "id": "22e0ce18",
   "metadata": {},
   "outputs": [
    {
     "name": "stdout",
     "output_type": "stream",
     "text": [
      "New customer class: [0]\n",
      "Placed\n"
     ]
    }
   ],
   "source": [
    "k=classifier.predict(sc.transform([[585, 70, 88, 54, 68, 31, 21, 21]]))\n",
    "print(\"New customer class:\",k)\n",
    "if k[0]==0:\n",
    "    print(\"Placed\")\n",
    "else:\n",
    "    print(\"Not placed\")"
   ]
  }
 ],
 "metadata": {
  "kernelspec": {
   "display_name": "Python 3",
   "language": "python",
   "name": "python3"
  },
  "language_info": {
   "codemirror_mode": {
    "name": "ipython",
    "version": 3
   },
   "file_extension": ".py",
   "mimetype": "text/x-python",
   "name": "python",
   "nbconvert_exporter": "python",
   "pygments_lexer": "ipython3",
   "version": "3.7.10"
  },
  "toc": {
   "base_numbering": 1,
   "nav_menu": {},
   "number_sections": false,
   "sideBar": true,
   "skip_h1_title": false,
   "title_cell": "Table of Contents",
   "title_sidebar": "Contents",
   "toc_cell": false,
   "toc_position": {},
   "toc_section_display": true,
   "toc_window_display": false
  }
 },
 "nbformat": 4,
 "nbformat_minor": 5
}
