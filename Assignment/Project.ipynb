{
 "cells": [
  {
   "cell_type": "code",
   "execution_count": 1,
   "metadata": {},
   "outputs": [],
   "source": [
    "import numpy as np\n",
    "import pandas as pd\n",
    "import matplotlib.pyplot as plt\n",
    "import seaborn as sns\n",
    "import warnings\n",
    "warnings.filterwarnings('ignore')"
   ]
  },
  {
   "cell_type": "code",
   "execution_count": 2,
   "metadata": {},
   "outputs": [
    {
     "name": "stdout",
     "output_type": "stream",
     "text": [
      "(12865, 11)\n"
     ]
    },
    {
     "data": {
      "text/html": [
       "<div>\n",
       "<style scoped>\n",
       "    .dataframe tbody tr th:only-of-type {\n",
       "        vertical-align: middle;\n",
       "    }\n",
       "\n",
       "    .dataframe tbody tr th {\n",
       "        vertical-align: top;\n",
       "    }\n",
       "\n",
       "    .dataframe thead th {\n",
       "        text-align: right;\n",
       "    }\n",
       "</style>\n",
       "<table border=\"1\" class=\"dataframe\">\n",
       "  <thead>\n",
       "    <tr style=\"text-align: right;\">\n",
       "      <th></th>\n",
       "      <th>Unnamed: 0</th>\n",
       "      <th>Unnamed: 1</th>\n",
       "      <th>Unnamed: 2</th>\n",
       "      <th>Unnamed: 3</th>\n",
       "      <th>Unnamed: 4</th>\n",
       "      <th>Unnamed: 5</th>\n",
       "      <th>Unnamed: 6</th>\n",
       "      <th>Unnamed: 7</th>\n",
       "      <th>Unnamed: 8</th>\n",
       "      <th>Unnamed: 9</th>\n",
       "      <th>Unnamed: 10</th>\n",
       "    </tr>\n",
       "  </thead>\n",
       "  <tbody>\n",
       "    <tr>\n",
       "      <td>0</td>\n",
       "      <td>Branch</td>\n",
       "      <td>Degree</td>\n",
       "      <td>Score/800</td>\n",
       "      <td>Aptitude</td>\n",
       "      <td>English</td>\n",
       "      <td>Quantitative</td>\n",
       "      <td>Analytical</td>\n",
       "      <td>Domain</td>\n",
       "      <td>Computer Fundamental</td>\n",
       "      <td>Coding</td>\n",
       "      <td>Placement Status</td>\n",
       "    </tr>\n",
       "    <tr>\n",
       "      <td>1</td>\n",
       "      <td>Applied Electronics and Instrumentation</td>\n",
       "      <td>B. Tech.</td>\n",
       "      <td>584</td>\n",
       "      <td>69</td>\n",
       "      <td>87</td>\n",
       "      <td>53</td>\n",
       "      <td>67</td>\n",
       "      <td>30</td>\n",
       "      <td>20</td>\n",
       "      <td>60</td>\n",
       "      <td>Placed</td>\n",
       "    </tr>\n",
       "    <tr>\n",
       "      <td>2</td>\n",
       "      <td>Mechanical Engineering</td>\n",
       "      <td>B. Tech.</td>\n",
       "      <td>584</td>\n",
       "      <td>76</td>\n",
       "      <td>80</td>\n",
       "      <td>73</td>\n",
       "      <td>73</td>\n",
       "      <td>55</td>\n",
       "      <td>40</td>\n",
       "      <td>0</td>\n",
       "      <td>NaN</td>\n",
       "    </tr>\n",
       "    <tr>\n",
       "      <td>3</td>\n",
       "      <td>Electronics and Communications Engineering</td>\n",
       "      <td>B. Tech.</td>\n",
       "      <td>578</td>\n",
       "      <td>71</td>\n",
       "      <td>73</td>\n",
       "      <td>73</td>\n",
       "      <td>67</td>\n",
       "      <td>55</td>\n",
       "      <td>47</td>\n",
       "      <td>20</td>\n",
       "      <td>NaN</td>\n",
       "    </tr>\n",
       "    <tr>\n",
       "      <td>4</td>\n",
       "      <td>Applied Electronics and Instrumentation</td>\n",
       "      <td>B. Tech.</td>\n",
       "      <td>578</td>\n",
       "      <td>71</td>\n",
       "      <td>93</td>\n",
       "      <td>40</td>\n",
       "      <td>80</td>\n",
       "      <td>50</td>\n",
       "      <td>33</td>\n",
       "      <td>20</td>\n",
       "      <td>NaN</td>\n",
       "    </tr>\n",
       "  </tbody>\n",
       "</table>\n",
       "</div>"
      ],
      "text/plain": [
       "                                   Unnamed: 0 Unnamed: 1 Unnamed: 2  \\\n",
       "0                                      Branch     Degree  Score/800   \n",
       "1     Applied Electronics and Instrumentation   B. Tech.        584   \n",
       "2                      Mechanical Engineering   B. Tech.        584   \n",
       "3  Electronics and Communications Engineering   B. Tech.        578   \n",
       "4     Applied Electronics and Instrumentation   B. Tech.        578   \n",
       "\n",
       "  Unnamed: 3 Unnamed: 4    Unnamed: 5  Unnamed: 6 Unnamed: 7  \\\n",
       "0   Aptitude    English  Quantitative  Analytical     Domain   \n",
       "1         69         87            53          67         30   \n",
       "2         76         80            73          73         55   \n",
       "3         71         73            73          67         55   \n",
       "4         71         93            40          80         50   \n",
       "\n",
       "             Unnamed: 8 Unnamed: 9       Unnamed: 10  \n",
       "0  Computer Fundamental     Coding  Placement Status  \n",
       "1                    20         60            Placed  \n",
       "2                    40          0               NaN  \n",
       "3                    47         20               NaN  \n",
       "4                    33         20               NaN  "
      ]
     },
     "execution_count": 2,
     "metadata": {},
     "output_type": "execute_result"
    }
   ],
   "source": [
    "data = pd.read_excel('DataPlacement.xlsx')\n",
    "print(data.shape)\n",
    "data.head()"
   ]
  },
  {
   "cell_type": "code",
   "execution_count": 3,
   "metadata": {},
   "outputs": [
    {
     "data": {
      "text/html": [
       "<div>\n",
       "<style scoped>\n",
       "    .dataframe tbody tr th:only-of-type {\n",
       "        vertical-align: middle;\n",
       "    }\n",
       "\n",
       "    .dataframe tbody tr th {\n",
       "        vertical-align: top;\n",
       "    }\n",
       "\n",
       "    .dataframe thead th {\n",
       "        text-align: right;\n",
       "    }\n",
       "</style>\n",
       "<table border=\"1\" class=\"dataframe\">\n",
       "  <thead>\n",
       "    <tr style=\"text-align: right;\">\n",
       "      <th></th>\n",
       "      <th>Branch</th>\n",
       "      <th>Degree</th>\n",
       "      <th>Score/800</th>\n",
       "      <th>Aptitude</th>\n",
       "      <th>English</th>\n",
       "      <th>Quantitative</th>\n",
       "      <th>Analytical</th>\n",
       "      <th>Domain</th>\n",
       "      <th>Computer Fundamental</th>\n",
       "      <th>Coding</th>\n",
       "      <th>Placement Status</th>\n",
       "    </tr>\n",
       "  </thead>\n",
       "  <tbody>\n",
       "    <tr>\n",
       "      <td>0</td>\n",
       "      <td>Branch</td>\n",
       "      <td>Degree</td>\n",
       "      <td>Score/800</td>\n",
       "      <td>Aptitude</td>\n",
       "      <td>English</td>\n",
       "      <td>Quantitative</td>\n",
       "      <td>Analytical</td>\n",
       "      <td>Domain</td>\n",
       "      <td>Computer Fundamental</td>\n",
       "      <td>Coding</td>\n",
       "      <td>Placement Status</td>\n",
       "    </tr>\n",
       "    <tr>\n",
       "      <td>1</td>\n",
       "      <td>Applied Electronics and Instrumentation</td>\n",
       "      <td>B. Tech.</td>\n",
       "      <td>584</td>\n",
       "      <td>69</td>\n",
       "      <td>87</td>\n",
       "      <td>53</td>\n",
       "      <td>67</td>\n",
       "      <td>30</td>\n",
       "      <td>20</td>\n",
       "      <td>60</td>\n",
       "      <td>Placed</td>\n",
       "    </tr>\n",
       "    <tr>\n",
       "      <td>2</td>\n",
       "      <td>Mechanical Engineering</td>\n",
       "      <td>B. Tech.</td>\n",
       "      <td>584</td>\n",
       "      <td>76</td>\n",
       "      <td>80</td>\n",
       "      <td>73</td>\n",
       "      <td>73</td>\n",
       "      <td>55</td>\n",
       "      <td>40</td>\n",
       "      <td>0</td>\n",
       "      <td>NaN</td>\n",
       "    </tr>\n",
       "    <tr>\n",
       "      <td>3</td>\n",
       "      <td>Electronics and Communications Engineering</td>\n",
       "      <td>B. Tech.</td>\n",
       "      <td>578</td>\n",
       "      <td>71</td>\n",
       "      <td>73</td>\n",
       "      <td>73</td>\n",
       "      <td>67</td>\n",
       "      <td>55</td>\n",
       "      <td>47</td>\n",
       "      <td>20</td>\n",
       "      <td>NaN</td>\n",
       "    </tr>\n",
       "    <tr>\n",
       "      <td>4</td>\n",
       "      <td>Applied Electronics and Instrumentation</td>\n",
       "      <td>B. Tech.</td>\n",
       "      <td>578</td>\n",
       "      <td>71</td>\n",
       "      <td>93</td>\n",
       "      <td>40</td>\n",
       "      <td>80</td>\n",
       "      <td>50</td>\n",
       "      <td>33</td>\n",
       "      <td>20</td>\n",
       "      <td>NaN</td>\n",
       "    </tr>\n",
       "  </tbody>\n",
       "</table>\n",
       "</div>"
      ],
      "text/plain": [
       "                                       Branch    Degree  Score/800  Aptitude  \\\n",
       "0                                      Branch    Degree  Score/800  Aptitude   \n",
       "1     Applied Electronics and Instrumentation  B. Tech.        584        69   \n",
       "2                      Mechanical Engineering  B. Tech.        584        76   \n",
       "3  Electronics and Communications Engineering  B. Tech.        578        71   \n",
       "4     Applied Electronics and Instrumentation  B. Tech.        578        71   \n",
       "\n",
       "   English  Quantitative  Analytical  Domain  Computer Fundamental  Coding  \\\n",
       "0  English  Quantitative  Analytical  Domain  Computer Fundamental  Coding   \n",
       "1       87            53          67      30                    20      60   \n",
       "2       80            73          73      55                    40       0   \n",
       "3       73            73          67      55                    47      20   \n",
       "4       93            40          80      50                    33      20   \n",
       "\n",
       "   Placement Status  \n",
       "0  Placement Status  \n",
       "1            Placed  \n",
       "2               NaN  \n",
       "3               NaN  \n",
       "4               NaN  "
      ]
     },
     "execution_count": 3,
     "metadata": {},
     "output_type": "execute_result"
    }
   ],
   "source": [
    "#rename columns\n",
    "data.rename(columns=data.iloc[0], inplace=True)\n",
    "data.head()"
   ]
  },
  {
   "cell_type": "code",
   "execution_count": 4,
   "metadata": {},
   "outputs": [
    {
     "data": {
      "text/html": [
       "<div>\n",
       "<style scoped>\n",
       "    .dataframe tbody tr th:only-of-type {\n",
       "        vertical-align: middle;\n",
       "    }\n",
       "\n",
       "    .dataframe tbody tr th {\n",
       "        vertical-align: top;\n",
       "    }\n",
       "\n",
       "    .dataframe thead th {\n",
       "        text-align: right;\n",
       "    }\n",
       "</style>\n",
       "<table border=\"1\" class=\"dataframe\">\n",
       "  <thead>\n",
       "    <tr style=\"text-align: right;\">\n",
       "      <th></th>\n",
       "      <th>Branch</th>\n",
       "      <th>Degree</th>\n",
       "      <th>Score/800</th>\n",
       "      <th>Aptitude</th>\n",
       "      <th>English</th>\n",
       "      <th>Quantitative</th>\n",
       "      <th>Analytical</th>\n",
       "      <th>Domain</th>\n",
       "      <th>Computer Fundamental</th>\n",
       "      <th>Coding</th>\n",
       "      <th>Placement Status</th>\n",
       "    </tr>\n",
       "  </thead>\n",
       "  <tbody>\n",
       "    <tr>\n",
       "      <td>1</td>\n",
       "      <td>Applied Electronics and Instrumentation</td>\n",
       "      <td>B. Tech.</td>\n",
       "      <td>584</td>\n",
       "      <td>69</td>\n",
       "      <td>87</td>\n",
       "      <td>53</td>\n",
       "      <td>67</td>\n",
       "      <td>30</td>\n",
       "      <td>20</td>\n",
       "      <td>60</td>\n",
       "      <td>Placed</td>\n",
       "    </tr>\n",
       "    <tr>\n",
       "      <td>2</td>\n",
       "      <td>Mechanical Engineering</td>\n",
       "      <td>B. Tech.</td>\n",
       "      <td>584</td>\n",
       "      <td>76</td>\n",
       "      <td>80</td>\n",
       "      <td>73</td>\n",
       "      <td>73</td>\n",
       "      <td>55</td>\n",
       "      <td>40</td>\n",
       "      <td>0</td>\n",
       "      <td>NaN</td>\n",
       "    </tr>\n",
       "    <tr>\n",
       "      <td>3</td>\n",
       "      <td>Electronics and Communications Engineering</td>\n",
       "      <td>B. Tech.</td>\n",
       "      <td>578</td>\n",
       "      <td>71</td>\n",
       "      <td>73</td>\n",
       "      <td>73</td>\n",
       "      <td>67</td>\n",
       "      <td>55</td>\n",
       "      <td>47</td>\n",
       "      <td>20</td>\n",
       "      <td>NaN</td>\n",
       "    </tr>\n",
       "    <tr>\n",
       "      <td>4</td>\n",
       "      <td>Applied Electronics and Instrumentation</td>\n",
       "      <td>B. Tech.</td>\n",
       "      <td>578</td>\n",
       "      <td>71</td>\n",
       "      <td>93</td>\n",
       "      <td>40</td>\n",
       "      <td>80</td>\n",
       "      <td>50</td>\n",
       "      <td>33</td>\n",
       "      <td>20</td>\n",
       "      <td>NaN</td>\n",
       "    </tr>\n",
       "    <tr>\n",
       "      <td>5</td>\n",
       "      <td>Electronics and Communications Engineering</td>\n",
       "      <td>B. Tech.</td>\n",
       "      <td>575</td>\n",
       "      <td>64</td>\n",
       "      <td>73</td>\n",
       "      <td>47</td>\n",
       "      <td>73</td>\n",
       "      <td>55</td>\n",
       "      <td>53</td>\n",
       "      <td>20</td>\n",
       "      <td>NaN</td>\n",
       "    </tr>\n",
       "  </tbody>\n",
       "</table>\n",
       "</div>"
      ],
      "text/plain": [
       "                                       Branch    Degree Score/800 Aptitude  \\\n",
       "1     Applied Electronics and Instrumentation  B. Tech.       584       69   \n",
       "2                      Mechanical Engineering  B. Tech.       584       76   \n",
       "3  Electronics and Communications Engineering  B. Tech.       578       71   \n",
       "4     Applied Electronics and Instrumentation  B. Tech.       578       71   \n",
       "5  Electronics and Communications Engineering  B. Tech.       575       64   \n",
       "\n",
       "  English Quantitative Analytical Domain Computer Fundamental Coding  \\\n",
       "1      87           53         67     30                   20     60   \n",
       "2      80           73         73     55                   40      0   \n",
       "3      73           73         67     55                   47     20   \n",
       "4      93           40         80     50                   33     20   \n",
       "5      73           47         73     55                   53     20   \n",
       "\n",
       "  Placement Status  \n",
       "1           Placed  \n",
       "2              NaN  \n",
       "3              NaN  \n",
       "4              NaN  \n",
       "5              NaN  "
      ]
     },
     "execution_count": 4,
     "metadata": {},
     "output_type": "execute_result"
    }
   ],
   "source": [
    "#drop 0th index\n",
    "data.drop(index=0, inplace=True)\n",
    "data.head()"
   ]
  },
  {
   "cell_type": "code",
   "execution_count": 5,
   "metadata": {},
   "outputs": [
    {
     "data": {
      "text/html": [
       "<div>\n",
       "<style scoped>\n",
       "    .dataframe tbody tr th:only-of-type {\n",
       "        vertical-align: middle;\n",
       "    }\n",
       "\n",
       "    .dataframe tbody tr th {\n",
       "        vertical-align: top;\n",
       "    }\n",
       "\n",
       "    .dataframe thead th {\n",
       "        text-align: right;\n",
       "    }\n",
       "</style>\n",
       "<table border=\"1\" class=\"dataframe\">\n",
       "  <thead>\n",
       "    <tr style=\"text-align: right;\">\n",
       "      <th></th>\n",
       "      <th>index</th>\n",
       "      <th>Branch</th>\n",
       "      <th>Degree</th>\n",
       "      <th>Score/800</th>\n",
       "      <th>Aptitude</th>\n",
       "      <th>English</th>\n",
       "      <th>Quantitative</th>\n",
       "      <th>Analytical</th>\n",
       "      <th>Domain</th>\n",
       "      <th>Computer Fundamental</th>\n",
       "      <th>Coding</th>\n",
       "      <th>Placement Status</th>\n",
       "    </tr>\n",
       "  </thead>\n",
       "  <tbody>\n",
       "    <tr>\n",
       "      <td>0</td>\n",
       "      <td>1</td>\n",
       "      <td>Applied Electronics and Instrumentation</td>\n",
       "      <td>B. Tech.</td>\n",
       "      <td>584</td>\n",
       "      <td>69</td>\n",
       "      <td>87</td>\n",
       "      <td>53</td>\n",
       "      <td>67</td>\n",
       "      <td>30</td>\n",
       "      <td>20</td>\n",
       "      <td>60</td>\n",
       "      <td>Placed</td>\n",
       "    </tr>\n",
       "    <tr>\n",
       "      <td>1</td>\n",
       "      <td>2</td>\n",
       "      <td>Mechanical Engineering</td>\n",
       "      <td>B. Tech.</td>\n",
       "      <td>584</td>\n",
       "      <td>76</td>\n",
       "      <td>80</td>\n",
       "      <td>73</td>\n",
       "      <td>73</td>\n",
       "      <td>55</td>\n",
       "      <td>40</td>\n",
       "      <td>0</td>\n",
       "      <td>NaN</td>\n",
       "    </tr>\n",
       "    <tr>\n",
       "      <td>2</td>\n",
       "      <td>3</td>\n",
       "      <td>Electronics and Communications Engineering</td>\n",
       "      <td>B. Tech.</td>\n",
       "      <td>578</td>\n",
       "      <td>71</td>\n",
       "      <td>73</td>\n",
       "      <td>73</td>\n",
       "      <td>67</td>\n",
       "      <td>55</td>\n",
       "      <td>47</td>\n",
       "      <td>20</td>\n",
       "      <td>NaN</td>\n",
       "    </tr>\n",
       "    <tr>\n",
       "      <td>3</td>\n",
       "      <td>4</td>\n",
       "      <td>Applied Electronics and Instrumentation</td>\n",
       "      <td>B. Tech.</td>\n",
       "      <td>578</td>\n",
       "      <td>71</td>\n",
       "      <td>93</td>\n",
       "      <td>40</td>\n",
       "      <td>80</td>\n",
       "      <td>50</td>\n",
       "      <td>33</td>\n",
       "      <td>20</td>\n",
       "      <td>NaN</td>\n",
       "    </tr>\n",
       "    <tr>\n",
       "      <td>4</td>\n",
       "      <td>5</td>\n",
       "      <td>Electronics and Communications Engineering</td>\n",
       "      <td>B. Tech.</td>\n",
       "      <td>575</td>\n",
       "      <td>64</td>\n",
       "      <td>73</td>\n",
       "      <td>47</td>\n",
       "      <td>73</td>\n",
       "      <td>55</td>\n",
       "      <td>53</td>\n",
       "      <td>20</td>\n",
       "      <td>NaN</td>\n",
       "    </tr>\n",
       "  </tbody>\n",
       "</table>\n",
       "</div>"
      ],
      "text/plain": [
       "   index                                      Branch    Degree Score/800  \\\n",
       "0      1     Applied Electronics and Instrumentation  B. Tech.       584   \n",
       "1      2                      Mechanical Engineering  B. Tech.       584   \n",
       "2      3  Electronics and Communications Engineering  B. Tech.       578   \n",
       "3      4     Applied Electronics and Instrumentation  B. Tech.       578   \n",
       "4      5  Electronics and Communications Engineering  B. Tech.       575   \n",
       "\n",
       "  Aptitude English Quantitative Analytical Domain Computer Fundamental Coding  \\\n",
       "0       69      87           53         67     30                   20     60   \n",
       "1       76      80           73         73     55                   40      0   \n",
       "2       71      73           73         67     55                   47     20   \n",
       "3       71      93           40         80     50                   33     20   \n",
       "4       64      73           47         73     55                   53     20   \n",
       "\n",
       "  Placement Status  \n",
       "0           Placed  \n",
       "1              NaN  \n",
       "2              NaN  \n",
       "3              NaN  \n",
       "4              NaN  "
      ]
     },
     "execution_count": 5,
     "metadata": {},
     "output_type": "execute_result"
    }
   ],
   "source": [
    "#reset index\n",
    "data.reset_index(inplace=True)\n",
    "data.head()"
   ]
  },
  {
   "cell_type": "code",
   "execution_count": 6,
   "metadata": {},
   "outputs": [
    {
     "data": {
      "text/html": [
       "<div>\n",
       "<style scoped>\n",
       "    .dataframe tbody tr th:only-of-type {\n",
       "        vertical-align: middle;\n",
       "    }\n",
       "\n",
       "    .dataframe tbody tr th {\n",
       "        vertical-align: top;\n",
       "    }\n",
       "\n",
       "    .dataframe thead th {\n",
       "        text-align: right;\n",
       "    }\n",
       "</style>\n",
       "<table border=\"1\" class=\"dataframe\">\n",
       "  <thead>\n",
       "    <tr style=\"text-align: right;\">\n",
       "      <th></th>\n",
       "      <th>Branch</th>\n",
       "      <th>Degree</th>\n",
       "      <th>Score/800</th>\n",
       "      <th>Aptitude</th>\n",
       "      <th>English</th>\n",
       "      <th>Quantitative</th>\n",
       "      <th>Analytical</th>\n",
       "      <th>Domain</th>\n",
       "      <th>Computer Fundamental</th>\n",
       "      <th>Coding</th>\n",
       "      <th>Placement Status</th>\n",
       "    </tr>\n",
       "  </thead>\n",
       "  <tbody>\n",
       "    <tr>\n",
       "      <td>0</td>\n",
       "      <td>Applied Electronics and Instrumentation</td>\n",
       "      <td>B. Tech.</td>\n",
       "      <td>584</td>\n",
       "      <td>69</td>\n",
       "      <td>87</td>\n",
       "      <td>53</td>\n",
       "      <td>67</td>\n",
       "      <td>30</td>\n",
       "      <td>20</td>\n",
       "      <td>60</td>\n",
       "      <td>Placed</td>\n",
       "    </tr>\n",
       "    <tr>\n",
       "      <td>1</td>\n",
       "      <td>Mechanical Engineering</td>\n",
       "      <td>B. Tech.</td>\n",
       "      <td>584</td>\n",
       "      <td>76</td>\n",
       "      <td>80</td>\n",
       "      <td>73</td>\n",
       "      <td>73</td>\n",
       "      <td>55</td>\n",
       "      <td>40</td>\n",
       "      <td>0</td>\n",
       "      <td>NaN</td>\n",
       "    </tr>\n",
       "    <tr>\n",
       "      <td>2</td>\n",
       "      <td>Electronics and Communications Engineering</td>\n",
       "      <td>B. Tech.</td>\n",
       "      <td>578</td>\n",
       "      <td>71</td>\n",
       "      <td>73</td>\n",
       "      <td>73</td>\n",
       "      <td>67</td>\n",
       "      <td>55</td>\n",
       "      <td>47</td>\n",
       "      <td>20</td>\n",
       "      <td>NaN</td>\n",
       "    </tr>\n",
       "    <tr>\n",
       "      <td>3</td>\n",
       "      <td>Applied Electronics and Instrumentation</td>\n",
       "      <td>B. Tech.</td>\n",
       "      <td>578</td>\n",
       "      <td>71</td>\n",
       "      <td>93</td>\n",
       "      <td>40</td>\n",
       "      <td>80</td>\n",
       "      <td>50</td>\n",
       "      <td>33</td>\n",
       "      <td>20</td>\n",
       "      <td>NaN</td>\n",
       "    </tr>\n",
       "    <tr>\n",
       "      <td>4</td>\n",
       "      <td>Electronics and Communications Engineering</td>\n",
       "      <td>B. Tech.</td>\n",
       "      <td>575</td>\n",
       "      <td>64</td>\n",
       "      <td>73</td>\n",
       "      <td>47</td>\n",
       "      <td>73</td>\n",
       "      <td>55</td>\n",
       "      <td>53</td>\n",
       "      <td>20</td>\n",
       "      <td>NaN</td>\n",
       "    </tr>\n",
       "  </tbody>\n",
       "</table>\n",
       "</div>"
      ],
      "text/plain": [
       "                                       Branch    Degree Score/800 Aptitude  \\\n",
       "0     Applied Electronics and Instrumentation  B. Tech.       584       69   \n",
       "1                      Mechanical Engineering  B. Tech.       584       76   \n",
       "2  Electronics and Communications Engineering  B. Tech.       578       71   \n",
       "3     Applied Electronics and Instrumentation  B. Tech.       578       71   \n",
       "4  Electronics and Communications Engineering  B. Tech.       575       64   \n",
       "\n",
       "  English Quantitative Analytical Domain Computer Fundamental Coding  \\\n",
       "0      87           53         67     30                   20     60   \n",
       "1      80           73         73     55                   40      0   \n",
       "2      73           73         67     55                   47     20   \n",
       "3      93           40         80     50                   33     20   \n",
       "4      73           47         73     55                   53     20   \n",
       "\n",
       "  Placement Status  \n",
       "0           Placed  \n",
       "1              NaN  \n",
       "2              NaN  \n",
       "3              NaN  \n",
       "4              NaN  "
      ]
     },
     "execution_count": 6,
     "metadata": {},
     "output_type": "execute_result"
    }
   ],
   "source": [
    "#drop 'index' column\n",
    "data.drop(columns='index', inplace=True)\n",
    "data.head()"
   ]
  },
  {
   "cell_type": "code",
   "execution_count": 7,
   "metadata": {},
   "outputs": [
    {
     "name": "stdout",
     "output_type": "stream",
     "text": [
      "(12864, 11)\n"
     ]
    },
    {
     "data": {
      "text/html": [
       "<div>\n",
       "<style scoped>\n",
       "    .dataframe tbody tr th:only-of-type {\n",
       "        vertical-align: middle;\n",
       "    }\n",
       "\n",
       "    .dataframe tbody tr th {\n",
       "        vertical-align: top;\n",
       "    }\n",
       "\n",
       "    .dataframe thead th {\n",
       "        text-align: right;\n",
       "    }\n",
       "</style>\n",
       "<table border=\"1\" class=\"dataframe\">\n",
       "  <thead>\n",
       "    <tr style=\"text-align: right;\">\n",
       "      <th></th>\n",
       "      <th>Branch</th>\n",
       "      <th>Degree</th>\n",
       "      <th>Score/800</th>\n",
       "      <th>Aptitude</th>\n",
       "      <th>English</th>\n",
       "      <th>Quantitative</th>\n",
       "      <th>Analytical</th>\n",
       "      <th>Domain</th>\n",
       "      <th>Computer Fundamental</th>\n",
       "      <th>Coding</th>\n",
       "      <th>Placement Status</th>\n",
       "    </tr>\n",
       "  </thead>\n",
       "  <tbody>\n",
       "    <tr>\n",
       "      <td>0</td>\n",
       "      <td>Applied Electronics and Instrumentation</td>\n",
       "      <td>B. Tech.</td>\n",
       "      <td>584</td>\n",
       "      <td>69</td>\n",
       "      <td>87</td>\n",
       "      <td>53</td>\n",
       "      <td>67</td>\n",
       "      <td>30</td>\n",
       "      <td>20</td>\n",
       "      <td>60</td>\n",
       "      <td>Placed</td>\n",
       "    </tr>\n",
       "    <tr>\n",
       "      <td>1</td>\n",
       "      <td>Mechanical Engineering</td>\n",
       "      <td>B. Tech.</td>\n",
       "      <td>584</td>\n",
       "      <td>76</td>\n",
       "      <td>80</td>\n",
       "      <td>73</td>\n",
       "      <td>73</td>\n",
       "      <td>55</td>\n",
       "      <td>40</td>\n",
       "      <td>0</td>\n",
       "      <td>NaN</td>\n",
       "    </tr>\n",
       "    <tr>\n",
       "      <td>2</td>\n",
       "      <td>Electronics and Communications Engineering</td>\n",
       "      <td>B. Tech.</td>\n",
       "      <td>578</td>\n",
       "      <td>71</td>\n",
       "      <td>73</td>\n",
       "      <td>73</td>\n",
       "      <td>67</td>\n",
       "      <td>55</td>\n",
       "      <td>47</td>\n",
       "      <td>20</td>\n",
       "      <td>NaN</td>\n",
       "    </tr>\n",
       "    <tr>\n",
       "      <td>3</td>\n",
       "      <td>Applied Electronics and Instrumentation</td>\n",
       "      <td>B. Tech.</td>\n",
       "      <td>578</td>\n",
       "      <td>71</td>\n",
       "      <td>93</td>\n",
       "      <td>40</td>\n",
       "      <td>80</td>\n",
       "      <td>50</td>\n",
       "      <td>33</td>\n",
       "      <td>20</td>\n",
       "      <td>NaN</td>\n",
       "    </tr>\n",
       "    <tr>\n",
       "      <td>4</td>\n",
       "      <td>Electronics and Communications Engineering</td>\n",
       "      <td>B. Tech.</td>\n",
       "      <td>575</td>\n",
       "      <td>64</td>\n",
       "      <td>73</td>\n",
       "      <td>47</td>\n",
       "      <td>73</td>\n",
       "      <td>55</td>\n",
       "      <td>53</td>\n",
       "      <td>20</td>\n",
       "      <td>NaN</td>\n",
       "    </tr>\n",
       "  </tbody>\n",
       "</table>\n",
       "</div>"
      ],
      "text/plain": [
       "                                       Branch    Degree Score/800 Aptitude  \\\n",
       "0     Applied Electronics and Instrumentation  B. Tech.       584       69   \n",
       "1                      Mechanical Engineering  B. Tech.       584       76   \n",
       "2  Electronics and Communications Engineering  B. Tech.       578       71   \n",
       "3     Applied Electronics and Instrumentation  B. Tech.       578       71   \n",
       "4  Electronics and Communications Engineering  B. Tech.       575       64   \n",
       "\n",
       "  English Quantitative Analytical Domain Computer Fundamental Coding  \\\n",
       "0      87           53         67     30                   20     60   \n",
       "1      80           73         73     55                   40      0   \n",
       "2      73           73         67     55                   47     20   \n",
       "3      93           40         80     50                   33     20   \n",
       "4      73           47         73     55                   53     20   \n",
       "\n",
       "  Placement Status  \n",
       "0           Placed  \n",
       "1              NaN  \n",
       "2              NaN  \n",
       "3              NaN  \n",
       "4              NaN  "
      ]
     },
     "execution_count": 7,
     "metadata": {},
     "output_type": "execute_result"
    }
   ],
   "source": [
    "print(data.shape)\n",
    "data.head()"
   ]
  },
  {
   "cell_type": "code",
   "execution_count": 8,
   "metadata": {},
   "outputs": [
    {
     "data": {
      "text/plain": [
       "array(['B. Tech.', 'MCA', 'M. Tech.', 'MBA', 'BE'], dtype=object)"
      ]
     },
     "execution_count": 8,
     "metadata": {},
     "output_type": "execute_result"
    }
   ],
   "source": [
    "data.iloc[:,1].unique()"
   ]
  },
  {
   "cell_type": "code",
   "execution_count": 9,
   "metadata": {},
   "outputs": [
    {
     "data": {
      "text/html": [
       "<div>\n",
       "<style scoped>\n",
       "    .dataframe tbody tr th:only-of-type {\n",
       "        vertical-align: middle;\n",
       "    }\n",
       "\n",
       "    .dataframe tbody tr th {\n",
       "        vertical-align: top;\n",
       "    }\n",
       "\n",
       "    .dataframe thead th {\n",
       "        text-align: right;\n",
       "    }\n",
       "</style>\n",
       "<table border=\"1\" class=\"dataframe\">\n",
       "  <thead>\n",
       "    <tr style=\"text-align: right;\">\n",
       "      <th></th>\n",
       "      <th>Branch</th>\n",
       "      <th>Degree</th>\n",
       "      <th>Score/800</th>\n",
       "      <th>Aptitude</th>\n",
       "      <th>English</th>\n",
       "      <th>Quantitative</th>\n",
       "      <th>Analytical</th>\n",
       "      <th>Domain</th>\n",
       "      <th>Computer Fundamental</th>\n",
       "      <th>Coding</th>\n",
       "      <th>Placement Status</th>\n",
       "    </tr>\n",
       "  </thead>\n",
       "  <tbody>\n",
       "    <tr>\n",
       "      <td>0</td>\n",
       "      <td>Applied Electronics and Instrumentation</td>\n",
       "      <td>B. Tech.</td>\n",
       "      <td>73</td>\n",
       "      <td>69</td>\n",
       "      <td>87</td>\n",
       "      <td>53</td>\n",
       "      <td>67</td>\n",
       "      <td>30</td>\n",
       "      <td>20</td>\n",
       "      <td>60</td>\n",
       "      <td>Placed</td>\n",
       "    </tr>\n",
       "    <tr>\n",
       "      <td>1</td>\n",
       "      <td>Mechanical Engineering</td>\n",
       "      <td>B. Tech.</td>\n",
       "      <td>73</td>\n",
       "      <td>76</td>\n",
       "      <td>80</td>\n",
       "      <td>73</td>\n",
       "      <td>73</td>\n",
       "      <td>55</td>\n",
       "      <td>40</td>\n",
       "      <td>0</td>\n",
       "      <td>NaN</td>\n",
       "    </tr>\n",
       "    <tr>\n",
       "      <td>2</td>\n",
       "      <td>Electronics and Communications Engineering</td>\n",
       "      <td>B. Tech.</td>\n",
       "      <td>72.25</td>\n",
       "      <td>71</td>\n",
       "      <td>73</td>\n",
       "      <td>73</td>\n",
       "      <td>67</td>\n",
       "      <td>55</td>\n",
       "      <td>47</td>\n",
       "      <td>20</td>\n",
       "      <td>NaN</td>\n",
       "    </tr>\n",
       "    <tr>\n",
       "      <td>3</td>\n",
       "      <td>Applied Electronics and Instrumentation</td>\n",
       "      <td>B. Tech.</td>\n",
       "      <td>72.25</td>\n",
       "      <td>71</td>\n",
       "      <td>93</td>\n",
       "      <td>40</td>\n",
       "      <td>80</td>\n",
       "      <td>50</td>\n",
       "      <td>33</td>\n",
       "      <td>20</td>\n",
       "      <td>NaN</td>\n",
       "    </tr>\n",
       "    <tr>\n",
       "      <td>4</td>\n",
       "      <td>Electronics and Communications Engineering</td>\n",
       "      <td>B. Tech.</td>\n",
       "      <td>71.875</td>\n",
       "      <td>64</td>\n",
       "      <td>73</td>\n",
       "      <td>47</td>\n",
       "      <td>73</td>\n",
       "      <td>55</td>\n",
       "      <td>53</td>\n",
       "      <td>20</td>\n",
       "      <td>NaN</td>\n",
       "    </tr>\n",
       "  </tbody>\n",
       "</table>\n",
       "</div>"
      ],
      "text/plain": [
       "                                       Branch    Degree Score/800 Aptitude  \\\n",
       "0     Applied Electronics and Instrumentation  B. Tech.        73       69   \n",
       "1                      Mechanical Engineering  B. Tech.        73       76   \n",
       "2  Electronics and Communications Engineering  B. Tech.     72.25       71   \n",
       "3     Applied Electronics and Instrumentation  B. Tech.     72.25       71   \n",
       "4  Electronics and Communications Engineering  B. Tech.    71.875       64   \n",
       "\n",
       "  English Quantitative Analytical Domain Computer Fundamental Coding  \\\n",
       "0      87           53         67     30                   20     60   \n",
       "1      80           73         73     55                   40      0   \n",
       "2      73           73         67     55                   47     20   \n",
       "3      93           40         80     50                   33     20   \n",
       "4      73           47         73     55                   53     20   \n",
       "\n",
       "  Placement Status  \n",
       "0           Placed  \n",
       "1              NaN  \n",
       "2              NaN  \n",
       "3              NaN  \n",
       "4              NaN  "
      ]
     },
     "execution_count": 9,
     "metadata": {},
     "output_type": "execute_result"
    }
   ],
   "source": [
    "data.iloc[:,2]=(data.iloc[:,2]/800)*100\n",
    "data.head()"
   ]
  },
  {
   "cell_type": "code",
   "execution_count": 10,
   "metadata": {},
   "outputs": [
    {
     "data": {
      "text/html": [
       "<div>\n",
       "<style scoped>\n",
       "    .dataframe tbody tr th:only-of-type {\n",
       "        vertical-align: middle;\n",
       "    }\n",
       "\n",
       "    .dataframe tbody tr th {\n",
       "        vertical-align: top;\n",
       "    }\n",
       "\n",
       "    .dataframe thead th {\n",
       "        text-align: right;\n",
       "    }\n",
       "</style>\n",
       "<table border=\"1\" class=\"dataframe\">\n",
       "  <thead>\n",
       "    <tr style=\"text-align: right;\">\n",
       "      <th></th>\n",
       "      <th>Branch</th>\n",
       "      <th>Degree</th>\n",
       "      <th>Score/800</th>\n",
       "      <th>Aptitude</th>\n",
       "      <th>English</th>\n",
       "      <th>Quantitative</th>\n",
       "      <th>Analytical</th>\n",
       "      <th>Domain</th>\n",
       "      <th>Computer Fundamental</th>\n",
       "      <th>Coding</th>\n",
       "      <th>Placement Status</th>\n",
       "    </tr>\n",
       "  </thead>\n",
       "  <tbody>\n",
       "    <tr>\n",
       "      <td>12859</td>\n",
       "      <td>Mechanical Engineering</td>\n",
       "      <td>B. Tech.</td>\n",
       "      <td>50.125</td>\n",
       "      <td>31</td>\n",
       "      <td>47</td>\n",
       "      <td>20</td>\n",
       "      <td>27</td>\n",
       "      <td>35</td>\n",
       "      <td>40</td>\n",
       "      <td>0</td>\n",
       "      <td>NaN</td>\n",
       "    </tr>\n",
       "    <tr>\n",
       "      <td>12860</td>\n",
       "      <td>Agricultural Engineering</td>\n",
       "      <td>B. Tech.</td>\n",
       "      <td>48.25</td>\n",
       "      <td>31</td>\n",
       "      <td>33</td>\n",
       "      <td>20</td>\n",
       "      <td>40</td>\n",
       "      <td>0</td>\n",
       "      <td>13</td>\n",
       "      <td>0</td>\n",
       "      <td>NaN</td>\n",
       "    </tr>\n",
       "    <tr>\n",
       "      <td>12861</td>\n",
       "      <td>Electronics and Communications Engineering</td>\n",
       "      <td>B. Tech.</td>\n",
       "      <td>46.75</td>\n",
       "      <td>29</td>\n",
       "      <td>13</td>\n",
       "      <td>47</td>\n",
       "      <td>27</td>\n",
       "      <td>10</td>\n",
       "      <td>53</td>\n",
       "      <td>0</td>\n",
       "      <td>NaN</td>\n",
       "    </tr>\n",
       "    <tr>\n",
       "      <td>12862</td>\n",
       "      <td>Electrical Engineering</td>\n",
       "      <td>B. Tech.</td>\n",
       "      <td>46.75</td>\n",
       "      <td>29</td>\n",
       "      <td>20</td>\n",
       "      <td>33</td>\n",
       "      <td>33</td>\n",
       "      <td>25</td>\n",
       "      <td>13</td>\n",
       "      <td>0</td>\n",
       "      <td>NaN</td>\n",
       "    </tr>\n",
       "    <tr>\n",
       "      <td>12863</td>\n",
       "      <td>Civil Engineering</td>\n",
       "      <td>B. Tech.</td>\n",
       "      <td>46.375</td>\n",
       "      <td>27</td>\n",
       "      <td>27</td>\n",
       "      <td>13</td>\n",
       "      <td>40</td>\n",
       "      <td>40</td>\n",
       "      <td>33</td>\n",
       "      <td>0</td>\n",
       "      <td>NaN</td>\n",
       "    </tr>\n",
       "  </tbody>\n",
       "</table>\n",
       "</div>"
      ],
      "text/plain": [
       "                                           Branch    Degree Score/800  \\\n",
       "12859                      Mechanical Engineering  B. Tech.    50.125   \n",
       "12860                    Agricultural Engineering  B. Tech.     48.25   \n",
       "12861  Electronics and Communications Engineering  B. Tech.     46.75   \n",
       "12862                      Electrical Engineering  B. Tech.     46.75   \n",
       "12863                           Civil Engineering  B. Tech.    46.375   \n",
       "\n",
       "      Aptitude English Quantitative Analytical Domain Computer Fundamental  \\\n",
       "12859       31      47           20         27     35                   40   \n",
       "12860       31      33           20         40      0                   13   \n",
       "12861       29      13           47         27     10                   53   \n",
       "12862       29      20           33         33     25                   13   \n",
       "12863       27      27           13         40     40                   33   \n",
       "\n",
       "      Coding Placement Status  \n",
       "12859      0              NaN  \n",
       "12860      0              NaN  \n",
       "12861      0              NaN  \n",
       "12862      0              NaN  \n",
       "12863      0              NaN  "
      ]
     },
     "execution_count": 10,
     "metadata": {},
     "output_type": "execute_result"
    }
   ],
   "source": [
    "data.tail()"
   ]
  },
  {
   "cell_type": "code",
   "execution_count": 11,
   "metadata": {},
   "outputs": [
    {
     "data": {
      "text/plain": [
       "Branch                      0\n",
       "Degree                      0\n",
       "Score/800                   0\n",
       "Aptitude                    0\n",
       "English                     0\n",
       "Quantitative                0\n",
       "Analytical                  0\n",
       "Domain                      0\n",
       "Computer Fundamental        0\n",
       "Coding                      0\n",
       "Placement Status        12097\n",
       "dtype: int64"
      ]
     },
     "execution_count": 11,
     "metadata": {},
     "output_type": "execute_result"
    }
   ],
   "source": [
    "data.isnull().sum()"
   ]
  },
  {
   "cell_type": "code",
   "execution_count": 12,
   "metadata": {},
   "outputs": [
    {
     "data": {
      "text/html": [
       "<div>\n",
       "<style scoped>\n",
       "    .dataframe tbody tr th:only-of-type {\n",
       "        vertical-align: middle;\n",
       "    }\n",
       "\n",
       "    .dataframe tbody tr th {\n",
       "        vertical-align: top;\n",
       "    }\n",
       "\n",
       "    .dataframe thead th {\n",
       "        text-align: right;\n",
       "    }\n",
       "</style>\n",
       "<table border=\"1\" class=\"dataframe\">\n",
       "  <thead>\n",
       "    <tr style=\"text-align: right;\">\n",
       "      <th></th>\n",
       "      <th>Branch</th>\n",
       "      <th>Degree</th>\n",
       "      <th>Score/800</th>\n",
       "      <th>Aptitude</th>\n",
       "      <th>English</th>\n",
       "      <th>Quantitative</th>\n",
       "      <th>Analytical</th>\n",
       "      <th>Domain</th>\n",
       "      <th>Computer Fundamental</th>\n",
       "      <th>Coding</th>\n",
       "      <th>Placement Status</th>\n",
       "    </tr>\n",
       "  </thead>\n",
       "  <tbody>\n",
       "    <tr>\n",
       "      <td>count</td>\n",
       "      <td>12864</td>\n",
       "      <td>12864</td>\n",
       "      <td>12864.0</td>\n",
       "      <td>12864</td>\n",
       "      <td>12864</td>\n",
       "      <td>12864</td>\n",
       "      <td>12864</td>\n",
       "      <td>12864</td>\n",
       "      <td>12864</td>\n",
       "      <td>12864</td>\n",
       "      <td>767</td>\n",
       "    </tr>\n",
       "    <tr>\n",
       "      <td>unique</td>\n",
       "      <td>20</td>\n",
       "      <td>5</td>\n",
       "      <td>160.0</td>\n",
       "      <td>63</td>\n",
       "      <td>30</td>\n",
       "      <td>31</td>\n",
       "      <td>30</td>\n",
       "      <td>33</td>\n",
       "      <td>15</td>\n",
       "      <td>45</td>\n",
       "      <td>1</td>\n",
       "    </tr>\n",
       "    <tr>\n",
       "      <td>top</td>\n",
       "      <td>Electronics and Communications Engineering</td>\n",
       "      <td>B. Tech.</td>\n",
       "      <td>62.5</td>\n",
       "      <td>40</td>\n",
       "      <td>47</td>\n",
       "      <td>33</td>\n",
       "      <td>47</td>\n",
       "      <td>30</td>\n",
       "      <td>33</td>\n",
       "      <td>0</td>\n",
       "      <td>Placed</td>\n",
       "    </tr>\n",
       "    <tr>\n",
       "      <td>freq</td>\n",
       "      <td>2713</td>\n",
       "      <td>12368</td>\n",
       "      <td>317.0</td>\n",
       "      <td>981</td>\n",
       "      <td>1718</td>\n",
       "      <td>1694</td>\n",
       "      <td>1752</td>\n",
       "      <td>1833</td>\n",
       "      <td>2474</td>\n",
       "      <td>10470</td>\n",
       "      <td>767</td>\n",
       "    </tr>\n",
       "  </tbody>\n",
       "</table>\n",
       "</div>"
      ],
      "text/plain": [
       "                                            Branch    Degree  Score/800  \\\n",
       "count                                        12864     12864    12864.0   \n",
       "unique                                          20         5      160.0   \n",
       "top     Electronics and Communications Engineering  B. Tech.       62.5   \n",
       "freq                                          2713     12368      317.0   \n",
       "\n",
       "        Aptitude  English  Quantitative  Analytical  Domain  \\\n",
       "count      12864    12864         12864       12864   12864   \n",
       "unique        63       30            31          30      33   \n",
       "top           40       47            33          47      30   \n",
       "freq         981     1718          1694        1752    1833   \n",
       "\n",
       "        Computer Fundamental  Coding Placement Status  \n",
       "count                  12864   12864              767  \n",
       "unique                    15      45                1  \n",
       "top                       33       0           Placed  \n",
       "freq                    2474   10470              767  "
      ]
     },
     "execution_count": 12,
     "metadata": {},
     "output_type": "execute_result"
    }
   ],
   "source": [
    "data.describe()"
   ]
  },
  {
   "cell_type": "code",
   "execution_count": 13,
   "metadata": {},
   "outputs": [
    {
     "data": {
      "text/html": [
       "<div>\n",
       "<style scoped>\n",
       "    .dataframe tbody tr th:only-of-type {\n",
       "        vertical-align: middle;\n",
       "    }\n",
       "\n",
       "    .dataframe tbody tr th {\n",
       "        vertical-align: top;\n",
       "    }\n",
       "\n",
       "    .dataframe thead th {\n",
       "        text-align: right;\n",
       "    }\n",
       "</style>\n",
       "<table border=\"1\" class=\"dataframe\">\n",
       "  <thead>\n",
       "    <tr style=\"text-align: right;\">\n",
       "      <th></th>\n",
       "      <th>Branch</th>\n",
       "      <th>Degree</th>\n",
       "      <th>Score/800</th>\n",
       "      <th>Aptitude</th>\n",
       "      <th>English</th>\n",
       "      <th>Quantitative</th>\n",
       "      <th>Analytical</th>\n",
       "      <th>Domain</th>\n",
       "      <th>Computer Fundamental</th>\n",
       "      <th>Coding</th>\n",
       "      <th>Placement Status</th>\n",
       "    </tr>\n",
       "  </thead>\n",
       "  <tbody>\n",
       "    <tr>\n",
       "      <td>0</td>\n",
       "      <td>Applied Electronics and Instrumentation</td>\n",
       "      <td>B. Tech.</td>\n",
       "      <td>73</td>\n",
       "      <td>69</td>\n",
       "      <td>87</td>\n",
       "      <td>53</td>\n",
       "      <td>67</td>\n",
       "      <td>30</td>\n",
       "      <td>20</td>\n",
       "      <td>60</td>\n",
       "      <td>Placed</td>\n",
       "    </tr>\n",
       "    <tr>\n",
       "      <td>1</td>\n",
       "      <td>Mechanical Engineering</td>\n",
       "      <td>B. Tech.</td>\n",
       "      <td>73</td>\n",
       "      <td>76</td>\n",
       "      <td>80</td>\n",
       "      <td>73</td>\n",
       "      <td>73</td>\n",
       "      <td>55</td>\n",
       "      <td>40</td>\n",
       "      <td>0</td>\n",
       "      <td>Not Placed</td>\n",
       "    </tr>\n",
       "    <tr>\n",
       "      <td>2</td>\n",
       "      <td>Electronics and Communications Engineering</td>\n",
       "      <td>B. Tech.</td>\n",
       "      <td>72.25</td>\n",
       "      <td>71</td>\n",
       "      <td>73</td>\n",
       "      <td>73</td>\n",
       "      <td>67</td>\n",
       "      <td>55</td>\n",
       "      <td>47</td>\n",
       "      <td>20</td>\n",
       "      <td>Not Placed</td>\n",
       "    </tr>\n",
       "    <tr>\n",
       "      <td>3</td>\n",
       "      <td>Applied Electronics and Instrumentation</td>\n",
       "      <td>B. Tech.</td>\n",
       "      <td>72.25</td>\n",
       "      <td>71</td>\n",
       "      <td>93</td>\n",
       "      <td>40</td>\n",
       "      <td>80</td>\n",
       "      <td>50</td>\n",
       "      <td>33</td>\n",
       "      <td>20</td>\n",
       "      <td>Not Placed</td>\n",
       "    </tr>\n",
       "    <tr>\n",
       "      <td>4</td>\n",
       "      <td>Electronics and Communications Engineering</td>\n",
       "      <td>B. Tech.</td>\n",
       "      <td>71.875</td>\n",
       "      <td>64</td>\n",
       "      <td>73</td>\n",
       "      <td>47</td>\n",
       "      <td>73</td>\n",
       "      <td>55</td>\n",
       "      <td>53</td>\n",
       "      <td>20</td>\n",
       "      <td>Not Placed</td>\n",
       "    </tr>\n",
       "    <tr>\n",
       "      <td>...</td>\n",
       "      <td>...</td>\n",
       "      <td>...</td>\n",
       "      <td>...</td>\n",
       "      <td>...</td>\n",
       "      <td>...</td>\n",
       "      <td>...</td>\n",
       "      <td>...</td>\n",
       "      <td>...</td>\n",
       "      <td>...</td>\n",
       "      <td>...</td>\n",
       "      <td>...</td>\n",
       "    </tr>\n",
       "    <tr>\n",
       "      <td>12859</td>\n",
       "      <td>Mechanical Engineering</td>\n",
       "      <td>B. Tech.</td>\n",
       "      <td>50.125</td>\n",
       "      <td>31</td>\n",
       "      <td>47</td>\n",
       "      <td>20</td>\n",
       "      <td>27</td>\n",
       "      <td>35</td>\n",
       "      <td>40</td>\n",
       "      <td>0</td>\n",
       "      <td>Not Placed</td>\n",
       "    </tr>\n",
       "    <tr>\n",
       "      <td>12860</td>\n",
       "      <td>Agricultural Engineering</td>\n",
       "      <td>B. Tech.</td>\n",
       "      <td>48.25</td>\n",
       "      <td>31</td>\n",
       "      <td>33</td>\n",
       "      <td>20</td>\n",
       "      <td>40</td>\n",
       "      <td>0</td>\n",
       "      <td>13</td>\n",
       "      <td>0</td>\n",
       "      <td>Not Placed</td>\n",
       "    </tr>\n",
       "    <tr>\n",
       "      <td>12861</td>\n",
       "      <td>Electronics and Communications Engineering</td>\n",
       "      <td>B. Tech.</td>\n",
       "      <td>46.75</td>\n",
       "      <td>29</td>\n",
       "      <td>13</td>\n",
       "      <td>47</td>\n",
       "      <td>27</td>\n",
       "      <td>10</td>\n",
       "      <td>53</td>\n",
       "      <td>0</td>\n",
       "      <td>Not Placed</td>\n",
       "    </tr>\n",
       "    <tr>\n",
       "      <td>12862</td>\n",
       "      <td>Electrical Engineering</td>\n",
       "      <td>B. Tech.</td>\n",
       "      <td>46.75</td>\n",
       "      <td>29</td>\n",
       "      <td>20</td>\n",
       "      <td>33</td>\n",
       "      <td>33</td>\n",
       "      <td>25</td>\n",
       "      <td>13</td>\n",
       "      <td>0</td>\n",
       "      <td>Not Placed</td>\n",
       "    </tr>\n",
       "    <tr>\n",
       "      <td>12863</td>\n",
       "      <td>Civil Engineering</td>\n",
       "      <td>B. Tech.</td>\n",
       "      <td>46.375</td>\n",
       "      <td>27</td>\n",
       "      <td>27</td>\n",
       "      <td>13</td>\n",
       "      <td>40</td>\n",
       "      <td>40</td>\n",
       "      <td>33</td>\n",
       "      <td>0</td>\n",
       "      <td>Not Placed</td>\n",
       "    </tr>\n",
       "  </tbody>\n",
       "</table>\n",
       "<p>12864 rows × 11 columns</p>\n",
       "</div>"
      ],
      "text/plain": [
       "                                           Branch    Degree Score/800  \\\n",
       "0         Applied Electronics and Instrumentation  B. Tech.        73   \n",
       "1                          Mechanical Engineering  B. Tech.        73   \n",
       "2      Electronics and Communications Engineering  B. Tech.     72.25   \n",
       "3         Applied Electronics and Instrumentation  B. Tech.     72.25   \n",
       "4      Electronics and Communications Engineering  B. Tech.    71.875   \n",
       "...                                           ...       ...       ...   \n",
       "12859                      Mechanical Engineering  B. Tech.    50.125   \n",
       "12860                    Agricultural Engineering  B. Tech.     48.25   \n",
       "12861  Electronics and Communications Engineering  B. Tech.     46.75   \n",
       "12862                      Electrical Engineering  B. Tech.     46.75   \n",
       "12863                           Civil Engineering  B. Tech.    46.375   \n",
       "\n",
       "      Aptitude English Quantitative Analytical Domain Computer Fundamental  \\\n",
       "0           69      87           53         67     30                   20   \n",
       "1           76      80           73         73     55                   40   \n",
       "2           71      73           73         67     55                   47   \n",
       "3           71      93           40         80     50                   33   \n",
       "4           64      73           47         73     55                   53   \n",
       "...        ...     ...          ...        ...    ...                  ...   \n",
       "12859       31      47           20         27     35                   40   \n",
       "12860       31      33           20         40      0                   13   \n",
       "12861       29      13           47         27     10                   53   \n",
       "12862       29      20           33         33     25                   13   \n",
       "12863       27      27           13         40     40                   33   \n",
       "\n",
       "      Coding Placement Status  \n",
       "0         60           Placed  \n",
       "1          0       Not Placed  \n",
       "2         20       Not Placed  \n",
       "3         20       Not Placed  \n",
       "4         20       Not Placed  \n",
       "...      ...              ...  \n",
       "12859      0       Not Placed  \n",
       "12860      0       Not Placed  \n",
       "12861      0       Not Placed  \n",
       "12862      0       Not Placed  \n",
       "12863      0       Not Placed  \n",
       "\n",
       "[12864 rows x 11 columns]"
      ]
     },
     "execution_count": 13,
     "metadata": {},
     "output_type": "execute_result"
    }
   ],
   "source": [
    "#data.dropna()\n",
    "data[\"Placement Status\"].fillna(\"Not Placed\", inplace = True)\n",
    "data"
   ]
  },
  {
   "cell_type": "code",
   "execution_count": 14,
   "metadata": {},
   "outputs": [
    {
     "data": {
      "text/plain": [
       "(12864, 11)"
      ]
     },
     "execution_count": 14,
     "metadata": {},
     "output_type": "execute_result"
    }
   ],
   "source": [
    "data.shape"
   ]
  },
  {
   "cell_type": "code",
   "execution_count": 15,
   "metadata": {},
   "outputs": [
    {
     "data": {
      "image/png": "[encoded data removed]",
      "text/plain": [
       "<Figure size 432x288 with 1 Axes>"
      ]
     },
     "metadata": {
      "needs_background": "light"
     },
     "output_type": "display_data"
    }
   ],
   "source": [
    "data['Degree'].value_counts(normalize = True)\n",
    "data['Degree'].value_counts(dropna = False).plot.bar(color = 'magenta')\n",
    "plt.title('Comparison of Degrees')\n",
    "plt.xlabel('Degree name')\n",
    "plt.ylabel('count')\n",
    "plt.show()"
   ]
  },
  {
   "cell_type": "code",
   "execution_count": 16,
   "metadata": {},
   "outputs": [
    {
     "data": {
      "image/png": "[encoded data removed]",
      "text/plain": [
       "<Figure size 432x288 with 1 Axes>"
      ]
     },
     "metadata": {
      "needs_background": "light"
     },
     "output_type": "display_data"
    }
   ],
   "source": [
    "data['Branch'].value_counts(normalize = True)\n",
    "data['Branch'].value_counts(dropna = False).plot.bar(color = 'magenta')\n",
    "plt.title('Comparison of Branches')\n",
    "plt.xlabel('Branch name')\n",
    "plt.ylabel('count')\n",
    "plt.show()"
   ]
  },
  {
   "cell_type": "code",
   "execution_count": 17,
   "metadata": {},
   "outputs": [
    {
     "data": {
      "image/png": "[encoded data removed]",
      "text/plain": [
       "<Figure size 1296x720 with 1 Axes>"
      ]
     },
     "metadata": {
      "needs_background": "light"
     },
     "output_type": "display_data"
    }
   ],
   "source": [
    "data['Score/800'].value_counts(normalize = True)\n",
    "data['Score/800'].value_counts(dropna = False).plot.bar(figsize = (18, 10))\n",
    "plt.title('Comparison of Score')\n",
    "plt.xlabel('score')\n",
    "plt.ylabel('count')\n",
    "plt.show()"
   ]
  },
  {
   "cell_type": "code",
   "execution_count": 18,
   "metadata": {},
   "outputs": [
    {
     "data": {
      "image/png": "[encoded data removed]",
      "text/plain": [
       "<Figure size 1296x720 with 1 Axes>"
      ]
     },
     "metadata": {
      "needs_background": "light"
     },
     "output_type": "display_data"
    }
   ],
   "source": [
    "data['Aptitude'].value_counts(normalize = True)\n",
    "data['Aptitude'].value_counts(dropna = False).plot.bar(figsize = (18, 10), color = 'orange')\n",
    "plt.title('Comparison of Aptitude knowledge Score')\n",
    "plt.xlabel('Aptitude')\n",
    "plt.ylabel('count')\n",
    "plt.show()"
   ]
  },
  {
   "cell_type": "code",
   "execution_count": 19,
   "metadata": {},
   "outputs": [
    {
     "data": {
      "image/png": "[encoded data removed]",
      "text/plain": [
       "<Figure size 1296x720 with 1 Axes>"
      ]
     },
     "metadata": {
      "needs_background": "light"
     },
     "output_type": "display_data"
    }
   ],
   "source": [
    "data['English'].value_counts(normalize = True)\n",
    "data['English'].value_counts(dropna = False).plot.bar(figsize = (18, 10), color = 'green')\n",
    "plt.title('Comparison of English knowledge Score')\n",
    "plt.xlabel('English')\n",
    "plt.ylabel('count')\n",
    "plt.show()"
   ]
  },
  {
   "cell_type": "code",
   "execution_count": 20,
   "metadata": {},
   "outputs": [
    {
     "data": {
      "image/png": "[encoded data removed]",
      "text/plain": [
       "<Figure size 1296x720 with 1 Axes>"
      ]
     },
     "metadata": {
      "needs_background": "light"
     },
     "output_type": "display_data"
    }
   ],
   "source": [
    "data['Quantitative'].value_counts(normalize = True)\n",
    "data['Quantitative'].value_counts(dropna = False).plot.bar(figsize = (18, 10), color = 'green')\n",
    "plt.title('Comparison of Quantitative knowledge Score')\n",
    "plt.xlabel('Quantitative')\n",
    "plt.ylabel('count')\n",
    "plt.show()"
   ]
  },
  {
   "cell_type": "code",
   "execution_count": 21,
   "metadata": {},
   "outputs": [
    {
     "data": {
      "image/png": "[encoded data removed]",
      "text/plain": [
       "<Figure size 1296x720 with 1 Axes>"
      ]
     },
     "metadata": {
      "needs_background": "light"
     },
     "output_type": "display_data"
    }
   ],
   "source": [
    "data['Analytical'].value_counts(normalize = True)\n",
    "data['Analytical'].value_counts(dropna = False).plot.bar(figsize = (18, 10), color = 'green')\n",
    "plt.title('Comparison of Analytical knowledge Score')\n",
    "plt.xlabel('Analytical')\n",
    "plt.ylabel('count')\n",
    "plt.show()"
   ]
  },
  {
   "cell_type": "code",
   "execution_count": 22,
   "metadata": {},
   "outputs": [
    {
     "data": {
      "image/png": "[encoded data removed]",
      "text/plain": [
       "<Figure size 1296x720 with 1 Axes>"
      ]
     },
     "metadata": {
      "needs_background": "light"
     },
     "output_type": "display_data"
    }
   ],
   "source": [
    "data['Domain'].value_counts(normalize = True)\n",
    "data['Domain'].value_counts(dropna = False).plot.bar(figsize = (18, 10), color = 'green')\n",
    "plt.title('Comparison of Domain knowledge Score')\n",
    "plt.xlabel('Domain')\n",
    "plt.ylabel('count')\n",
    "plt.show()"
   ]
  },
  {
   "cell_type": "code",
   "execution_count": 23,
   "metadata": {},
   "outputs": [
    {
     "data": {
      "image/png": "[encoded data removed]",
      "text/plain": [
       "<Figure size 1296x720 with 1 Axes>"
      ]
     },
     "metadata": {
      "needs_background": "light"
     },
     "output_type": "display_data"
    }
   ],
   "source": [
    "data['Computer Fundamental'].value_counts(normalize = True)\n",
    "data['Computer Fundamental'].value_counts(dropna = False).plot.bar(figsize = (18, 10), color = 'green')\n",
    "plt.title('Comparison of Computer Fundamental knowledge Score')\n",
    "plt.xlabel('Computer Fundamental')\n",
    "plt.ylabel('count')\n",
    "plt.show()"
   ]
  },
  {
   "cell_type": "code",
   "execution_count": 24,
   "metadata": {},
   "outputs": [
    {
     "data": {
      "image/png": "[encoded data removed]",
      "text/plain": [
       "<Figure size 1296x720 with 1 Axes>"
      ]
     },
     "metadata": {
      "needs_background": "light"
     },
     "output_type": "display_data"
    }
   ],
   "source": [
    "data['Coding'].value_counts(normalize = True)\n",
    "data['Coding'].value_counts(dropna = False).plot.bar(figsize = (18, 10), color = 'green')\n",
    "plt.title('Comparison of Coding knowledge Score')\n",
    "plt.xlabel('Coding score')\n",
    "plt.ylabel('count')\n",
    "plt.show()"
   ]
  },
  {
   "cell_type": "code",
   "execution_count": 25,
   "metadata": {},
   "outputs": [
    {
     "data": {
      "text/plain": [
       "<matplotlib.axes._subplots.AxesSubplot at 0x27c438dbd88>"
      ]
     },
     "execution_count": 25,
     "metadata": {},
     "output_type": "execute_result"
    },
    {
     "data": {
      "image/png": "[encoded data removed]",
      "text/plain": [
       "<Figure size 288x288 with 1 Axes>"
      ]
     },
     "metadata": {
      "needs_background": "light"
     },
     "output_type": "display_data"
    }
   ],
   "source": [
    "# Branch vs success \n",
    "\n",
    "x = pd.crosstab(data['Branch'], data['Placement Status'])\n",
    "x.div(x.sum(1).astype(float), axis = 0).plot(kind = 'bar', stacked = True, figsize = (4, 4))"
   ]
  },
  {
   "cell_type": "code",
   "execution_count": 26,
   "metadata": {},
   "outputs": [
    {
     "name": "stdout",
     "output_type": "stream",
     "text": [
      "Not Placed    12097\n",
      "Placed          767\n",
      "Name: Placement Status, dtype: int64\n"
     ]
    },
    {
     "data": {
      "image/png": "[encoded data removed]",
      "text/plain": [
       "<Figure size 1152x288 with 1 Axes>"
      ]
     },
     "metadata": {
      "needs_background": "light"
     },
     "output_type": "display_data"
    }
   ],
   "source": [
    "s = data['Placement Status'].value_counts().head(10)\n",
    "print(s)\n",
    "fig_dims = (16, 4)\n",
    "\n",
    "fig, ax = plt.subplots(figsize=fig_dims)\n",
    "\n",
    "ax=sns.countplot(x = 'Placement Status', data = data,  hue = 'Branch', palette = 'bright')\n",
    "\n",
    "plt.show()"
   ]
  },
  {
   "cell_type": "code",
   "execution_count": 27,
   "metadata": {},
   "outputs": [
    {
     "data": {
      "text/html": [
       "<div>\n",
       "<style scoped>\n",
       "    .dataframe tbody tr th:only-of-type {\n",
       "        vertical-align: middle;\n",
       "    }\n",
       "\n",
       "    .dataframe tbody tr th {\n",
       "        vertical-align: top;\n",
       "    }\n",
       "\n",
       "    .dataframe thead th {\n",
       "        text-align: right;\n",
       "    }\n",
       "</style>\n",
       "<table border=\"1\" class=\"dataframe\">\n",
       "  <thead>\n",
       "    <tr style=\"text-align: right;\">\n",
       "      <th></th>\n",
       "      <th>Branch</th>\n",
       "      <th>Degree</th>\n",
       "      <th>Score/800</th>\n",
       "      <th>Aptitude</th>\n",
       "      <th>English</th>\n",
       "      <th>Quantitative</th>\n",
       "      <th>Analytical</th>\n",
       "      <th>Domain</th>\n",
       "      <th>Computer Fundamental</th>\n",
       "      <th>Coding</th>\n",
       "      <th>Placement Status</th>\n",
       "    </tr>\n",
       "  </thead>\n",
       "  <tbody>\n",
       "    <tr>\n",
       "      <td>0</td>\n",
       "      <td>Applied Electronics and Instrumentation</td>\n",
       "      <td>B. Tech.</td>\n",
       "      <td>73</td>\n",
       "      <td>69</td>\n",
       "      <td>87</td>\n",
       "      <td>53</td>\n",
       "      <td>67</td>\n",
       "      <td>30</td>\n",
       "      <td>20</td>\n",
       "      <td>60</td>\n",
       "      <td>Placed</td>\n",
       "    </tr>\n",
       "    <tr>\n",
       "      <td>1</td>\n",
       "      <td>Mechanical Engineering</td>\n",
       "      <td>B. Tech.</td>\n",
       "      <td>73</td>\n",
       "      <td>76</td>\n",
       "      <td>80</td>\n",
       "      <td>73</td>\n",
       "      <td>73</td>\n",
       "      <td>55</td>\n",
       "      <td>40</td>\n",
       "      <td>0</td>\n",
       "      <td>Not Placed</td>\n",
       "    </tr>\n",
       "    <tr>\n",
       "      <td>2</td>\n",
       "      <td>Electronics and Communications Engineering</td>\n",
       "      <td>B. Tech.</td>\n",
       "      <td>72.25</td>\n",
       "      <td>71</td>\n",
       "      <td>73</td>\n",
       "      <td>73</td>\n",
       "      <td>67</td>\n",
       "      <td>55</td>\n",
       "      <td>47</td>\n",
       "      <td>20</td>\n",
       "      <td>Not Placed</td>\n",
       "    </tr>\n",
       "    <tr>\n",
       "      <td>3</td>\n",
       "      <td>Applied Electronics and Instrumentation</td>\n",
       "      <td>B. Tech.</td>\n",
       "      <td>72.25</td>\n",
       "      <td>71</td>\n",
       "      <td>93</td>\n",
       "      <td>40</td>\n",
       "      <td>80</td>\n",
       "      <td>50</td>\n",
       "      <td>33</td>\n",
       "      <td>20</td>\n",
       "      <td>Not Placed</td>\n",
       "    </tr>\n",
       "    <tr>\n",
       "      <td>4</td>\n",
       "      <td>Electronics and Communications Engineering</td>\n",
       "      <td>B. Tech.</td>\n",
       "      <td>71.875</td>\n",
       "      <td>64</td>\n",
       "      <td>73</td>\n",
       "      <td>47</td>\n",
       "      <td>73</td>\n",
       "      <td>55</td>\n",
       "      <td>53</td>\n",
       "      <td>20</td>\n",
       "      <td>Not Placed</td>\n",
       "    </tr>\n",
       "  </tbody>\n",
       "</table>\n",
       "</div>"
      ],
      "text/plain": [
       "                                       Branch    Degree Score/800 Aptitude  \\\n",
       "0     Applied Electronics and Instrumentation  B. Tech.        73       69   \n",
       "1                      Mechanical Engineering  B. Tech.        73       76   \n",
       "2  Electronics and Communications Engineering  B. Tech.     72.25       71   \n",
       "3     Applied Electronics and Instrumentation  B. Tech.     72.25       71   \n",
       "4  Electronics and Communications Engineering  B. Tech.    71.875       64   \n",
       "\n",
       "  English Quantitative Analytical Domain Computer Fundamental Coding  \\\n",
       "0      87           53         67     30                   20     60   \n",
       "1      80           73         73     55                   40      0   \n",
       "2      73           73         67     55                   47     20   \n",
       "3      93           40         80     50                   33     20   \n",
       "4      73           47         73     55                   53     20   \n",
       "\n",
       "  Placement Status  \n",
       "0           Placed  \n",
       "1       Not Placed  \n",
       "2       Not Placed  \n",
       "3       Not Placed  \n",
       "4       Not Placed  "
      ]
     },
     "execution_count": 27,
     "metadata": {},
     "output_type": "execute_result"
    }
   ],
   "source": [
    "data.head()"
   ]
  },
  {
   "cell_type": "code",
   "execution_count": 28,
   "metadata": {},
   "outputs": [
    {
     "name": "stdout",
     "output_type": "stream",
     "text": [
      "0.8.0\n"
     ]
    }
   ],
   "source": [
    "# check version number\n",
    "import imblearn\n",
    "print(imblearn.__version__)"
   ]
  },
  {
   "cell_type": "code",
   "execution_count": 29,
   "metadata": {},
   "outputs": [
    {
     "data": {
      "text/plain": [
       "Electronics and Communications Engineering          2713\n",
       "Computer Science Engineering                        2542\n",
       "Electrical Engineering                              2337\n",
       "Mechanical Engineering                              2097\n",
       "Civil Engineering                                    952\n",
       "Electrical and Electronics Engineering               702\n",
       "Information Technology                               547\n",
       "Electronics and Instrumentation Engineering          240\n",
       "Computer Science And Information Technology          204\n",
       "Applied Electronics and Instrumentation              187\n",
       "MCA                                                  121\n",
       "Electronics & TeleCommunication Engineering          110\n",
       "Instrumentation and Control Engineering               42\n",
       "Electronic Instrumentation & Control Engineering      32\n",
       "Automobile Engineering                                17\n",
       "Agricultural Engineering                              15\n",
       "Machine Design                                         2\n",
       "MBA                                                    2\n",
       "Electrical & Communications Engineering                1\n",
       "Computer Application                                   1\n",
       "Name: Branch, dtype: int64"
      ]
     },
     "execution_count": 29,
     "metadata": {},
     "output_type": "execute_result"
    }
   ],
   "source": [
    "from sklearn.preprocessing import LabelEncoder\n",
    "\n",
    "# creating an encoder\n",
    "le = LabelEncoder()\n",
    "\n",
    "# label encoding for test preparation course\n",
    "data['Stream'] = le.fit_transform(data['Branch'])\n",
    "data['Branch'].value_counts()"
   ]
  },
  {
   "cell_type": "code",
   "execution_count": 30,
   "metadata": {},
   "outputs": [
    {
     "data": {
      "text/html": [
       "<div>\n",
       "<style scoped>\n",
       "    .dataframe tbody tr th:only-of-type {\n",
       "        vertical-align: middle;\n",
       "    }\n",
       "\n",
       "    .dataframe tbody tr th {\n",
       "        vertical-align: top;\n",
       "    }\n",
       "\n",
       "    .dataframe thead th {\n",
       "        text-align: right;\n",
       "    }\n",
       "</style>\n",
       "<table border=\"1\" class=\"dataframe\">\n",
       "  <thead>\n",
       "    <tr style=\"text-align: right;\">\n",
       "      <th></th>\n",
       "      <th>Branch</th>\n",
       "      <th>Degree</th>\n",
       "      <th>Score/800</th>\n",
       "      <th>Aptitude</th>\n",
       "      <th>English</th>\n",
       "      <th>Quantitative</th>\n",
       "      <th>Analytical</th>\n",
       "      <th>Domain</th>\n",
       "      <th>Computer Fundamental</th>\n",
       "      <th>Coding</th>\n",
       "      <th>Placement Status</th>\n",
       "      <th>Stream</th>\n",
       "    </tr>\n",
       "  </thead>\n",
       "  <tbody>\n",
       "    <tr>\n",
       "      <td>0</td>\n",
       "      <td>Applied Electronics and Instrumentation</td>\n",
       "      <td>B. Tech.</td>\n",
       "      <td>73</td>\n",
       "      <td>69</td>\n",
       "      <td>87</td>\n",
       "      <td>53</td>\n",
       "      <td>67</td>\n",
       "      <td>30</td>\n",
       "      <td>20</td>\n",
       "      <td>60</td>\n",
       "      <td>Placed</td>\n",
       "      <td>1</td>\n",
       "    </tr>\n",
       "    <tr>\n",
       "      <td>1</td>\n",
       "      <td>Mechanical Engineering</td>\n",
       "      <td>B. Tech.</td>\n",
       "      <td>73</td>\n",
       "      <td>76</td>\n",
       "      <td>80</td>\n",
       "      <td>73</td>\n",
       "      <td>73</td>\n",
       "      <td>55</td>\n",
       "      <td>40</td>\n",
       "      <td>0</td>\n",
       "      <td>Not Placed</td>\n",
       "      <td>19</td>\n",
       "    </tr>\n",
       "    <tr>\n",
       "      <td>2</td>\n",
       "      <td>Electronics and Communications Engineering</td>\n",
       "      <td>B. Tech.</td>\n",
       "      <td>72.25</td>\n",
       "      <td>71</td>\n",
       "      <td>73</td>\n",
       "      <td>73</td>\n",
       "      <td>67</td>\n",
       "      <td>55</td>\n",
       "      <td>47</td>\n",
       "      <td>20</td>\n",
       "      <td>Not Placed</td>\n",
       "      <td>12</td>\n",
       "    </tr>\n",
       "    <tr>\n",
       "      <td>3</td>\n",
       "      <td>Applied Electronics and Instrumentation</td>\n",
       "      <td>B. Tech.</td>\n",
       "      <td>72.25</td>\n",
       "      <td>71</td>\n",
       "      <td>93</td>\n",
       "      <td>40</td>\n",
       "      <td>80</td>\n",
       "      <td>50</td>\n",
       "      <td>33</td>\n",
       "      <td>20</td>\n",
       "      <td>Not Placed</td>\n",
       "      <td>1</td>\n",
       "    </tr>\n",
       "    <tr>\n",
       "      <td>4</td>\n",
       "      <td>Electronics and Communications Engineering</td>\n",
       "      <td>B. Tech.</td>\n",
       "      <td>71.875</td>\n",
       "      <td>64</td>\n",
       "      <td>73</td>\n",
       "      <td>47</td>\n",
       "      <td>73</td>\n",
       "      <td>55</td>\n",
       "      <td>53</td>\n",
       "      <td>20</td>\n",
       "      <td>Not Placed</td>\n",
       "      <td>12</td>\n",
       "    </tr>\n",
       "  </tbody>\n",
       "</table>\n",
       "</div>"
      ],
      "text/plain": [
       "                                       Branch    Degree Score/800 Aptitude  \\\n",
       "0     Applied Electronics and Instrumentation  B. Tech.        73       69   \n",
       "1                      Mechanical Engineering  B. Tech.        73       76   \n",
       "2  Electronics and Communications Engineering  B. Tech.     72.25       71   \n",
       "3     Applied Electronics and Instrumentation  B. Tech.     72.25       71   \n",
       "4  Electronics and Communications Engineering  B. Tech.    71.875       64   \n",
       "\n",
       "  English Quantitative Analytical Domain Computer Fundamental Coding  \\\n",
       "0      87           53         67     30                   20     60   \n",
       "1      80           73         73     55                   40      0   \n",
       "2      73           73         67     55                   47     20   \n",
       "3      93           40         80     50                   33     20   \n",
       "4      73           47         73     55                   53     20   \n",
       "\n",
       "  Placement Status  Stream  \n",
       "0           Placed       1  \n",
       "1       Not Placed      19  \n",
       "2       Not Placed      12  \n",
       "3       Not Placed       1  \n",
       "4       Not Placed      12  "
      ]
     },
     "execution_count": 30,
     "metadata": {},
     "output_type": "execute_result"
    }
   ],
   "source": [
    "data.head()"
   ]
  },
  {
   "cell_type": "code",
   "execution_count": 31,
   "metadata": {},
   "outputs": [
    {
     "data": {
      "text/plain": [
       "0    12097\n",
       "1      767\n",
       "Name: output, dtype: int64"
      ]
     },
     "execution_count": 31,
     "metadata": {},
     "output_type": "execute_result"
    }
   ],
   "source": [
    "from sklearn.preprocessing import LabelEncoder\n",
    "\n",
    "# creating an encoder\n",
    "le = LabelEncoder()\n",
    "\n",
    "# label encoding for test preparation course\n",
    "data['output'] = le.fit_transform(data['Placement Status'])\n",
    "\n",
    "data['output'].value_counts()"
   ]
  },
  {
   "cell_type": "code",
   "execution_count": 32,
   "metadata": {},
   "outputs": [
    {
     "data": {
      "text/plain": [
       "B. Tech.    12368\n",
       "BE            244\n",
       "M. Tech.      128\n",
       "MCA           122\n",
       "MBA             2\n",
       "Name: Degree, dtype: int64"
      ]
     },
     "execution_count": 32,
     "metadata": {},
     "output_type": "execute_result"
    }
   ],
   "source": [
    "from sklearn.preprocessing import LabelEncoder\n",
    "\n",
    "# creating an encoder\n",
    "le = LabelEncoder()\n",
    "\n",
    "# label encoding for test preparation course\n",
    "data['Degree2'] = le.fit_transform(data['Degree'])\n",
    "\n",
    "data['Degree'].value_counts()"
   ]
  },
  {
   "cell_type": "code",
   "execution_count": 33,
   "metadata": {},
   "outputs": [
    {
     "data": {
      "text/html": [
       "<div>\n",
       "<style scoped>\n",
       "    .dataframe tbody tr th:only-of-type {\n",
       "        vertical-align: middle;\n",
       "    }\n",
       "\n",
       "    .dataframe tbody tr th {\n",
       "        vertical-align: top;\n",
       "    }\n",
       "\n",
       "    .dataframe thead th {\n",
       "        text-align: right;\n",
       "    }\n",
       "</style>\n",
       "<table border=\"1\" class=\"dataframe\">\n",
       "  <thead>\n",
       "    <tr style=\"text-align: right;\">\n",
       "      <th></th>\n",
       "      <th>Branch</th>\n",
       "      <th>Degree</th>\n",
       "      <th>Score/800</th>\n",
       "      <th>Aptitude</th>\n",
       "      <th>English</th>\n",
       "      <th>Quantitative</th>\n",
       "      <th>Analytical</th>\n",
       "      <th>Domain</th>\n",
       "      <th>Computer Fundamental</th>\n",
       "      <th>Coding</th>\n",
       "      <th>Placement Status</th>\n",
       "      <th>Stream</th>\n",
       "      <th>output</th>\n",
       "      <th>Degree2</th>\n",
       "    </tr>\n",
       "  </thead>\n",
       "  <tbody>\n",
       "    <tr>\n",
       "      <td>0</td>\n",
       "      <td>Applied Electronics and Instrumentation</td>\n",
       "      <td>B. Tech.</td>\n",
       "      <td>73</td>\n",
       "      <td>69</td>\n",
       "      <td>87</td>\n",
       "      <td>53</td>\n",
       "      <td>67</td>\n",
       "      <td>30</td>\n",
       "      <td>20</td>\n",
       "      <td>60</td>\n",
       "      <td>Placed</td>\n",
       "      <td>1</td>\n",
       "      <td>1</td>\n",
       "      <td>0</td>\n",
       "    </tr>\n",
       "    <tr>\n",
       "      <td>1</td>\n",
       "      <td>Mechanical Engineering</td>\n",
       "      <td>B. Tech.</td>\n",
       "      <td>73</td>\n",
       "      <td>76</td>\n",
       "      <td>80</td>\n",
       "      <td>73</td>\n",
       "      <td>73</td>\n",
       "      <td>55</td>\n",
       "      <td>40</td>\n",
       "      <td>0</td>\n",
       "      <td>Not Placed</td>\n",
       "      <td>19</td>\n",
       "      <td>0</td>\n",
       "      <td>0</td>\n",
       "    </tr>\n",
       "    <tr>\n",
       "      <td>2</td>\n",
       "      <td>Electronics and Communications Engineering</td>\n",
       "      <td>B. Tech.</td>\n",
       "      <td>72.25</td>\n",
       "      <td>71</td>\n",
       "      <td>73</td>\n",
       "      <td>73</td>\n",
       "      <td>67</td>\n",
       "      <td>55</td>\n",
       "      <td>47</td>\n",
       "      <td>20</td>\n",
       "      <td>Not Placed</td>\n",
       "      <td>12</td>\n",
       "      <td>0</td>\n",
       "      <td>0</td>\n",
       "    </tr>\n",
       "    <tr>\n",
       "      <td>3</td>\n",
       "      <td>Applied Electronics and Instrumentation</td>\n",
       "      <td>B. Tech.</td>\n",
       "      <td>72.25</td>\n",
       "      <td>71</td>\n",
       "      <td>93</td>\n",
       "      <td>40</td>\n",
       "      <td>80</td>\n",
       "      <td>50</td>\n",
       "      <td>33</td>\n",
       "      <td>20</td>\n",
       "      <td>Not Placed</td>\n",
       "      <td>1</td>\n",
       "      <td>0</td>\n",
       "      <td>0</td>\n",
       "    </tr>\n",
       "    <tr>\n",
       "      <td>4</td>\n",
       "      <td>Electronics and Communications Engineering</td>\n",
       "      <td>B. Tech.</td>\n",
       "      <td>71.875</td>\n",
       "      <td>64</td>\n",
       "      <td>73</td>\n",
       "      <td>47</td>\n",
       "      <td>73</td>\n",
       "      <td>55</td>\n",
       "      <td>53</td>\n",
       "      <td>20</td>\n",
       "      <td>Not Placed</td>\n",
       "      <td>12</td>\n",
       "      <td>0</td>\n",
       "      <td>0</td>\n",
       "    </tr>\n",
       "  </tbody>\n",
       "</table>\n",
       "</div>"
      ],
      "text/plain": [
       "                                       Branch    Degree Score/800 Aptitude  \\\n",
       "0     Applied Electronics and Instrumentation  B. Tech.        73       69   \n",
       "1                      Mechanical Engineering  B. Tech.        73       76   \n",
       "2  Electronics and Communications Engineering  B. Tech.     72.25       71   \n",
       "3     Applied Electronics and Instrumentation  B. Tech.     72.25       71   \n",
       "4  Electronics and Communications Engineering  B. Tech.    71.875       64   \n",
       "\n",
       "  English Quantitative Analytical Domain Computer Fundamental Coding  \\\n",
       "0      87           53         67     30                   20     60   \n",
       "1      80           73         73     55                   40      0   \n",
       "2      73           73         67     55                   47     20   \n",
       "3      93           40         80     50                   33     20   \n",
       "4      73           47         73     55                   53     20   \n",
       "\n",
       "  Placement Status  Stream  output  Degree2  \n",
       "0           Placed       1       1        0  \n",
       "1       Not Placed      19       0        0  \n",
       "2       Not Placed      12       0        0  \n",
       "3       Not Placed       1       0        0  \n",
       "4       Not Placed      12       0        0  "
      ]
     },
     "execution_count": 33,
     "metadata": {},
     "output_type": "execute_result"
    }
   ],
   "source": [
    "data.head()"
   ]
  },
  {
   "cell_type": "code",
   "execution_count": 34,
   "metadata": {},
   "outputs": [
    {
     "data": {
      "text/html": [
       "<div>\n",
       "<style scoped>\n",
       "    .dataframe tbody tr th:only-of-type {\n",
       "        vertical-align: middle;\n",
       "    }\n",
       "\n",
       "    .dataframe tbody tr th {\n",
       "        vertical-align: top;\n",
       "    }\n",
       "\n",
       "    .dataframe thead th {\n",
       "        text-align: right;\n",
       "    }\n",
       "</style>\n",
       "<table border=\"1\" class=\"dataframe\">\n",
       "  <thead>\n",
       "    <tr style=\"text-align: right;\">\n",
       "      <th></th>\n",
       "      <th>Branch</th>\n",
       "      <th>Degree</th>\n",
       "      <th>Score/800</th>\n",
       "      <th>Aptitude</th>\n",
       "      <th>English</th>\n",
       "      <th>Quantitative</th>\n",
       "      <th>Analytical</th>\n",
       "      <th>Domain</th>\n",
       "      <th>Computer Fundamental</th>\n",
       "      <th>Coding</th>\n",
       "      <th>Placement Status</th>\n",
       "      <th>Stream</th>\n",
       "      <th>output</th>\n",
       "      <th>Degree2</th>\n",
       "    </tr>\n",
       "  </thead>\n",
       "  <tbody>\n",
       "    <tr>\n",
       "      <td>12859</td>\n",
       "      <td>Mechanical Engineering</td>\n",
       "      <td>B. Tech.</td>\n",
       "      <td>50.125</td>\n",
       "      <td>31</td>\n",
       "      <td>47</td>\n",
       "      <td>20</td>\n",
       "      <td>27</td>\n",
       "      <td>35</td>\n",
       "      <td>40</td>\n",
       "      <td>0</td>\n",
       "      <td>Not Placed</td>\n",
       "      <td>19</td>\n",
       "      <td>0</td>\n",
       "      <td>0</td>\n",
       "    </tr>\n",
       "    <tr>\n",
       "      <td>12860</td>\n",
       "      <td>Agricultural Engineering</td>\n",
       "      <td>B. Tech.</td>\n",
       "      <td>48.25</td>\n",
       "      <td>31</td>\n",
       "      <td>33</td>\n",
       "      <td>20</td>\n",
       "      <td>40</td>\n",
       "      <td>0</td>\n",
       "      <td>13</td>\n",
       "      <td>0</td>\n",
       "      <td>Not Placed</td>\n",
       "      <td>0</td>\n",
       "      <td>0</td>\n",
       "      <td>0</td>\n",
       "    </tr>\n",
       "    <tr>\n",
       "      <td>12861</td>\n",
       "      <td>Electronics and Communications Engineering</td>\n",
       "      <td>B. Tech.</td>\n",
       "      <td>46.75</td>\n",
       "      <td>29</td>\n",
       "      <td>13</td>\n",
       "      <td>47</td>\n",
       "      <td>27</td>\n",
       "      <td>10</td>\n",
       "      <td>53</td>\n",
       "      <td>0</td>\n",
       "      <td>Not Placed</td>\n",
       "      <td>12</td>\n",
       "      <td>0</td>\n",
       "      <td>0</td>\n",
       "    </tr>\n",
       "    <tr>\n",
       "      <td>12862</td>\n",
       "      <td>Electrical Engineering</td>\n",
       "      <td>B. Tech.</td>\n",
       "      <td>46.75</td>\n",
       "      <td>29</td>\n",
       "      <td>20</td>\n",
       "      <td>33</td>\n",
       "      <td>33</td>\n",
       "      <td>25</td>\n",
       "      <td>13</td>\n",
       "      <td>0</td>\n",
       "      <td>Not Placed</td>\n",
       "      <td>8</td>\n",
       "      <td>0</td>\n",
       "      <td>0</td>\n",
       "    </tr>\n",
       "    <tr>\n",
       "      <td>12863</td>\n",
       "      <td>Civil Engineering</td>\n",
       "      <td>B. Tech.</td>\n",
       "      <td>46.375</td>\n",
       "      <td>27</td>\n",
       "      <td>27</td>\n",
       "      <td>13</td>\n",
       "      <td>40</td>\n",
       "      <td>40</td>\n",
       "      <td>33</td>\n",
       "      <td>0</td>\n",
       "      <td>Not Placed</td>\n",
       "      <td>3</td>\n",
       "      <td>0</td>\n",
       "      <td>0</td>\n",
       "    </tr>\n",
       "  </tbody>\n",
       "</table>\n",
       "</div>"
      ],
      "text/plain": [
       "                                           Branch    Degree Score/800  \\\n",
       "12859                      Mechanical Engineering  B. Tech.    50.125   \n",
       "12860                    Agricultural Engineering  B. Tech.     48.25   \n",
       "12861  Electronics and Communications Engineering  B. Tech.     46.75   \n",
       "12862                      Electrical Engineering  B. Tech.     46.75   \n",
       "12863                           Civil Engineering  B. Tech.    46.375   \n",
       "\n",
       "      Aptitude English Quantitative Analytical Domain Computer Fundamental  \\\n",
       "12859       31      47           20         27     35                   40   \n",
       "12860       31      33           20         40      0                   13   \n",
       "12861       29      13           47         27     10                   53   \n",
       "12862       29      20           33         33     25                   13   \n",
       "12863       27      27           13         40     40                   33   \n",
       "\n",
       "      Coding Placement Status  Stream  output  Degree2  \n",
       "12859      0       Not Placed      19       0        0  \n",
       "12860      0       Not Placed       0       0        0  \n",
       "12861      0       Not Placed      12       0        0  \n",
       "12862      0       Not Placed       8       0        0  \n",
       "12863      0       Not Placed       3       0        0  "
      ]
     },
     "execution_count": 34,
     "metadata": {},
     "output_type": "execute_result"
    }
   ],
   "source": [
    "data.tail()"
   ]
  },
  {
   "cell_type": "code",
   "execution_count": 35,
   "metadata": {},
   "outputs": [
    {
     "data": {
      "text/html": [
       "<div>\n",
       "<style scoped>\n",
       "    .dataframe tbody tr th:only-of-type {\n",
       "        vertical-align: middle;\n",
       "    }\n",
       "\n",
       "    .dataframe tbody tr th {\n",
       "        vertical-align: top;\n",
       "    }\n",
       "\n",
       "    .dataframe thead th {\n",
       "        text-align: right;\n",
       "    }\n",
       "</style>\n",
       "<table border=\"1\" class=\"dataframe\">\n",
       "  <thead>\n",
       "    <tr style=\"text-align: right;\">\n",
       "      <th></th>\n",
       "      <th>Stream</th>\n",
       "      <th>Degree2</th>\n",
       "      <th>Score/800</th>\n",
       "      <th>Aptitude</th>\n",
       "      <th>English</th>\n",
       "      <th>Quantitative</th>\n",
       "      <th>Analytical</th>\n",
       "      <th>Domain</th>\n",
       "      <th>Computer Fundamental</th>\n",
       "      <th>Coding</th>\n",
       "      <th>output</th>\n",
       "    </tr>\n",
       "  </thead>\n",
       "  <tbody>\n",
       "    <tr>\n",
       "      <td>0</td>\n",
       "      <td>1</td>\n",
       "      <td>0</td>\n",
       "      <td>73</td>\n",
       "      <td>69</td>\n",
       "      <td>87</td>\n",
       "      <td>53</td>\n",
       "      <td>67</td>\n",
       "      <td>30</td>\n",
       "      <td>20</td>\n",
       "      <td>60</td>\n",
       "      <td>1</td>\n",
       "    </tr>\n",
       "    <tr>\n",
       "      <td>1</td>\n",
       "      <td>19</td>\n",
       "      <td>0</td>\n",
       "      <td>73</td>\n",
       "      <td>76</td>\n",
       "      <td>80</td>\n",
       "      <td>73</td>\n",
       "      <td>73</td>\n",
       "      <td>55</td>\n",
       "      <td>40</td>\n",
       "      <td>0</td>\n",
       "      <td>0</td>\n",
       "    </tr>\n",
       "    <tr>\n",
       "      <td>2</td>\n",
       "      <td>12</td>\n",
       "      <td>0</td>\n",
       "      <td>72.25</td>\n",
       "      <td>71</td>\n",
       "      <td>73</td>\n",
       "      <td>73</td>\n",
       "      <td>67</td>\n",
       "      <td>55</td>\n",
       "      <td>47</td>\n",
       "      <td>20</td>\n",
       "      <td>0</td>\n",
       "    </tr>\n",
       "    <tr>\n",
       "      <td>3</td>\n",
       "      <td>1</td>\n",
       "      <td>0</td>\n",
       "      <td>72.25</td>\n",
       "      <td>71</td>\n",
       "      <td>93</td>\n",
       "      <td>40</td>\n",
       "      <td>80</td>\n",
       "      <td>50</td>\n",
       "      <td>33</td>\n",
       "      <td>20</td>\n",
       "      <td>0</td>\n",
       "    </tr>\n",
       "    <tr>\n",
       "      <td>4</td>\n",
       "      <td>12</td>\n",
       "      <td>0</td>\n",
       "      <td>71.875</td>\n",
       "      <td>64</td>\n",
       "      <td>73</td>\n",
       "      <td>47</td>\n",
       "      <td>73</td>\n",
       "      <td>55</td>\n",
       "      <td>53</td>\n",
       "      <td>20</td>\n",
       "      <td>0</td>\n",
       "    </tr>\n",
       "    <tr>\n",
       "      <td>...</td>\n",
       "      <td>...</td>\n",
       "      <td>...</td>\n",
       "      <td>...</td>\n",
       "      <td>...</td>\n",
       "      <td>...</td>\n",
       "      <td>...</td>\n",
       "      <td>...</td>\n",
       "      <td>...</td>\n",
       "      <td>...</td>\n",
       "      <td>...</td>\n",
       "      <td>...</td>\n",
       "    </tr>\n",
       "    <tr>\n",
       "      <td>12859</td>\n",
       "      <td>19</td>\n",
       "      <td>0</td>\n",
       "      <td>50.125</td>\n",
       "      <td>31</td>\n",
       "      <td>47</td>\n",
       "      <td>20</td>\n",
       "      <td>27</td>\n",
       "      <td>35</td>\n",
       "      <td>40</td>\n",
       "      <td>0</td>\n",
       "      <td>0</td>\n",
       "    </tr>\n",
       "    <tr>\n",
       "      <td>12860</td>\n",
       "      <td>0</td>\n",
       "      <td>0</td>\n",
       "      <td>48.25</td>\n",
       "      <td>31</td>\n",
       "      <td>33</td>\n",
       "      <td>20</td>\n",
       "      <td>40</td>\n",
       "      <td>0</td>\n",
       "      <td>13</td>\n",
       "      <td>0</td>\n",
       "      <td>0</td>\n",
       "    </tr>\n",
       "    <tr>\n",
       "      <td>12861</td>\n",
       "      <td>12</td>\n",
       "      <td>0</td>\n",
       "      <td>46.75</td>\n",
       "      <td>29</td>\n",
       "      <td>13</td>\n",
       "      <td>47</td>\n",
       "      <td>27</td>\n",
       "      <td>10</td>\n",
       "      <td>53</td>\n",
       "      <td>0</td>\n",
       "      <td>0</td>\n",
       "    </tr>\n",
       "    <tr>\n",
       "      <td>12862</td>\n",
       "      <td>8</td>\n",
       "      <td>0</td>\n",
       "      <td>46.75</td>\n",
       "      <td>29</td>\n",
       "      <td>20</td>\n",
       "      <td>33</td>\n",
       "      <td>33</td>\n",
       "      <td>25</td>\n",
       "      <td>13</td>\n",
       "      <td>0</td>\n",
       "      <td>0</td>\n",
       "    </tr>\n",
       "    <tr>\n",
       "      <td>12863</td>\n",
       "      <td>3</td>\n",
       "      <td>0</td>\n",
       "      <td>46.375</td>\n",
       "      <td>27</td>\n",
       "      <td>27</td>\n",
       "      <td>13</td>\n",
       "      <td>40</td>\n",
       "      <td>40</td>\n",
       "      <td>33</td>\n",
       "      <td>0</td>\n",
       "      <td>0</td>\n",
       "    </tr>\n",
       "  </tbody>\n",
       "</table>\n",
       "<p>12864 rows × 11 columns</p>\n",
       "</div>"
      ],
      "text/plain": [
       "       Stream  Degree2 Score/800 Aptitude English Quantitative Analytical  \\\n",
       "0           1        0        73       69      87           53         67   \n",
       "1          19        0        73       76      80           73         73   \n",
       "2          12        0     72.25       71      73           73         67   \n",
       "3           1        0     72.25       71      93           40         80   \n",
       "4          12        0    71.875       64      73           47         73   \n",
       "...       ...      ...       ...      ...     ...          ...        ...   \n",
       "12859      19        0    50.125       31      47           20         27   \n",
       "12860       0        0     48.25       31      33           20         40   \n",
       "12861      12        0     46.75       29      13           47         27   \n",
       "12862       8        0     46.75       29      20           33         33   \n",
       "12863       3        0    46.375       27      27           13         40   \n",
       "\n",
       "      Domain Computer Fundamental Coding  output  \n",
       "0         30                   20     60       1  \n",
       "1         55                   40      0       0  \n",
       "2         55                   47     20       0  \n",
       "3         50                   33     20       0  \n",
       "4         55                   53     20       0  \n",
       "...      ...                  ...    ...     ...  \n",
       "12859     35                   40      0       0  \n",
       "12860      0                   13      0       0  \n",
       "12861     10                   53      0       0  \n",
       "12862     25                   13      0       0  \n",
       "12863     40                   33      0       0  \n",
       "\n",
       "[12864 rows x 11 columns]"
      ]
     },
     "execution_count": 35,
     "metadata": {},
     "output_type": "execute_result"
    }
   ],
   "source": [
    "k_data=data.iloc[:,[11,13,2,3,4,5,6,7,8,9,12]]\n",
    "k_data"
   ]
  },
  {
   "cell_type": "code",
   "execution_count": 36,
   "metadata": {},
   "outputs": [
    {
     "data": {
      "text/html": [
       "<div>\n",
       "<style scoped>\n",
       "    .dataframe tbody tr th:only-of-type {\n",
       "        vertical-align: middle;\n",
       "    }\n",
       "\n",
       "    .dataframe tbody tr th {\n",
       "        vertical-align: top;\n",
       "    }\n",
       "\n",
       "    .dataframe thead th {\n",
       "        text-align: right;\n",
       "    }\n",
       "</style>\n",
       "<table border=\"1\" class=\"dataframe\">\n",
       "  <thead>\n",
       "    <tr style=\"text-align: right;\">\n",
       "      <th></th>\n",
       "      <th>Stream</th>\n",
       "      <th>Degree2</th>\n",
       "      <th>Score/800</th>\n",
       "      <th>Aptitude</th>\n",
       "      <th>English</th>\n",
       "      <th>Quantitative</th>\n",
       "      <th>Analytical</th>\n",
       "      <th>Domain</th>\n",
       "      <th>Computer Fundamental</th>\n",
       "      <th>Coding</th>\n",
       "    </tr>\n",
       "  </thead>\n",
       "  <tbody>\n",
       "    <tr>\n",
       "      <td>0</td>\n",
       "      <td>1</td>\n",
       "      <td>0</td>\n",
       "      <td>73</td>\n",
       "      <td>69</td>\n",
       "      <td>87</td>\n",
       "      <td>53</td>\n",
       "      <td>67</td>\n",
       "      <td>30</td>\n",
       "      <td>20</td>\n",
       "      <td>60</td>\n",
       "    </tr>\n",
       "    <tr>\n",
       "      <td>1</td>\n",
       "      <td>19</td>\n",
       "      <td>0</td>\n",
       "      <td>73</td>\n",
       "      <td>76</td>\n",
       "      <td>80</td>\n",
       "      <td>73</td>\n",
       "      <td>73</td>\n",
       "      <td>55</td>\n",
       "      <td>40</td>\n",
       "      <td>0</td>\n",
       "    </tr>\n",
       "    <tr>\n",
       "      <td>2</td>\n",
       "      <td>12</td>\n",
       "      <td>0</td>\n",
       "      <td>72.25</td>\n",
       "      <td>71</td>\n",
       "      <td>73</td>\n",
       "      <td>73</td>\n",
       "      <td>67</td>\n",
       "      <td>55</td>\n",
       "      <td>47</td>\n",
       "      <td>20</td>\n",
       "    </tr>\n",
       "    <tr>\n",
       "      <td>3</td>\n",
       "      <td>1</td>\n",
       "      <td>0</td>\n",
       "      <td>72.25</td>\n",
       "      <td>71</td>\n",
       "      <td>93</td>\n",
       "      <td>40</td>\n",
       "      <td>80</td>\n",
       "      <td>50</td>\n",
       "      <td>33</td>\n",
       "      <td>20</td>\n",
       "    </tr>\n",
       "    <tr>\n",
       "      <td>4</td>\n",
       "      <td>12</td>\n",
       "      <td>0</td>\n",
       "      <td>71.875</td>\n",
       "      <td>64</td>\n",
       "      <td>73</td>\n",
       "      <td>47</td>\n",
       "      <td>73</td>\n",
       "      <td>55</td>\n",
       "      <td>53</td>\n",
       "      <td>20</td>\n",
       "    </tr>\n",
       "    <tr>\n",
       "      <td>...</td>\n",
       "      <td>...</td>\n",
       "      <td>...</td>\n",
       "      <td>...</td>\n",
       "      <td>...</td>\n",
       "      <td>...</td>\n",
       "      <td>...</td>\n",
       "      <td>...</td>\n",
       "      <td>...</td>\n",
       "      <td>...</td>\n",
       "      <td>...</td>\n",
       "    </tr>\n",
       "    <tr>\n",
       "      <td>12859</td>\n",
       "      <td>19</td>\n",
       "      <td>0</td>\n",
       "      <td>50.125</td>\n",
       "      <td>31</td>\n",
       "      <td>47</td>\n",
       "      <td>20</td>\n",
       "      <td>27</td>\n",
       "      <td>35</td>\n",
       "      <td>40</td>\n",
       "      <td>0</td>\n",
       "    </tr>\n",
       "    <tr>\n",
       "      <td>12860</td>\n",
       "      <td>0</td>\n",
       "      <td>0</td>\n",
       "      <td>48.25</td>\n",
       "      <td>31</td>\n",
       "      <td>33</td>\n",
       "      <td>20</td>\n",
       "      <td>40</td>\n",
       "      <td>0</td>\n",
       "      <td>13</td>\n",
       "      <td>0</td>\n",
       "    </tr>\n",
       "    <tr>\n",
       "      <td>12861</td>\n",
       "      <td>12</td>\n",
       "      <td>0</td>\n",
       "      <td>46.75</td>\n",
       "      <td>29</td>\n",
       "      <td>13</td>\n",
       "      <td>47</td>\n",
       "      <td>27</td>\n",
       "      <td>10</td>\n",
       "      <td>53</td>\n",
       "      <td>0</td>\n",
       "    </tr>\n",
       "    <tr>\n",
       "      <td>12862</td>\n",
       "      <td>8</td>\n",
       "      <td>0</td>\n",
       "      <td>46.75</td>\n",
       "      <td>29</td>\n",
       "      <td>20</td>\n",
       "      <td>33</td>\n",
       "      <td>33</td>\n",
       "      <td>25</td>\n",
       "      <td>13</td>\n",
       "      <td>0</td>\n",
       "    </tr>\n",
       "    <tr>\n",
       "      <td>12863</td>\n",
       "      <td>3</td>\n",
       "      <td>0</td>\n",
       "      <td>46.375</td>\n",
       "      <td>27</td>\n",
       "      <td>27</td>\n",
       "      <td>13</td>\n",
       "      <td>40</td>\n",
       "      <td>40</td>\n",
       "      <td>33</td>\n",
       "      <td>0</td>\n",
       "    </tr>\n",
       "  </tbody>\n",
       "</table>\n",
       "<p>12864 rows × 10 columns</p>\n",
       "</div>"
      ],
      "text/plain": [
       "       Stream  Degree2 Score/800 Aptitude English Quantitative Analytical  \\\n",
       "0           1        0        73       69      87           53         67   \n",
       "1          19        0        73       76      80           73         73   \n",
       "2          12        0     72.25       71      73           73         67   \n",
       "3           1        0     72.25       71      93           40         80   \n",
       "4          12        0    71.875       64      73           47         73   \n",
       "...       ...      ...       ...      ...     ...          ...        ...   \n",
       "12859      19        0    50.125       31      47           20         27   \n",
       "12860       0        0     48.25       31      33           20         40   \n",
       "12861      12        0     46.75       29      13           47         27   \n",
       "12862       8        0     46.75       29      20           33         33   \n",
       "12863       3        0    46.375       27      27           13         40   \n",
       "\n",
       "      Domain Computer Fundamental Coding  \n",
       "0         30                   20     60  \n",
       "1         55                   40      0  \n",
       "2         55                   47     20  \n",
       "3         50                   33     20  \n",
       "4         55                   53     20  \n",
       "...      ...                  ...    ...  \n",
       "12859     35                   40      0  \n",
       "12860      0                   13      0  \n",
       "12861     10                   53      0  \n",
       "12862     25                   13      0  \n",
       "12863     40                   33      0  \n",
       "\n",
       "[12864 rows x 10 columns]"
      ]
     },
     "execution_count": 36,
     "metadata": {},
     "output_type": "execute_result"
    }
   ],
   "source": [
    "x=data.iloc[:,[11,13,2,3,4,5,6,7,8,9]]\n",
    "x"
   ]
  },
  {
   "cell_type": "code",
   "execution_count": 37,
   "metadata": {},
   "outputs": [
    {
     "data": {
      "text/html": [
       "<div>\n",
       "<style scoped>\n",
       "    .dataframe tbody tr th:only-of-type {\n",
       "        vertical-align: middle;\n",
       "    }\n",
       "\n",
       "    .dataframe tbody tr th {\n",
       "        vertical-align: top;\n",
       "    }\n",
       "\n",
       "    .dataframe thead th {\n",
       "        text-align: right;\n",
       "    }\n",
       "</style>\n",
       "<table border=\"1\" class=\"dataframe\">\n",
       "  <thead>\n",
       "    <tr style=\"text-align: right;\">\n",
       "      <th></th>\n",
       "      <th>output</th>\n",
       "    </tr>\n",
       "  </thead>\n",
       "  <tbody>\n",
       "    <tr>\n",
       "      <td>0</td>\n",
       "      <td>1</td>\n",
       "    </tr>\n",
       "    <tr>\n",
       "      <td>1</td>\n",
       "      <td>0</td>\n",
       "    </tr>\n",
       "    <tr>\n",
       "      <td>2</td>\n",
       "      <td>0</td>\n",
       "    </tr>\n",
       "    <tr>\n",
       "      <td>3</td>\n",
       "      <td>0</td>\n",
       "    </tr>\n",
       "    <tr>\n",
       "      <td>4</td>\n",
       "      <td>0</td>\n",
       "    </tr>\n",
       "    <tr>\n",
       "      <td>...</td>\n",
       "      <td>...</td>\n",
       "    </tr>\n",
       "    <tr>\n",
       "      <td>12859</td>\n",
       "      <td>0</td>\n",
       "    </tr>\n",
       "    <tr>\n",
       "      <td>12860</td>\n",
       "      <td>0</td>\n",
       "    </tr>\n",
       "    <tr>\n",
       "      <td>12861</td>\n",
       "      <td>0</td>\n",
       "    </tr>\n",
       "    <tr>\n",
       "      <td>12862</td>\n",
       "      <td>0</td>\n",
       "    </tr>\n",
       "    <tr>\n",
       "      <td>12863</td>\n",
       "      <td>0</td>\n",
       "    </tr>\n",
       "  </tbody>\n",
       "</table>\n",
       "<p>12864 rows × 1 columns</p>\n",
       "</div>"
      ],
      "text/plain": [
       "       output\n",
       "0           1\n",
       "1           0\n",
       "2           0\n",
       "3           0\n",
       "4           0\n",
       "...       ...\n",
       "12859       0\n",
       "12860       0\n",
       "12861       0\n",
       "12862       0\n",
       "12863       0\n",
       "\n",
       "[12864 rows x 1 columns]"
      ]
     },
     "execution_count": 37,
     "metadata": {},
     "output_type": "execute_result"
    }
   ],
   "source": [
    "y=data.iloc[:,[12]]\n",
    "y"
   ]
  },
  {
   "cell_type": "code",
   "execution_count": 38,
   "metadata": {},
   "outputs": [],
   "source": [
    "from sklearn.ensemble import ExtraTreesClassifier"
   ]
  },
  {
   "cell_type": "code",
   "execution_count": 39,
   "metadata": {},
   "outputs": [],
   "source": [
    "model= ExtraTreesClassifier()"
   ]
  },
  {
   "cell_type": "code",
   "execution_count": 40,
   "metadata": {},
   "outputs": [
    {
     "data": {
      "text/plain": [
       "ExtraTreesClassifier()"
      ]
     },
     "execution_count": 40,
     "metadata": {},
     "output_type": "execute_result"
    }
   ],
   "source": [
    "model.fit(x,y)"
   ]
  },
  {
   "cell_type": "code",
   "execution_count": 41,
   "metadata": {},
   "outputs": [
    {
     "data": {
      "text/plain": [
       "array([0.07457077, 0.00684864, 0.15854642, 0.11354215, 0.13516509,\n",
       "       0.09244178, 0.10758416, 0.09554029, 0.08585044, 0.12991026])"
      ]
     },
     "execution_count": 41,
     "metadata": {},
     "output_type": "execute_result"
    }
   ],
   "source": [
    "model.feature_importances_"
   ]
  },
  {
   "cell_type": "code",
   "execution_count": 42,
   "metadata": {},
   "outputs": [],
   "source": [
    "top=pd.Series(model.feature_importances_,index=x.columns)"
   ]
  },
  {
   "cell_type": "code",
   "execution_count": 43,
   "metadata": {},
   "outputs": [
    {
     "data": {
      "text/plain": [
       "Stream                  0.074571\n",
       "Degree2                 0.006849\n",
       "Score/800               0.158546\n",
       "Aptitude                0.113542\n",
       "English                 0.135165\n",
       "Quantitative            0.092442\n",
       "Analytical              0.107584\n",
       "Domain                  0.095540\n",
       "Computer Fundamental    0.085850\n",
       "Coding                  0.129910\n",
       "dtype: float64"
      ]
     },
     "execution_count": 43,
     "metadata": {},
     "output_type": "execute_result"
    }
   ],
   "source": [
    "top"
   ]
  },
  {
   "cell_type": "code",
   "execution_count": 44,
   "metadata": {},
   "outputs": [
    {
     "data": {
      "text/plain": [
       "<matplotlib.axes._subplots.AxesSubplot at 0x27c414f5a88>"
      ]
     },
     "execution_count": 44,
     "metadata": {},
     "output_type": "execute_result"
    },
    {
     "data": {
      "image/png": "[encoded data removed]",
      "text/plain": [
       "<Figure size 432x288 with 1 Axes>"
      ]
     },
     "metadata": {
      "needs_background": "light"
     },
     "output_type": "display_data"
    }
   ],
   "source": [
    "top.nlargest(10).plot(kind='barh')"
   ]
  },
  {
   "cell_type": "code",
   "execution_count": 45,
   "metadata": {},
   "outputs": [
    {
     "data": {
      "text/plain": [
       "<matplotlib.axes._subplots.AxesSubplot at 0x27c434c8108>"
      ]
     },
     "execution_count": 45,
     "metadata": {},
     "output_type": "execute_result"
    },
    {
     "data": {
      "image/png": "[encoded data removed]",
      "text/plain": [
       "<Figure size 432x288 with 1 Axes>"
      ]
     },
     "metadata": {
      "needs_background": "light"
     },
     "output_type": "display_data"
    }
   ],
   "source": [
    "top.nlargest(10).plot(kind='hist')"
   ]
  },
  {
   "cell_type": "code",
   "execution_count": 46,
   "metadata": {},
   "outputs": [
    {
     "data": {
      "text/plain": [
       "<matplotlib.axes._subplots.AxesSubplot at 0x27c415b8b88>"
      ]
     },
     "execution_count": 46,
     "metadata": {},
     "output_type": "execute_result"
    },
    {
     "data": {
      "image/png": "[encoded data removed]",
      "text/plain": [
       "<Figure size 432x288 with 1 Axes>"
      ]
     },
     "metadata": {},
     "output_type": "display_data"
    }
   ],
   "source": [
    "top.nlargest(10).plot(kind='pie')"
   ]
  },
  {
   "cell_type": "code",
   "execution_count": 47,
   "metadata": {},
   "outputs": [
    {
     "name": "stdout",
     "output_type": "stream",
     "text": [
      "(10291, 10)\n",
      "(10291, 1)\n",
      "(2573, 10)\n",
      "(2573, 1)\n"
     ]
    }
   ],
   "source": [
    "# splitting the dataset into training and test sets\n",
    "\n",
    "from sklearn.model_selection import train_test_split\n",
    "\n",
    "x_train, x_test, y_train, y_test = train_test_split(x, y, test_size = 0.20, random_state = 45)\n",
    "\n",
    "print(x_train.shape)\n",
    "print(y_train.shape)\n",
    "print(x_test.shape)\n",
    "print(y_test.shape)"
   ]
  },
  {
   "cell_type": "code",
   "execution_count": 48,
   "metadata": {},
   "outputs": [
    {
     "data": {
      "text/html": [
       "<div>\n",
       "<style scoped>\n",
       "    .dataframe tbody tr th:only-of-type {\n",
       "        vertical-align: middle;\n",
       "    }\n",
       "\n",
       "    .dataframe tbody tr th {\n",
       "        vertical-align: top;\n",
       "    }\n",
       "\n",
       "    .dataframe thead th {\n",
       "        text-align: right;\n",
       "    }\n",
       "</style>\n",
       "<table border=\"1\" class=\"dataframe\">\n",
       "  <thead>\n",
       "    <tr style=\"text-align: right;\">\n",
       "      <th></th>\n",
       "      <th>Stream</th>\n",
       "      <th>Degree2</th>\n",
       "      <th>Score/800</th>\n",
       "      <th>Aptitude</th>\n",
       "      <th>English</th>\n",
       "      <th>Quantitative</th>\n",
       "      <th>Analytical</th>\n",
       "      <th>Domain</th>\n",
       "      <th>Computer Fundamental</th>\n",
       "      <th>Coding</th>\n",
       "    </tr>\n",
       "  </thead>\n",
       "  <tbody>\n",
       "    <tr>\n",
       "      <td>5205</td>\n",
       "      <td>6</td>\n",
       "      <td>0</td>\n",
       "      <td>54.625</td>\n",
       "      <td>38</td>\n",
       "      <td>73</td>\n",
       "      <td>20</td>\n",
       "      <td>20</td>\n",
       "      <td>15</td>\n",
       "      <td>33</td>\n",
       "      <td>0</td>\n",
       "    </tr>\n",
       "    <tr>\n",
       "      <td>3968</td>\n",
       "      <td>6</td>\n",
       "      <td>0</td>\n",
       "      <td>55</td>\n",
       "      <td>38</td>\n",
       "      <td>27</td>\n",
       "      <td>40</td>\n",
       "      <td>47</td>\n",
       "      <td>50</td>\n",
       "      <td>13</td>\n",
       "      <td>0</td>\n",
       "    </tr>\n",
       "    <tr>\n",
       "      <td>46</td>\n",
       "      <td>19</td>\n",
       "      <td>0</td>\n",
       "      <td>66.625</td>\n",
       "      <td>60</td>\n",
       "      <td>60</td>\n",
       "      <td>40</td>\n",
       "      <td>80</td>\n",
       "      <td>50</td>\n",
       "      <td>33</td>\n",
       "      <td>0</td>\n",
       "    </tr>\n",
       "    <tr>\n",
       "      <td>1546</td>\n",
       "      <td>12</td>\n",
       "      <td>0</td>\n",
       "      <td>57.25</td>\n",
       "      <td>44</td>\n",
       "      <td>47</td>\n",
       "      <td>27</td>\n",
       "      <td>60</td>\n",
       "      <td>10</td>\n",
       "      <td>13</td>\n",
       "      <td>0</td>\n",
       "    </tr>\n",
       "    <tr>\n",
       "      <td>10274</td>\n",
       "      <td>6</td>\n",
       "      <td>0</td>\n",
       "      <td>65.875</td>\n",
       "      <td>51</td>\n",
       "      <td>53</td>\n",
       "      <td>27</td>\n",
       "      <td>73</td>\n",
       "      <td>50</td>\n",
       "      <td>47</td>\n",
       "      <td>18</td>\n",
       "    </tr>\n",
       "  </tbody>\n",
       "</table>\n",
       "</div>"
      ],
      "text/plain": [
       "       Stream  Degree2 Score/800 Aptitude English Quantitative Analytical  \\\n",
       "5205        6        0    54.625       38      73           20         20   \n",
       "3968        6        0        55       38      27           40         47   \n",
       "46         19        0    66.625       60      60           40         80   \n",
       "1546       12        0     57.25       44      47           27         60   \n",
       "10274       6        0    65.875       51      53           27         73   \n",
       "\n",
       "      Domain Computer Fundamental Coding  \n",
       "5205      15                   33      0  \n",
       "3968      50                   13      0  \n",
       "46        50                   33      0  \n",
       "1546      10                   13      0  \n",
       "10274     50                   47     18  "
      ]
     },
     "execution_count": 48,
     "metadata": {},
     "output_type": "execute_result"
    }
   ],
   "source": [
    "x_train.head()"
   ]
  },
  {
   "cell_type": "code",
   "execution_count": 49,
   "metadata": {},
   "outputs": [
    {
     "data": {
      "text/html": [
       "<div>\n",
       "<style scoped>\n",
       "    .dataframe tbody tr th:only-of-type {\n",
       "        vertical-align: middle;\n",
       "    }\n",
       "\n",
       "    .dataframe tbody tr th {\n",
       "        vertical-align: top;\n",
       "    }\n",
       "\n",
       "    .dataframe thead th {\n",
       "        text-align: right;\n",
       "    }\n",
       "</style>\n",
       "<table border=\"1\" class=\"dataframe\">\n",
       "  <thead>\n",
       "    <tr style=\"text-align: right;\">\n",
       "      <th></th>\n",
       "      <th>output</th>\n",
       "    </tr>\n",
       "  </thead>\n",
       "  <tbody>\n",
       "    <tr>\n",
       "      <td>5205</td>\n",
       "      <td>0</td>\n",
       "    </tr>\n",
       "    <tr>\n",
       "      <td>3968</td>\n",
       "      <td>0</td>\n",
       "    </tr>\n",
       "    <tr>\n",
       "      <td>46</td>\n",
       "      <td>1</td>\n",
       "    </tr>\n",
       "    <tr>\n",
       "      <td>1546</td>\n",
       "      <td>0</td>\n",
       "    </tr>\n",
       "    <tr>\n",
       "      <td>10274</td>\n",
       "      <td>0</td>\n",
       "    </tr>\n",
       "  </tbody>\n",
       "</table>\n",
       "</div>"
      ],
      "text/plain": [
       "       output\n",
       "5205        0\n",
       "3968        0\n",
       "46          1\n",
       "1546        0\n",
       "10274       0"
      ]
     },
     "execution_count": 49,
     "metadata": {},
     "output_type": "execute_result"
    }
   ],
   "source": [
    "y_train.head()"
   ]
  },
  {
   "cell_type": "code",
   "execution_count": 50,
   "metadata": {},
   "outputs": [
    {
     "data": {
      "text/html": [
       "<div>\n",
       "<style scoped>\n",
       "    .dataframe tbody tr th:only-of-type {\n",
       "        vertical-align: middle;\n",
       "    }\n",
       "\n",
       "    .dataframe tbody tr th {\n",
       "        vertical-align: top;\n",
       "    }\n",
       "\n",
       "    .dataframe thead th {\n",
       "        text-align: right;\n",
       "    }\n",
       "</style>\n",
       "<table border=\"1\" class=\"dataframe\">\n",
       "  <thead>\n",
       "    <tr style=\"text-align: right;\">\n",
       "      <th></th>\n",
       "      <th>Stream</th>\n",
       "      <th>Degree2</th>\n",
       "      <th>Score/800</th>\n",
       "      <th>Aptitude</th>\n",
       "      <th>English</th>\n",
       "      <th>Quantitative</th>\n",
       "      <th>Analytical</th>\n",
       "      <th>Domain</th>\n",
       "      <th>Computer Fundamental</th>\n",
       "      <th>Coding</th>\n",
       "    </tr>\n",
       "  </thead>\n",
       "  <tbody>\n",
       "    <tr>\n",
       "      <td>5609</td>\n",
       "      <td>6</td>\n",
       "      <td>1</td>\n",
       "      <td>61.75</td>\n",
       "      <td>47</td>\n",
       "      <td>53</td>\n",
       "      <td>0</td>\n",
       "      <td>87</td>\n",
       "      <td>35</td>\n",
       "      <td>47</td>\n",
       "      <td>20</td>\n",
       "    </tr>\n",
       "    <tr>\n",
       "      <td>3606</td>\n",
       "      <td>3</td>\n",
       "      <td>0</td>\n",
       "      <td>60.625</td>\n",
       "      <td>47</td>\n",
       "      <td>60</td>\n",
       "      <td>53</td>\n",
       "      <td>27</td>\n",
       "      <td>45</td>\n",
       "      <td>33</td>\n",
       "      <td>0</td>\n",
       "    </tr>\n",
       "    <tr>\n",
       "      <td>2820</td>\n",
       "      <td>8</td>\n",
       "      <td>0</td>\n",
       "      <td>59.875</td>\n",
       "      <td>47</td>\n",
       "      <td>40</td>\n",
       "      <td>40</td>\n",
       "      <td>60</td>\n",
       "      <td>45</td>\n",
       "      <td>20</td>\n",
       "      <td>0</td>\n",
       "    </tr>\n",
       "    <tr>\n",
       "      <td>1892</td>\n",
       "      <td>6</td>\n",
       "      <td>0</td>\n",
       "      <td>61.75</td>\n",
       "      <td>49</td>\n",
       "      <td>53</td>\n",
       "      <td>47</td>\n",
       "      <td>47</td>\n",
       "      <td>35</td>\n",
       "      <td>40</td>\n",
       "      <td>0</td>\n",
       "    </tr>\n",
       "    <tr>\n",
       "      <td>9578</td>\n",
       "      <td>19</td>\n",
       "      <td>0</td>\n",
       "      <td>51.625</td>\n",
       "      <td>33</td>\n",
       "      <td>40</td>\n",
       "      <td>20</td>\n",
       "      <td>40</td>\n",
       "      <td>35</td>\n",
       "      <td>27</td>\n",
       "      <td>0</td>\n",
       "    </tr>\n",
       "  </tbody>\n",
       "</table>\n",
       "</div>"
      ],
      "text/plain": [
       "      Stream  Degree2 Score/800 Aptitude English Quantitative Analytical  \\\n",
       "5609       6        1     61.75       47      53            0         87   \n",
       "3606       3        0    60.625       47      60           53         27   \n",
       "2820       8        0    59.875       47      40           40         60   \n",
       "1892       6        0     61.75       49      53           47         47   \n",
       "9578      19        0    51.625       33      40           20         40   \n",
       "\n",
       "     Domain Computer Fundamental Coding  \n",
       "5609     35                   47     20  \n",
       "3606     45                   33      0  \n",
       "2820     45                   20      0  \n",
       "1892     35                   40      0  \n",
       "9578     35                   27      0  "
      ]
     },
     "execution_count": 50,
     "metadata": {},
     "output_type": "execute_result"
    }
   ],
   "source": [
    "x_test.head()"
   ]
  },
  {
   "cell_type": "code",
   "execution_count": 51,
   "metadata": {},
   "outputs": [
    {
     "data": {
      "text/html": [
       "<div>\n",
       "<style scoped>\n",
       "    .dataframe tbody tr th:only-of-type {\n",
       "        vertical-align: middle;\n",
       "    }\n",
       "\n",
       "    .dataframe tbody tr th {\n",
       "        vertical-align: top;\n",
       "    }\n",
       "\n",
       "    .dataframe thead th {\n",
       "        text-align: right;\n",
       "    }\n",
       "</style>\n",
       "<table border=\"1\" class=\"dataframe\">\n",
       "  <thead>\n",
       "    <tr style=\"text-align: right;\">\n",
       "      <th></th>\n",
       "      <th>output</th>\n",
       "    </tr>\n",
       "  </thead>\n",
       "  <tbody>\n",
       "    <tr>\n",
       "      <td>5609</td>\n",
       "      <td>0</td>\n",
       "    </tr>\n",
       "    <tr>\n",
       "      <td>3606</td>\n",
       "      <td>0</td>\n",
       "    </tr>\n",
       "    <tr>\n",
       "      <td>2820</td>\n",
       "      <td>0</td>\n",
       "    </tr>\n",
       "    <tr>\n",
       "      <td>1892</td>\n",
       "      <td>0</td>\n",
       "    </tr>\n",
       "    <tr>\n",
       "      <td>9578</td>\n",
       "      <td>0</td>\n",
       "    </tr>\n",
       "  </tbody>\n",
       "</table>\n",
       "</div>"
      ],
      "text/plain": [
       "      output\n",
       "5609       0\n",
       "3606       0\n",
       "2820       0\n",
       "1892       0\n",
       "9578       0"
      ]
     },
     "execution_count": 51,
     "metadata": {},
     "output_type": "execute_result"
    }
   ],
   "source": [
    "y_test.head()"
   ]
  },
  {
   "cell_type": "code",
   "execution_count": 52,
   "metadata": {},
   "outputs": [],
   "source": [
    "#Feature Scalling\n",
    "# importing the MinMaxScaler\n",
    "from sklearn.preprocessing import MinMaxScaler\n",
    "\n",
    "# creating a scaler\n",
    "mm = MinMaxScaler()\n",
    "\n",
    "# feeding the independent variable into the scaler\n",
    "x_train = mm.fit_transform(x_train)\n",
    "x_test = mm.transform(x_test)"
   ]
  },
  {
   "cell_type": "code",
   "execution_count": 53,
   "metadata": {},
   "outputs": [
    {
     "data": {
      "text/plain": [
       "array([[0.31578947, 0.        , 0.49068323, ..., 0.17647059, 0.35483871,\n",
       "        0.        ],\n",
       "       [0.31578947, 0.        , 0.49689441, ..., 0.58823529, 0.13978495,\n",
       "        0.        ],\n",
       "       [1.        , 0.        , 0.68944099, ..., 0.58823529, 0.35483871,\n",
       "        0.        ],\n",
       "       ...,\n",
       "       [0.31578947, 0.        , 0.62111801, ..., 0.31764706, 0.35483871,\n",
       "        0.        ],\n",
       "       [0.73684211, 0.        , 0.60041408, ..., 0.23529412, 0.50537634,\n",
       "        0.11      ],\n",
       "       [1.        , 0.        , 0.72670807, ..., 0.76470588, 0.35483871,\n",
       "        0.        ]])"
      ]
     },
     "execution_count": 53,
     "metadata": {},
     "output_type": "execute_result"
    }
   ],
   "source": [
    "x_train"
   ]
  },
  {
   "cell_type": "code",
   "execution_count": 54,
   "metadata": {},
   "outputs": [
    {
     "data": {
      "text/plain": [
       "array([[0.31578947, 0.25      , 0.60869565, ..., 0.41176471, 0.50537634,\n",
       "        0.2       ],\n",
       "       [0.15789474, 0.        , 0.59006211, ..., 0.52941176, 0.35483871,\n",
       "        0.        ],\n",
       "       [0.42105263, 0.        , 0.57763975, ..., 0.52941176, 0.21505376,\n",
       "        0.        ],\n",
       "       ...,\n",
       "       [0.31578947, 0.        , 0.47619048, ..., 0.27058824, 0.43010753,\n",
       "        0.        ],\n",
       "       [0.05263158, 0.        , 0.56521739, ..., 0.76470588, 0.56989247,\n",
       "        0.        ],\n",
       "       [0.42105263, 0.        , 0.55279503, ..., 0.58823529, 0.13978495,\n",
       "        0.        ]])"
      ]
     },
     "execution_count": 54,
     "metadata": {},
     "output_type": "execute_result"
    }
   ],
   "source": [
    "x_test"
   ]
  },
  {
   "cell_type": "code",
   "execution_count": 55,
   "metadata": {},
   "outputs": [],
   "source": [
    "from functools import reduce\n",
    "\n",
    "def _get_model_name(model):\n",
    "    \"\"\"\n",
    "            Returns a string with the name of a sklearn model\n",
    "                model: Sklearn stimator class\n",
    "    \"\"\"\n",
    "    if isinstance(model, Pipeline):\n",
    "        estimator = model.steps[-1][1]\n",
    "        name = \"Pipeline_\" + str(estimator)[:str(estimator).find(\"(\")]\n",
    "    else: \n",
    "        name = str(model)[:str(model).find(\"(\")]\n",
    "    return name\n",
    "    \n",
    "    \n",
    "def plot_cv_score(X, y, models_list, cv = 5, scoring_list = None, refit = True, return_scores = False):\n",
    "    \"\"\" \n",
    "            X: numpy_array/pandas dataframe n_rows, m_features\n",
    "            y: numpy_array/pandas dataframe n_rows\n",
    "            Plots min, max and avg kfold crosval_score for a list of models\n",
    "        \n",
    "    \"\"\"\n",
    "    \n",
    "        \n",
    "        \n",
    "    names, mean_score = list(), list()\n",
    "    ldf = list()\n",
    "    mnames = list()\n",
    "    \n",
    "    for i, model in enumerate(models_list):\n",
    "        name = _get_model_name(model)\n",
    "    \n",
    "        if refit:\n",
    "            model.fit(X, y)\n",
    "                \n",
    "        for metric in score_list:\n",
    "            \n",
    "            score = cross_val_score(model, X, y, cv = cv, scoring = metric, n_jobs= -1)\n",
    "            mean_score.append(np.mean(score))\n",
    "    \n",
    "    \n",
    "        tmp = pd.DataFrame({name: mean_score}, index = score_list)\n",
    "        \n",
    "            \n",
    "            \n",
    "        ldf.append(tmp)\n",
    "        \n",
    "        \n",
    "        mean_score = list()\n",
    "        \n",
    "    frame_scores = reduce(lambda x,y: pd.merge(x,y, left_index = True, right_index = True), ldf).T\n",
    "        \n",
    "    \n",
    "    \n",
    "    fig, ax  = plt.subplots(1,1, figsize = (10,5))\n",
    "\n",
    "    frame_scores.plot.bar(ax = ax, cmap = 'RdYlBu', edgecolor = \"black\")\n",
    "    ax.legend(loc = 'best')\n",
    "    ax.set_xlabel(\"Score\")\n",
    "    ax.set_title(\"Cross validation model benchmark\")\n",
    "\n",
    "    if return_scores:    \n",
    "        return frame_scores\n",
    "    "
   ]
  },
  {
   "cell_type": "code",
   "execution_count": 57,
   "metadata": {},
   "outputs": [
    {
     "data": {
      "image/png": "[encoded data removed]",
      "text/plain": [
       "<Figure size 720x360 with 1 Axes>"
      ]
     },
     "metadata": {
      "needs_background": "light"
     },
     "output_type": "display_data"
    }
   ],
   "source": [
    "from sklearn.metrics import accuracy_score, f1_score, roc_auc_score\n",
    "\n",
    "from sklearn.model_selection import cross_val_score\n",
    "from sklearn.svm import SVC\n",
    "from sklearn.linear_model import LogisticRegression\n",
    "from sklearn.ensemble import RandomForestClassifier\n",
    "from sklearn.naive_bayes import GaussianNB\n",
    "from sklearn.pipeline import Pipeline\n",
    "\n",
    "\n",
    "\n",
    "models_list =[LogisticRegression(random_state= 42),\n",
    "              SVC(probability= True),\n",
    "              RandomForestClassifier(random_state = 42),\n",
    "              GaussianNB()]\n",
    "\n",
    "score_list = [\"roc_auc\", \"accuracy\", \"f1\", \"precision\", \"recall\"]\n",
    "\n",
    "t = plot_cv_score(X = x, y = y, models_list = models_list, cv = 5, scoring_list = score_list, refit = True)"
   ]
  },
  {
   "cell_type": "code",
   "execution_count": 58,
   "metadata": {},
   "outputs": [
    {
     "name": "stdout",
     "output_type": "stream",
     "text": [
      "Training Accuracy : 0.8732873384510738\n",
      "Testing Accuracy : 0.8791294209094442\n"
     ]
    }
   ],
   "source": [
    "from sklearn.naive_bayes import GaussianNB\n",
    "\n",
    "# creating a model\n",
    "model = GaussianNB()\n",
    "\n",
    "# feeding the training data to the model\n",
    "model.fit(x_train, y_train)\n",
    "\n",
    "# predicting the test set results\n",
    "y_pred = model.predict(x_test)\n",
    "\n",
    "# calculating the classification accuracies\n",
    "print(\"Training Accuracy :\", model.score(x_train, y_train))\n",
    "print(\"Testing Accuracy :\", model.score(x_test, y_test))"
   ]
  },
  {
   "cell_type": "code",
   "execution_count": 59,
   "metadata": {},
   "outputs": [
    {
     "name": "stdout",
     "output_type": "stream",
     "text": [
      "[[2174  246]\n",
      " [  65   88]]\n",
      "(2573, 1)\n"
     ]
    }
   ],
   "source": [
    "# printing the confusion matrix\n",
    "\n",
    "from sklearn.metrics import confusion_matrix\n",
    "\n",
    "# creating a confusion matrix\n",
    "cm = confusion_matrix(y_test, y_pred)\n",
    "\n",
    "# printing the confusion matrix\n",
    "print(cm)\n",
    "print(y_test.shape)"
   ]
  },
  {
   "cell_type": "code",
   "execution_count": 60,
   "metadata": {},
   "outputs": [],
   "source": [
    "from sklearn.metrics import plot_confusion_matrix"
   ]
  },
  {
   "cell_type": "code",
   "execution_count": 61,
   "metadata": {},
   "outputs": [
    {
     "data": {
      "text/plain": [
       "<sklearn.metrics._plot.confusion_matrix.ConfusionMatrixDisplay at 0x27c43b5e8c8>"
      ]
     },
     "execution_count": 61,
     "metadata": {},
     "output_type": "execute_result"
    },
    {
     "data": {
      "image/png": "[encoded data removed]",
      "text/plain": [
       "<Figure size 432x288 with 2 Axes>"
      ]
     },
     "metadata": {
      "needs_background": "light"
     },
     "output_type": "display_data"
    }
   ],
   "source": [
    "from sklearn.metrics import confusion_matrix, classification_report\n",
    "plot_confusion_matrix(model, x_test, y_test)"
   ]
  },
  {
   "cell_type": "code",
   "execution_count": 62,
   "metadata": {},
   "outputs": [
    {
     "name": "stdout",
     "output_type": "stream",
     "text": [
      "              precision    recall  f1-score   support\n",
      "\n",
      "           0       0.97      0.90      0.93      2420\n",
      "           1       0.26      0.58      0.36       153\n",
      "\n",
      "    accuracy                           0.88      2573\n",
      "   macro avg       0.62      0.74      0.65      2573\n",
      "weighted avg       0.93      0.88      0.90      2573\n",
      "\n"
     ]
    }
   ],
   "source": [
    "print(classification_report(y_test, y_pred))"
   ]
  },
  {
   "cell_type": "code",
   "execution_count": 63,
   "metadata": {},
   "outputs": [
    {
     "name": "stdout",
     "output_type": "stream",
     "text": [
      "[0.88737864 0.8776699  0.86990291 0.86407767 0.86407767 0.87572816\n",
      " 0.87184466 0.88543689 0.86990291 0.89126214 0.85825243 0.86575875\n",
      " 0.86381323 0.87354086 0.8618677  0.89105058 0.8618677  0.90077821\n",
      " 0.88521401 0.8385214 ]\n",
      "mean accuracy : 0.8728973215972194\n",
      "mean standard variance : 0.014038486392416344\n"
     ]
    }
   ],
   "source": [
    "#k fold cross validation \n",
    "\n",
    "from sklearn.model_selection import cross_val_score\n",
    "\n",
    "# computing accuracies for 20 different model's accuracy\n",
    "accuracies = cross_val_score(estimator = model, X = x_train, y = y_train, cv = 20)\n",
    "print(accuracies)\n",
    "\n",
    "# computing mean of accuaracies obtained by all the models\n",
    "print(\"mean accuracy :\", accuracies.mean())\n",
    "\n",
    "# computing the standard variance of the models\n",
    "print(\"mean standard variance :\", accuracies.std())"
   ]
  },
  {
   "cell_type": "code",
   "execution_count": 64,
   "metadata": {},
   "outputs": [
    {
     "name": "stdout",
     "output_type": "stream",
     "text": [
      "Training Accuracy : 0.9774560295403751\n",
      "Testing Accuracy : 0.9362611737271668\n"
     ]
    }
   ],
   "source": [
    "from sklearn.neighbors import KNeighborsClassifier\n",
    "\n",
    "# creating a model\n",
    "model = KNeighborsClassifier(n_neighbors = 3)\n",
    "\n",
    "# feeding the training data to the model\n",
    "model.fit(x_train, y_train)\n",
    "\n",
    "# predicting the test set results\n",
    "y_pred = model.predict(x_test)\n",
    "\n",
    "# calculating the classification accuracies\n",
    "print(\"Training Accuracy :\", model.score(x_train, y_train))\n",
    "print(\"Testing Accuracy :\", model.score(x_test, y_test))"
   ]
  },
  {
   "cell_type": "code",
   "execution_count": 65,
   "metadata": {},
   "outputs": [
    {
     "name": "stdout",
     "output_type": "stream",
     "text": [
      "[[2353   67]\n",
      " [  97   56]]\n",
      "(2573, 1)\n"
     ]
    }
   ],
   "source": [
    "# printing the confusion matrix\n",
    "\n",
    "from sklearn.metrics import confusion_matrix\n",
    "\n",
    "# creating a confusion matrix\n",
    "cm = confusion_matrix(y_test, y_pred)\n",
    "\n",
    "# printing the confusion matrix\n",
    "print(cm)\n",
    "print(y_test.shape)"
   ]
  },
  {
   "cell_type": "code",
   "execution_count": 66,
   "metadata": {},
   "outputs": [],
   "source": [
    "from sklearn.metrics import plot_confusion_matrix"
   ]
  },
  {
   "cell_type": "code",
   "execution_count": 67,
   "metadata": {
    "scrolled": true
   },
   "outputs": [
    {
     "data": {
      "text/plain": [
       "<sklearn.metrics._plot.confusion_matrix.ConfusionMatrixDisplay at 0x27c427b01c8>"
      ]
     },
     "execution_count": 67,
     "metadata": {},
     "output_type": "execute_result"
    },
    {
     "data": {
      "image/png": "[encoded data removed]",
      "text/plain": [
       "<Figure size 432x288 with 2 Axes>"
      ]
     },
     "metadata": {
      "needs_background": "light"
     },
     "output_type": "display_data"
    }
   ],
   "source": [
    "from sklearn.metrics import confusion_matrix, classification_report\n",
    "plot_confusion_matrix(model, x_test, y_test)"
   ]
  },
  {
   "cell_type": "code",
   "execution_count": 68,
   "metadata": {},
   "outputs": [
    {
     "name": "stdout",
     "output_type": "stream",
     "text": [
      "              precision    recall  f1-score   support\n",
      "\n",
      "           0       0.96      0.97      0.97      2420\n",
      "           1       0.46      0.37      0.41       153\n",
      "\n",
      "    accuracy                           0.94      2573\n",
      "   macro avg       0.71      0.67      0.69      2573\n",
      "weighted avg       0.93      0.94      0.93      2573\n",
      "\n"
     ]
    }
   ],
   "source": [
    "print(classification_report(y_test, y_pred))"
   ]
  },
  {
   "cell_type": "code",
   "execution_count": 69,
   "metadata": {},
   "outputs": [
    {
     "name": "stdout",
     "output_type": "stream",
     "text": [
      "[0.94368932 0.93592233 0.94174757 0.95145631 0.94368932 0.93398058\n",
      " 0.93203883 0.94368932 0.93009709 0.94174757 0.93203883 0.93774319\n",
      " 0.93190661 0.93190661 0.93579767 0.93385214 0.92607004 0.93968872\n",
      " 0.94552529 0.93968872]\n",
      "mean accuracy : 0.9376138037852744\n",
      "mean standard variance : 0.006157595529331621\n"
     ]
    }
   ],
   "source": [
    "#k fold cross validation \n",
    "\n",
    "from sklearn.model_selection import cross_val_score\n",
    "\n",
    "# computing accuracies for 20 different model's accuracy\n",
    "accuracies = cross_val_score(estimator = model, X = x_train, y = y_train, cv = 20)\n",
    "print(accuracies)\n",
    "\n",
    "# computing mean of accuaracies obtained by all the models\n",
    "print(\"mean accuracy :\", accuracies.mean())\n",
    "\n",
    "# computing the standard variance of the models\n",
    "print(\"mean standard variance :\", accuracies.std())"
   ]
  },
  {
   "cell_type": "code",
   "execution_count": 70,
   "metadata": {},
   "outputs": [
    {
     "data": {
      "text/plain": [
       "array([0])"
      ]
     },
     "execution_count": 70,
     "metadata": {},
     "output_type": "execute_result"
    }
   ],
   "source": [
    "model.predict(mm.transform([[1,0,0,0,87,53,60,30,20,30]]))"
   ]
  },
  {
   "cell_type": "code",
   "execution_count": 71,
   "metadata": {},
   "outputs": [
    {
     "name": "stdout",
     "output_type": "stream",
     "text": [
      "Training Accuracy : 0.9471382761636381\n",
      "Testing Accuracy : 0.946366109599689\n"
     ]
    }
   ],
   "source": [
    "from sklearn.linear_model import  LogisticRegression\n",
    "\n",
    "# creating a model\n",
    "model = LogisticRegression()\n",
    "\n",
    "# feeding the training data to the model\n",
    "model.fit(x_train, y_train)\n",
    "\n",
    "# predicting the test set results\n",
    "y_pred = model.predict(x_test)\n",
    "\n",
    "# calculating the classification accuracies\n",
    "print(\"Training Accuracy :\", model.score(x_train, y_train))\n",
    "print(\"Testing Accuracy :\", model.score(x_test, y_test))"
   ]
  },
  {
   "cell_type": "code",
   "execution_count": 72,
   "metadata": {},
   "outputs": [
    {
     "data": {
      "text/plain": [
       "array([1])"
      ]
     },
     "execution_count": 72,
     "metadata": {},
     "output_type": "execute_result"
    }
   ],
   "source": [
    "model.predict(mm.transform([[1,0,73,69,87,53,67,30,20,60]]))"
   ]
  },
  {
   "cell_type": "code",
   "execution_count": 73,
   "metadata": {},
   "outputs": [
    {
     "name": "stdout",
     "output_type": "stream",
     "text": [
      "[[2409   11]\n",
      " [ 127   26]]\n",
      "(2573, 1)\n"
     ]
    }
   ],
   "source": [
    "# printing the confusion matrix\n",
    "\n",
    "from sklearn.metrics import confusion_matrix\n",
    "\n",
    "# creating a confusion matrix\n",
    "cm = confusion_matrix(y_test, y_pred)\n",
    "\n",
    "# printing the confusion matrix\n",
    "print(cm)\n",
    "print(y_test.shape)"
   ]
  },
  {
   "cell_type": "code",
   "execution_count": 74,
   "metadata": {},
   "outputs": [],
   "source": [
    "from sklearn.metrics import plot_confusion_matrix"
   ]
  },
  {
   "cell_type": "code",
   "execution_count": 75,
   "metadata": {},
   "outputs": [
    {
     "data": {
      "text/plain": [
       "<sklearn.metrics._plot.confusion_matrix.ConfusionMatrixDisplay at 0x27c43b8d288>"
      ]
     },
     "execution_count": 75,
     "metadata": {},
     "output_type": "execute_result"
    },
    {
     "data": {
      "image/png": "[encoded data removed]",
      "text/plain": [
       "<Figure size 432x288 with 2 Axes>"
      ]
     },
     "metadata": {
      "needs_background": "light"
     },
     "output_type": "display_data"
    }
   ],
   "source": [
    "from sklearn.metrics import confusion_matrix, classification_report\n",
    "plot_confusion_matrix(model, x_test, y_test)"
   ]
  },
  {
   "cell_type": "code",
   "execution_count": 76,
   "metadata": {},
   "outputs": [
    {
     "name": "stdout",
     "output_type": "stream",
     "text": [
      "              precision    recall  f1-score   support\n",
      "\n",
      "           0       0.95      1.00      0.97      2420\n",
      "           1       0.70      0.17      0.27       153\n",
      "\n",
      "    accuracy                           0.95      2573\n",
      "   macro avg       0.83      0.58      0.62      2573\n",
      "weighted avg       0.94      0.95      0.93      2573\n",
      "\n"
     ]
    }
   ],
   "source": [
    "print(classification_report(y_test, y_pred))"
   ]
  },
  {
   "cell_type": "code",
   "execution_count": 77,
   "metadata": {},
   "outputs": [
    {
     "name": "stdout",
     "output_type": "stream",
     "text": [
      "[0.94951456 0.94563107 0.94563107 0.95145631 0.95145631 0.94951456\n",
      " 0.94368932 0.94757282 0.94368932 0.94174757 0.94757282 0.94941634\n",
      " 0.94552529 0.94941634 0.94357977 0.94941634 0.94747082 0.94357977\n",
      " 0.94747082 0.94163424]\n",
      "mean accuracy : 0.9467492727890898\n",
      "mean standard variance : 0.0029777605033516697\n"
     ]
    }
   ],
   "source": [
    "#k fold cross validation \n",
    "\n",
    "from sklearn.model_selection import cross_val_score\n",
    "\n",
    "# computing accuracies for 20 different model's accuracy\n",
    "accuracies = cross_val_score(estimator = model, X = x_train, y = y_train, cv = 20)\n",
    "print(accuracies)\n",
    "\n",
    "# computing mean of accuaracies obtained by all the models\n",
    "print(\"mean accuracy :\", accuracies.mean())\n",
    "\n",
    "# computing the standard variance of the models\n",
    "print(\"mean standard variance :\", accuracies.std())"
   ]
  },
  {
   "cell_type": "code",
   "execution_count": 78,
   "metadata": {},
   "outputs": [
    {
     "name": "stdout",
     "output_type": "stream",
     "text": [
      "[0.9485187  0.94897959 0.94509232 0.94606414 0.94557823]\n",
      "mean accuracy : 0.9468465968223132\n",
      "mean standard variance : 0.0015902238327206507\n"
     ]
    }
   ],
   "source": [
    "# stratified k fold cross validation \n",
    "\n",
    "from sklearn.model_selection import cross_val_score\n",
    "from sklearn.model_selection import StratifiedKFold\n",
    "skfold=StratifiedKFold(n_splits=5)\n",
    "model=LogisticRegression()\n",
    "\n",
    "# computing accuracies for 20 different model's accuracy\n",
    "accuracies = cross_val_score(model, X = x_train, y = y_train, cv = skfold)\n",
    "print(accuracies)\n",
    "\n",
    "# computing mean of accuaracies obtained by all the models\n",
    "print(\"mean accuracy :\", accuracies.mean())\n",
    "\n",
    "# computing the standard variance of the models\n",
    "print(\"mean standard variance :\", accuracies.std())   "
   ]
  },
  {
   "cell_type": "code",
   "execution_count": 79,
   "metadata": {},
   "outputs": [
    {
     "name": "stdout",
     "output_type": "stream",
     "text": [
      "Training Accuracy : 1.0\n",
      "Testing Accuracy : 0.9774582199766809\n"
     ]
    }
   ],
   "source": [
    "from sklearn.ensemble import RandomForestClassifier\n",
    "\n",
    "# creating a model\n",
    "model = RandomForestClassifier()\n",
    "\n",
    "# feeding the training data to the model\n",
    "model.fit(x_train, y_train)\n",
    "\n",
    "# predicting the x-test results\n",
    "y_pred = model.predict(x_test)\n",
    "\n",
    "# calculating the accuracies\n",
    "print(\"Training Accuracy :\", model.score(x_train, y_train))\n",
    "print(\"Testing Accuracy :\", model.score(x_test, y_test))"
   ]
  },
  {
   "cell_type": "code",
   "execution_count": 80,
   "metadata": {},
   "outputs": [
    {
     "name": "stdout",
     "output_type": "stream",
     "text": [
      "[[2411    9]\n",
      " [  49  104]]\n"
     ]
    }
   ],
   "source": [
    "# printing the confusion matrix\n",
    "\n",
    "from sklearn.metrics import confusion_matrix\n",
    "\n",
    "# creating a confusion matrix\n",
    "cm = confusion_matrix(y_test, y_pred)\n",
    "\n",
    "# printing the confusion matrix\n",
    "print(cm)"
   ]
  },
  {
   "cell_type": "code",
   "execution_count": 81,
   "metadata": {},
   "outputs": [],
   "source": [
    "from sklearn.metrics import plot_confusion_matrix"
   ]
  },
  {
   "cell_type": "code",
   "execution_count": 82,
   "metadata": {},
   "outputs": [
    {
     "data": {
      "text/plain": [
       "<sklearn.metrics._plot.confusion_matrix.ConfusionMatrixDisplay at 0x27c43b70d48>"
      ]
     },
     "execution_count": 82,
     "metadata": {},
     "output_type": "execute_result"
    },
    {
     "data": {
      "image/png": "[encoded data removed]",
      "text/plain": [
       "<Figure size 432x288 with 2 Axes>"
      ]
     },
     "metadata": {
      "needs_background": "light"
     },
     "output_type": "display_data"
    }
   ],
   "source": [
    "#from sklearn.metrics import confusion_matrix, classification_report\n",
    "plot_confusion_matrix(model, x_test, y_test)"
   ]
  },
  {
   "cell_type": "code",
   "execution_count": 83,
   "metadata": {},
   "outputs": [
    {
     "name": "stdout",
     "output_type": "stream",
     "text": [
      "              precision    recall  f1-score   support\n",
      "\n",
      "           0       0.98      1.00      0.99      2420\n",
      "           1       0.92      0.68      0.78       153\n",
      "\n",
      "    accuracy                           0.98      2573\n",
      "   macro avg       0.95      0.84      0.89      2573\n",
      "weighted avg       0.98      0.98      0.98      2573\n",
      "\n"
     ]
    }
   ],
   "source": [
    "print(classification_report(y_test, y_pred))"
   ]
  },
  {
   "cell_type": "code",
   "execution_count": 84,
   "metadata": {},
   "outputs": [
    {
     "name": "stdout",
     "output_type": "stream",
     "text": [
      "[0.98252427 0.99029126 0.98834951 0.98640777 0.98058252 0.98640777\n",
      " 0.97864078 0.99029126 0.98252427 0.98058252 0.98446602 0.98249027\n",
      " 0.9688716  0.99027237 0.98638132 0.9844358  0.98832685 0.98832685\n",
      " 0.99416342 0.9766537 ]\n",
      "mean accuracy : 0.9845495070076687\n",
      "mean standard variance : 0.00561846877266142\n"
     ]
    }
   ],
   "source": [
    "#k fold cross validation \n",
    "\n",
    "from sklearn.model_selection import cross_val_score\n",
    "\n",
    "# computing accuracies for 20 different model's accuracy\n",
    "accuracies = cross_val_score(estimator = model, X = x_train, y = y_train, cv = 20)\n",
    "print(accuracies)\n",
    "\n",
    "# computing mean of accuaracies obtained by all the models\n",
    "print(\"mean accuracy :\", accuracies.mean())\n",
    "\n",
    "# computing the standard variance of the models\n",
    "print(\"mean standard variance :\", accuracies.std())   "
   ]
  },
  {
   "cell_type": "code",
   "execution_count": 85,
   "metadata": {},
   "outputs": [
    {
     "name": "stdout",
     "output_type": "stream",
     "text": [
      "Training Accuracy : 1.0\n",
      "Testing Accuracy : 0.9755149630781189\n"
     ]
    }
   ],
   "source": [
    "from sklearn.tree import DecisionTreeClassifier\n",
    "\n",
    "# creating a model\n",
    "model = DecisionTreeClassifier()\n",
    "\n",
    "# feeding the training data to the model\n",
    "model.fit(x_train, y_train)\n",
    "\n",
    "# predicting the x-test results\n",
    "y_pred = model.predict(x_test)\n",
    "\n",
    "# calculating the accuracies\n",
    "print(\"Training Accuracy :\", model.score(x_train, y_train))\n",
    "print(\"Testing Accuracy :\", model.score(x_test, y_test))"
   ]
  },
  {
   "cell_type": "code",
   "execution_count": 86,
   "metadata": {},
   "outputs": [
    {
     "name": "stdout",
     "output_type": "stream",
     "text": [
      "[[2394   26]\n",
      " [  37  116]]\n"
     ]
    }
   ],
   "source": [
    "# printing the confusion matrix\n",
    "\n",
    "from sklearn.metrics import confusion_matrix\n",
    "\n",
    "# creating a confusion matrix\n",
    "cm = confusion_matrix(y_test, y_pred)\n",
    "\n",
    "# printing the confusion matrix\n",
    "print(cm)"
   ]
  },
  {
   "cell_type": "code",
   "execution_count": 87,
   "metadata": {},
   "outputs": [],
   "source": [
    "from sklearn.metrics import plot_confusion_matrix"
   ]
  },
  {
   "cell_type": "code",
   "execution_count": 88,
   "metadata": {},
   "outputs": [
    {
     "data": {
      "text/plain": [
       "<sklearn.metrics._plot.confusion_matrix.ConfusionMatrixDisplay at 0x27c4bc2a308>"
      ]
     },
     "execution_count": 88,
     "metadata": {},
     "output_type": "execute_result"
    },
    {
     "data": {
      "image/png": "[encoded data removed]",
      "text/plain": [
       "<Figure size 432x288 with 2 Axes>"
      ]
     },
     "metadata": {
      "needs_background": "light"
     },
     "output_type": "display_data"
    }
   ],
   "source": [
    "#from sklearn.metrics import confusion_matrix, classification_report\n",
    "plot_confusion_matrix(model, x_test, y_test)"
   ]
  },
  {
   "cell_type": "code",
   "execution_count": 89,
   "metadata": {},
   "outputs": [
    {
     "name": "stdout",
     "output_type": "stream",
     "text": [
      "              precision    recall  f1-score   support\n",
      "\n",
      "           0       0.98      0.99      0.99      2420\n",
      "           1       0.82      0.76      0.79       153\n",
      "\n",
      "    accuracy                           0.98      2573\n",
      "   macro avg       0.90      0.87      0.89      2573\n",
      "weighted avg       0.97      0.98      0.98      2573\n",
      "\n"
     ]
    }
   ],
   "source": [
    "print(classification_report(y_test, y_pred))"
   ]
  },
  {
   "cell_type": "code",
   "execution_count": 90,
   "metadata": {},
   "outputs": [
    {
     "name": "stdout",
     "output_type": "stream",
     "text": [
      "[0.98058252 0.98058252 0.97669903 0.97864078 0.97087379 0.98446602\n",
      " 0.97864078 0.98640777 0.97864078 0.97281553 0.96699029 0.97276265\n",
      " 0.97276265 0.9844358  0.97081712 0.97081712 0.97470817 0.98054475\n",
      " 0.97859922 0.9688716 ]\n",
      "mean accuracy : 0.9764829435986551\n",
      "mean standard variance : 0.005394787717397707\n"
     ]
    }
   ],
   "source": [
    "# k fold cross validation \n",
    "\n",
    "from sklearn.model_selection import cross_val_score\n",
    "\n",
    "# computing accuracies for 20 different model's accuracy\n",
    "accuracies = cross_val_score(estimator = model, X = x_train, y = y_train, cv = 20)\n",
    "print(accuracies)\n",
    "\n",
    "# computing mean of accuaracies obtained by all the models\n",
    "print(\"mean accuracy :\", accuracies.mean())\n",
    "\n",
    "# computing the standard variance of the models\n",
    "print(\"mean standard variance :\", accuracies.std())"
   ]
  },
  {
   "cell_type": "code",
   "execution_count": 91,
   "metadata": {},
   "outputs": [
    {
     "name": "stdout",
     "output_type": "stream",
     "text": [
      "Training Accuracy : 0.9484986881741327\n",
      "Testing Accuracy : 0.948309366498251\n"
     ]
    }
   ],
   "source": [
    "\n",
    "from sklearn.svm import SVC\n",
    "\n",
    "# creating a model\n",
    "model = SVC()\n",
    "\n",
    "# feeding the training data to the model\n",
    "model.fit(x_train, y_train)\n",
    "\n",
    "# predicting the x-test results\n",
    "y_pred = model.predict(x_test)\n",
    "\n",
    "# calculating the accuracies\n",
    "print(\"Training Accuracy :\", model.score(x_train, y_train))\n",
    "print(\"Testing Accuracy :\", model.score(x_test, y_test))"
   ]
  },
  {
   "cell_type": "code",
   "execution_count": 92,
   "metadata": {},
   "outputs": [
    {
     "name": "stdout",
     "output_type": "stream",
     "text": [
      "[[2419    1]\n",
      " [ 132   21]]\n"
     ]
    }
   ],
   "source": [
    "# printing the confusion matrix\n",
    "\n",
    "from sklearn.metrics import confusion_matrix\n",
    "\n",
    "# creating a confusion matrix\n",
    "cm = confusion_matrix(y_test, y_pred)\n",
    "\n",
    "# printing the confusion matrix\n",
    "print(cm)"
   ]
  },
  {
   "cell_type": "code",
   "execution_count": 93,
   "metadata": {},
   "outputs": [],
   "source": [
    "from sklearn.metrics import plot_confusion_matrix"
   ]
  },
  {
   "cell_type": "code",
   "execution_count": 94,
   "metadata": {},
   "outputs": [
    {
     "data": {
      "text/plain": [
       "<sklearn.metrics._plot.confusion_matrix.ConfusionMatrixDisplay at 0x27c4bd1acc8>"
      ]
     },
     "execution_count": 94,
     "metadata": {},
     "output_type": "execute_result"
    },
    {
     "data": {
      "image/png": "[encoded data removed]",
      "text/plain": [
       "<Figure size 432x288 with 2 Axes>"
      ]
     },
     "metadata": {
      "needs_background": "light"
     },
     "output_type": "display_data"
    }
   ],
   "source": [
    "#from sklearn.metrics import confusion_matrix, classification_report\n",
    "plot_confusion_matrix(model, x_test, y_test)"
   ]
  },
  {
   "cell_type": "code",
   "execution_count": 95,
   "metadata": {},
   "outputs": [
    {
     "name": "stdout",
     "output_type": "stream",
     "text": [
      "              precision    recall  f1-score   support\n",
      "\n",
      "           0       0.95      1.00      0.97      2420\n",
      "           1       0.95      0.14      0.24       153\n",
      "\n",
      "    accuracy                           0.95      2573\n",
      "   macro avg       0.95      0.57      0.61      2573\n",
      "weighted avg       0.95      0.95      0.93      2573\n",
      "\n"
     ]
    }
   ],
   "source": [
    "print(classification_report(y_test, y_pred))"
   ]
  },
  {
   "cell_type": "code",
   "execution_count": 96,
   "metadata": {},
   "outputs": [
    {
     "name": "stdout",
     "output_type": "stream",
     "text": [
      "[0.95339806 0.95145631 0.94951456 0.94951456 0.95339806 0.95145631\n",
      " 0.94174757 0.94563107 0.94368932 0.94757282 0.94757282 0.94941634\n",
      " 0.94163424 0.94941634 0.94747082 0.94357977 0.94941634 0.94163424\n",
      " 0.94552529 0.94941634]\n",
      "mean accuracy : 0.947623059196857\n",
      "mean standard variance : 0.003623399757743462\n"
     ]
    }
   ],
   "source": [
    "# k fold cross validation \n",
    "\n",
    "from sklearn.model_selection import cross_val_score\n",
    "\n",
    "# computing accuracies for 20 different model's accuracy\n",
    "accuracies = cross_val_score(estimator = model, X = x_train, y = y_train, cv = 20)\n",
    "print(accuracies)\n",
    "\n",
    "# computing mean of accuaracies obtained by all the models\n",
    "print(\"mean accuracy :\", accuracies.mean())\n",
    "\n",
    "# computing the standard variance of the models\n",
    "print(\"mean standard variance :\", accuracies.std())"
   ]
  },
  {
   "cell_type": "code",
   "execution_count": 97,
   "metadata": {},
   "outputs": [
    {
     "data": {
      "text/html": [
       "<div>\n",
       "<style scoped>\n",
       "    .dataframe tbody tr th:only-of-type {\n",
       "        vertical-align: middle;\n",
       "    }\n",
       "\n",
       "    .dataframe tbody tr th {\n",
       "        vertical-align: top;\n",
       "    }\n",
       "\n",
       "    .dataframe thead th {\n",
       "        text-align: right;\n",
       "    }\n",
       "</style>\n",
       "<table border=\"1\" class=\"dataframe\">\n",
       "  <thead>\n",
       "    <tr style=\"text-align: right;\">\n",
       "      <th></th>\n",
       "      <th>Stream</th>\n",
       "      <th>Degree2</th>\n",
       "      <th>Score/800</th>\n",
       "      <th>Aptitude</th>\n",
       "      <th>English</th>\n",
       "      <th>Quantitative</th>\n",
       "      <th>Analytical</th>\n",
       "      <th>Domain</th>\n",
       "      <th>Computer Fundamental</th>\n",
       "      <th>Coding</th>\n",
       "    </tr>\n",
       "  </thead>\n",
       "  <tbody>\n",
       "    <tr>\n",
       "      <td>0</td>\n",
       "      <td>1</td>\n",
       "      <td>0</td>\n",
       "      <td>73</td>\n",
       "      <td>69</td>\n",
       "      <td>87</td>\n",
       "      <td>53</td>\n",
       "      <td>67</td>\n",
       "      <td>30</td>\n",
       "      <td>20</td>\n",
       "      <td>60</td>\n",
       "    </tr>\n",
       "    <tr>\n",
       "      <td>1</td>\n",
       "      <td>19</td>\n",
       "      <td>0</td>\n",
       "      <td>73</td>\n",
       "      <td>76</td>\n",
       "      <td>80</td>\n",
       "      <td>73</td>\n",
       "      <td>73</td>\n",
       "      <td>55</td>\n",
       "      <td>40</td>\n",
       "      <td>0</td>\n",
       "    </tr>\n",
       "    <tr>\n",
       "      <td>2</td>\n",
       "      <td>12</td>\n",
       "      <td>0</td>\n",
       "      <td>72.25</td>\n",
       "      <td>71</td>\n",
       "      <td>73</td>\n",
       "      <td>73</td>\n",
       "      <td>67</td>\n",
       "      <td>55</td>\n",
       "      <td>47</td>\n",
       "      <td>20</td>\n",
       "    </tr>\n",
       "    <tr>\n",
       "      <td>3</td>\n",
       "      <td>1</td>\n",
       "      <td>0</td>\n",
       "      <td>72.25</td>\n",
       "      <td>71</td>\n",
       "      <td>93</td>\n",
       "      <td>40</td>\n",
       "      <td>80</td>\n",
       "      <td>50</td>\n",
       "      <td>33</td>\n",
       "      <td>20</td>\n",
       "    </tr>\n",
       "    <tr>\n",
       "      <td>4</td>\n",
       "      <td>12</td>\n",
       "      <td>0</td>\n",
       "      <td>71.875</td>\n",
       "      <td>64</td>\n",
       "      <td>73</td>\n",
       "      <td>47</td>\n",
       "      <td>73</td>\n",
       "      <td>55</td>\n",
       "      <td>53</td>\n",
       "      <td>20</td>\n",
       "    </tr>\n",
       "    <tr>\n",
       "      <td>...</td>\n",
       "      <td>...</td>\n",
       "      <td>...</td>\n",
       "      <td>...</td>\n",
       "      <td>...</td>\n",
       "      <td>...</td>\n",
       "      <td>...</td>\n",
       "      <td>...</td>\n",
       "      <td>...</td>\n",
       "      <td>...</td>\n",
       "      <td>...</td>\n",
       "    </tr>\n",
       "    <tr>\n",
       "      <td>12859</td>\n",
       "      <td>19</td>\n",
       "      <td>0</td>\n",
       "      <td>50.125</td>\n",
       "      <td>31</td>\n",
       "      <td>47</td>\n",
       "      <td>20</td>\n",
       "      <td>27</td>\n",
       "      <td>35</td>\n",
       "      <td>40</td>\n",
       "      <td>0</td>\n",
       "    </tr>\n",
       "    <tr>\n",
       "      <td>12860</td>\n",
       "      <td>0</td>\n",
       "      <td>0</td>\n",
       "      <td>48.25</td>\n",
       "      <td>31</td>\n",
       "      <td>33</td>\n",
       "      <td>20</td>\n",
       "      <td>40</td>\n",
       "      <td>0</td>\n",
       "      <td>13</td>\n",
       "      <td>0</td>\n",
       "    </tr>\n",
       "    <tr>\n",
       "      <td>12861</td>\n",
       "      <td>12</td>\n",
       "      <td>0</td>\n",
       "      <td>46.75</td>\n",
       "      <td>29</td>\n",
       "      <td>13</td>\n",
       "      <td>47</td>\n",
       "      <td>27</td>\n",
       "      <td>10</td>\n",
       "      <td>53</td>\n",
       "      <td>0</td>\n",
       "    </tr>\n",
       "    <tr>\n",
       "      <td>12862</td>\n",
       "      <td>8</td>\n",
       "      <td>0</td>\n",
       "      <td>46.75</td>\n",
       "      <td>29</td>\n",
       "      <td>20</td>\n",
       "      <td>33</td>\n",
       "      <td>33</td>\n",
       "      <td>25</td>\n",
       "      <td>13</td>\n",
       "      <td>0</td>\n",
       "    </tr>\n",
       "    <tr>\n",
       "      <td>12863</td>\n",
       "      <td>3</td>\n",
       "      <td>0</td>\n",
       "      <td>46.375</td>\n",
       "      <td>27</td>\n",
       "      <td>27</td>\n",
       "      <td>13</td>\n",
       "      <td>40</td>\n",
       "      <td>40</td>\n",
       "      <td>33</td>\n",
       "      <td>0</td>\n",
       "    </tr>\n",
       "  </tbody>\n",
       "</table>\n",
       "<p>12864 rows × 10 columns</p>\n",
       "</div>"
      ],
      "text/plain": [
       "       Stream  Degree2 Score/800 Aptitude English Quantitative Analytical  \\\n",
       "0           1        0        73       69      87           53         67   \n",
       "1          19        0        73       76      80           73         73   \n",
       "2          12        0     72.25       71      73           73         67   \n",
       "3           1        0     72.25       71      93           40         80   \n",
       "4          12        0    71.875       64      73           47         73   \n",
       "...       ...      ...       ...      ...     ...          ...        ...   \n",
       "12859      19        0    50.125       31      47           20         27   \n",
       "12860       0        0     48.25       31      33           20         40   \n",
       "12861      12        0     46.75       29      13           47         27   \n",
       "12862       8        0     46.75       29      20           33         33   \n",
       "12863       3        0    46.375       27      27           13         40   \n",
       "\n",
       "      Domain Computer Fundamental Coding  \n",
       "0         30                   20     60  \n",
       "1         55                   40      0  \n",
       "2         55                   47     20  \n",
       "3         50                   33     20  \n",
       "4         55                   53     20  \n",
       "...      ...                  ...    ...  \n",
       "12859     35                   40      0  \n",
       "12860      0                   13      0  \n",
       "12861     10                   53      0  \n",
       "12862     25                   13      0  \n",
       "12863     40                   33      0  \n",
       "\n",
       "[12864 rows x 10 columns]"
      ]
     },
     "execution_count": 97,
     "metadata": {},
     "output_type": "execute_result"
    }
   ],
   "source": [
    "x"
   ]
  },
  {
   "cell_type": "code",
   "execution_count": 98,
   "metadata": {},
   "outputs": [
    {
     "data": {
      "text/html": [
       "<div>\n",
       "<style scoped>\n",
       "    .dataframe tbody tr th:only-of-type {\n",
       "        vertical-align: middle;\n",
       "    }\n",
       "\n",
       "    .dataframe tbody tr th {\n",
       "        vertical-align: top;\n",
       "    }\n",
       "\n",
       "    .dataframe thead th {\n",
       "        text-align: right;\n",
       "    }\n",
       "</style>\n",
       "<table border=\"1\" class=\"dataframe\">\n",
       "  <thead>\n",
       "    <tr style=\"text-align: right;\">\n",
       "      <th></th>\n",
       "      <th>output</th>\n",
       "    </tr>\n",
       "  </thead>\n",
       "  <tbody>\n",
       "    <tr>\n",
       "      <td>0</td>\n",
       "      <td>1</td>\n",
       "    </tr>\n",
       "    <tr>\n",
       "      <td>1</td>\n",
       "      <td>0</td>\n",
       "    </tr>\n",
       "    <tr>\n",
       "      <td>2</td>\n",
       "      <td>0</td>\n",
       "    </tr>\n",
       "    <tr>\n",
       "      <td>3</td>\n",
       "      <td>0</td>\n",
       "    </tr>\n",
       "    <tr>\n",
       "      <td>4</td>\n",
       "      <td>0</td>\n",
       "    </tr>\n",
       "    <tr>\n",
       "      <td>...</td>\n",
       "      <td>...</td>\n",
       "    </tr>\n",
       "    <tr>\n",
       "      <td>12859</td>\n",
       "      <td>0</td>\n",
       "    </tr>\n",
       "    <tr>\n",
       "      <td>12860</td>\n",
       "      <td>0</td>\n",
       "    </tr>\n",
       "    <tr>\n",
       "      <td>12861</td>\n",
       "      <td>0</td>\n",
       "    </tr>\n",
       "    <tr>\n",
       "      <td>12862</td>\n",
       "      <td>0</td>\n",
       "    </tr>\n",
       "    <tr>\n",
       "      <td>12863</td>\n",
       "      <td>0</td>\n",
       "    </tr>\n",
       "  </tbody>\n",
       "</table>\n",
       "<p>12864 rows × 1 columns</p>\n",
       "</div>"
      ],
      "text/plain": [
       "       output\n",
       "0           1\n",
       "1           0\n",
       "2           0\n",
       "3           0\n",
       "4           0\n",
       "...       ...\n",
       "12859       0\n",
       "12860       0\n",
       "12861       0\n",
       "12862       0\n",
       "12863       0\n",
       "\n",
       "[12864 rows x 1 columns]"
      ]
     },
     "execution_count": 98,
     "metadata": {},
     "output_type": "execute_result"
    }
   ],
   "source": [
    "y"
   ]
  },
  {
   "cell_type": "code",
   "execution_count": null,
   "metadata": {},
   "outputs": [],
   "source": []
  },
  {
   "cell_type": "code",
   "execution_count": 99,
   "metadata": {},
   "outputs": [
    {
     "name": "stdout",
     "output_type": "stream",
     "text": [
      "Shape of X before SMOTE: (12864, 10)\n",
      "Shape of X after SMOTE: (24194, 10)\n",
      "\n",
      "Balance of positive and negative classes (%):\n"
     ]
    },
    {
     "data": {
      "text/plain": [
       "1    50.0\n",
       "0    50.0\n",
       "Name: output, dtype: float64"
      ]
     },
     "execution_count": 99,
     "metadata": {},
     "output_type": "execute_result"
    }
   ],
   "source": [
    "from imblearn.over_sampling import SMOTE \n",
    "\n",
    "sm = SMOTE(random_state=42)\n",
    "\n",
    "X_sm, y_sm = sm.fit_resample(x, y)\n",
    "\n",
    "print(f'''Shape of X before SMOTE: {x.shape}\n",
    "Shape of X after SMOTE: {X_sm.shape}''')\n",
    "\n",
    "print('\\nBalance of positive and negative classes (%):')\n",
    "y_sm['output'].value_counts(normalize=True) * 100"
   ]
  },
  {
   "cell_type": "code",
   "execution_count": 100,
   "metadata": {},
   "outputs": [
    {
     "name": "stdout",
     "output_type": "stream",
     "text": [
      "Accuracy = 0.99\n",
      "Recall = 1.00\n",
      "\n"
     ]
    },
    {
     "data": {
      "image/png": "[encoded data removed]",
      "text/plain": [
       "<Figure size 576x432 with 2 Axes>"
      ]
     },
     "metadata": {
      "needs_background": "light"
     },
     "output_type": "display_data"
    }
   ],
   "source": [
    "from sklearn.ensemble import RandomForestClassifier\n",
    "from sklearn.metrics import accuracy_score, recall_score, confusion_matrix\n",
    "X_train, X_test, y_train, y_test = train_test_split(\n",
    "    X_sm, y_sm, test_size=0.25, random_state=42\n",
    ")\n",
    "\n",
    "model = RandomForestClassifier(random_state=42)\n",
    "model.fit(X_train, y_train)\n",
    "preds = model.predict(X_test)\n",
    "\n",
    "print(f'Accuracy = {accuracy_score(y_test, preds):.2f}\\nRecall = {recall_score(y_test, preds):.2f}\\n')\n",
    "cm = confusion_matrix(y_test, preds)\n",
    "plt.figure(figsize=(8, 6))\n",
    "plt.title('Confusion Matrix (with SMOTE)', size=16)\n",
    "sns.heatmap(cm, annot=True, cmap='Blues');"
   ]
  },
  {
   "cell_type": "code",
   "execution_count": 101,
   "metadata": {},
   "outputs": [
    {
     "name": "stdout",
     "output_type": "stream",
     "text": [
      "Accuracy = 0.80\n",
      "Recall = 0.83\n",
      "\n"
     ]
    },
    {
     "data": {
      "image/png": "[encoded data removed]",
      "text/plain": [
       "<Figure size 576x432 with 2 Axes>"
      ]
     },
     "metadata": {
      "needs_background": "light"
     },
     "output_type": "display_data"
    }
   ],
   "source": [
    "from sklearn.linear_model import  LogisticRegression\n",
    "from sklearn.metrics import accuracy_score, recall_score, confusion_matrix\n",
    "X_train, X_test, y_train, y_test = train_test_split(\n",
    "    X_sm, y_sm, test_size=0.25, random_state=42\n",
    ")\n",
    "\n",
    "model = LogisticRegression(random_state=42)\n",
    "model.fit(X_train, y_train)\n",
    "preds = model.predict(X_test)\n",
    "\n",
    "print(f'Accuracy = {accuracy_score(y_test, preds):.2f}\\nRecall = {recall_score(y_test, preds):.2f}\\n')\n",
    "cm = confusion_matrix(y_test, preds)\n",
    "plt.figure(figsize=(8, 6))\n",
    "plt.title('Confusion Matrix (with SMOTE)', size=16)\n",
    "sns.heatmap(cm, annot=True, cmap='Blues');"
   ]
  },
  {
   "cell_type": "code",
   "execution_count": 102,
   "metadata": {},
   "outputs": [
    {
     "name": "stdout",
     "output_type": "stream",
     "text": [
      "Accuracy = 0.87\n",
      "Recall = 0.95\n",
      "\n"
     ]
    },
    {
     "data": {
      "image/png": "[encoded data removed]",
      "text/plain": [
       "<Figure size 576x432 with 2 Axes>"
      ]
     },
     "metadata": {
      "needs_background": "light"
     },
     "output_type": "display_data"
    }
   ],
   "source": [
    "from sklearn.svm import SVC\n",
    "from sklearn.metrics import accuracy_score, recall_score, confusion_matrix\n",
    "X_train, X_test, y_train, y_test = train_test_split(\n",
    "    X_sm, y_sm, test_size=0.25, random_state=42\n",
    ")\n",
    "\n",
    "model = SVC(random_state=42)\n",
    "model.fit(X_train, y_train)\n",
    "preds = model.predict(X_test)\n",
    "\n",
    "print(f'Accuracy = {accuracy_score(y_test, preds):.2f}\\nRecall = {recall_score(y_test, preds):.2f}\\n')\n",
    "cm = confusion_matrix(y_test, preds)\n",
    "plt.figure(figsize=(8, 6))\n",
    "plt.title('Confusion Matrix (with SMOTE)', size=16)\n",
    "sns.heatmap(cm, annot=True, cmap='Blues');"
   ]
  },
  {
   "cell_type": "code",
   "execution_count": 103,
   "metadata": {},
   "outputs": [
    {
     "name": "stdout",
     "output_type": "stream",
     "text": [
      "Accuracy = 0.99\n",
      "Recall = 0.99\n",
      "\n"
     ]
    },
    {
     "data": {
      "image/png": "[encoded data removed]",
      "text/plain": [
       "<Figure size 576x432 with 2 Axes>"
      ]
     },
     "metadata": {
      "needs_background": "light"
     },
     "output_type": "display_data"
    }
   ],
   "source": [
    "from sklearn.tree import DecisionTreeClassifier\n",
    "from sklearn.metrics import accuracy_score, recall_score, confusion_matrix\n",
    "X_train, X_test, y_train, y_test = train_test_split(\n",
    "    X_sm, y_sm, test_size=0.25, random_state=42\n",
    ")\n",
    "\n",
    "model = DecisionTreeClassifier(random_state=42)\n",
    "model.fit(X_train, y_train)\n",
    "preds = model.predict(X_test)\n",
    "\n",
    "print(f'Accuracy = {accuracy_score(y_test, preds):.2f}\\nRecall = {recall_score(y_test, preds):.2f}\\n')\n",
    "cm = confusion_matrix(y_test, preds)\n",
    "plt.figure(figsize=(8, 6))\n",
    "plt.title('Confusion Matrix (with SMOTE)', size=16)\n",
    "sns.heatmap(cm, annot=True, cmap='Blues');"
   ]
  },
  {
   "cell_type": "code",
   "execution_count": 104,
   "metadata": {},
   "outputs": [
    {
     "name": "stdout",
     "output_type": "stream",
     "text": [
      "Accuracy = 0.95\n",
      "Recall = 1.00\n",
      "\n"
     ]
    },
    {
     "data": {
      "image/png": "[encoded data removed]",
      "text/plain": [
       "<Figure size 576x432 with 2 Axes>"
      ]
     },
     "metadata": {
      "needs_background": "light"
     },
     "output_type": "display_data"
    }
   ],
   "source": [
    "from sklearn.neighbors import KNeighborsClassifier\n",
    "from sklearn.metrics import accuracy_score, recall_score, confusion_matrix\n",
    "X_train, X_test, y_train, y_test = train_test_split(\n",
    "    X_sm, y_sm, test_size=0.25, random_state=42\n",
    ")\n",
    "\n",
    "model = KNeighborsClassifier(n_neighbors = 3)\n",
    "model.fit(X_train, y_train)\n",
    "preds = model.predict(X_test)\n",
    "\n",
    "print(f'Accuracy = {accuracy_score(y_test, preds):.2f}\\nRecall = {recall_score(y_test, preds):.2f}\\n')\n",
    "cm = confusion_matrix(y_test, preds)\n",
    "plt.figure(figsize=(8, 6))\n",
    "plt.title('Confusion Matrix (with SMOTE)', size=16)\n",
    "sns.heatmap(cm, annot=True, cmap='Blues');"
   ]
  },
  {
   "cell_type": "code",
   "execution_count": 105,
   "metadata": {},
   "outputs": [
    {
     "name": "stdout",
     "output_type": "stream",
     "text": [
      "Accuracy = 0.81\n",
      "Recall = 0.84\n",
      "\n"
     ]
    },
    {
     "data": {
      "image/png": "[encoded data removed]",
      "text/plain": [
       "<Figure size 576x432 with 2 Axes>"
      ]
     },
     "metadata": {
      "needs_background": "light"
     },
     "output_type": "display_data"
    }
   ],
   "source": [
    "from sklearn.naive_bayes import GaussianNB\n",
    "from sklearn.metrics import accuracy_score, recall_score, confusion_matrix\n",
    "X_train, X_test, y_train, y_test = train_test_split(\n",
    "    X_sm, y_sm, test_size=0.25, random_state=42\n",
    ")\n",
    "\n",
    "model = GaussianNB()\n",
    "model.fit(X_train, y_train)\n",
    "preds = model.predict(X_test)\n",
    "\n",
    "print(f'Accuracy = {accuracy_score(y_test, preds):.2f}\\nRecall = {recall_score(y_test, preds):.2f}\\n')\n",
    "cm = confusion_matrix(y_test, preds)\n",
    "plt.figure(figsize=(8, 6))\n",
    "plt.title('Confusion Matrix (with SMOTE)', size=16)\n",
    "sns.heatmap(cm, annot=True, cmap='Blues');"
   ]
  },
  {
   "cell_type": "code",
   "execution_count": 106,
   "metadata": {},
   "outputs": [],
   "source": [
    "from functools import reduce\n",
    "\n",
    "def _get_model_name(model):\n",
    "    \"\"\"\n",
    "            Returns a string with the name of a sklearn model\n",
    "                model: Sklearn stimator class\n",
    "    \"\"\"\n",
    "    if isinstance(model, Pipeline):\n",
    "        estimator = model.steps[-1][1]\n",
    "        name = \"Pipeline_\" + str(estimator)[:str(estimator).find(\"(\")]\n",
    "    else: \n",
    "        name = str(model)[:str(model).find(\"(\")]\n",
    "    return name\n",
    "    \n",
    "    \n",
    "def plot_cv_score(X, y, models_list, cv = 5, scoring_list = None, refit = True, return_scores = False):\n",
    "    \"\"\" \n",
    "            X: numpy_array/pandas dataframe n_rows, m_features\n",
    "            y: numpy_array/pandas dataframe n_rows\n",
    "            Plots min, max and avg kfold crosval_score for a list of models\n",
    "        \n",
    "    \"\"\"\n",
    "    \n",
    "        \n",
    "        \n",
    "    names, mean_score = list(), list()\n",
    "    ldf = list()\n",
    "    mnames = list()\n",
    "    \n",
    "    for i, model in enumerate(models_list):\n",
    "        name = _get_model_name(model)\n",
    "    \n",
    "        if refit:\n",
    "            model.fit(X, y)\n",
    "                \n",
    "        for metric in score_list:\n",
    "            \n",
    "            score = cross_val_score(model, X, y, cv = cv, scoring = metric, n_jobs= -1)\n",
    "            mean_score.append(np.mean(score))\n",
    "    \n",
    "    \n",
    "        tmp = pd.DataFrame({name: mean_score}, index = score_list)\n",
    "        \n",
    "            \n",
    "            \n",
    "        ldf.append(tmp)\n",
    "        \n",
    "        \n",
    "        mean_score = list()\n",
    "        \n",
    "    frame_scores = reduce(lambda x,y: pd.merge(x,y, left_index = True, right_index = True), ldf).T\n",
    "        \n",
    "    \n",
    "    \n",
    "    fig, ax  = plt.subplots(1,1, figsize = (10,5))\n",
    "\n",
    "    frame_scores.plot.bar(ax = ax, cmap = 'RdYlBu', edgecolor = \"black\")\n",
    "    ax.legend(loc = 'best')\n",
    "    ax.set_xlabel(\"Score\")\n",
    "    ax.set_title(\"Cross validation model benchmark\")\n",
    "\n",
    "    if return_scores:    \n",
    "        return frame_scores"
   ]
  },
  {
   "cell_type": "code",
   "execution_count": null,
   "metadata": {},
   "outputs": [],
   "source": [
    "from sklearn.metrics import accuracy_score, f1_score, roc_auc_score\n",
    "\n",
    "from sklearn.model_selection import cross_val_score\n",
    "from sklearn.svm import SVC\n",
    "from sklearn.linear_model import LogisticRegression\n",
    "from sklearn.ensemble import RandomForestClassifier\n",
    "from sklearn.naive_bayes import GaussianNB\n",
    "from sklearn.pipeline import Pipeline\n",
    "\n",
    "\n",
    "\n",
    "models_list =[LogisticRegression(random_state= 42),\n",
    "              SVC(probability= True),\n",
    "              RandomForestClassifier(random_state = 42),\n",
    "              GaussianNB()]\n",
    "\n",
    "score_list = [\"roc_auc\", \"accuracy\", \"f1\", \"precision\", \"recall\"]\n",
    "\n",
    "t = plot_cv_score(X = X_sm, y = y_sm, models_list = models_list, cv = 2, scoring_list = score_list, refit = True)"
   ]
  },
  {
   "cell_type": "code",
   "execution_count": null,
   "metadata": {},
   "outputs": [],
   "source": []
  },
  {
   "cell_type": "code",
   "execution_count": null,
   "metadata": {},
   "outputs": [],
   "source": []
  },
  {
   "cell_type": "code",
   "execution_count": null,
   "metadata": {},
   "outputs": [],
   "source": []
  }
 ],
 "metadata": {
  "kernelspec": {
   "display_name": "Python 3",
   "language": "python",
   "name": "python3"
  },
  "language_info": {
   "codemirror_mode": {
    "name": "ipython",
    "version": 3
   },
   "file_extension": ".py",
   "mimetype": "text/x-python",
   "name": "python",
   "nbconvert_exporter": "python",
   "pygments_lexer": "ipython3",
   "version": "3.7.10"
  },
  "toc": {
   "base_numbering": 1,
   "nav_menu": {},
   "number_sections": true,
   "sideBar": true,
   "skip_h1_title": false,
   "title_cell": "Table of Contents",
   "title_sidebar": "Contents",
   "toc_cell": false,
   "toc_position": {},
   "toc_section_display": true,
   "toc_window_display": false
  }
 },
 "nbformat": 4,
 "nbformat_minor": 2
}
